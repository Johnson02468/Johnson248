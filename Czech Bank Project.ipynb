{
 "cells": [
  {
   "cell_type": "markdown",
   "metadata": {},
   "source": [
    "# Practice Exercise: Cleaning data & Transforming columns/features"
   ]
  },
  {
   "cell_type": "markdown",
   "metadata": {},
   "source": [
    "## Context:\n",
    "- The data is based on real anonymized Czech bank transactions and account info.\n",
    "- We'll be focusing on practicing the data cleaning, columns transformations, and other techniques that we've learned in the course. \n",
    "- But here is the original task description of the dataset publishers:\n",
    "\n",
    "*The bank wants to improve their services. For instance, the bank managers have only vague idea, who is a good client (whom to offer some additional services)   and who is a bad client (whom to watch carefully to minimize the bank losses). Fortunately, the bank stores data about their clients, the accounts (transactions within several months), the loans already granted, the credit cards issued. The bank managers hope to improve their understanding of customers and seek specific actions to improve services.*\n",
    "\n",
    "- We've made minor changes on the data to fit this exercise, such as changing the column names. Check out the original source if you are interested in using this data for other purposes (https://data.world/lpetrocelli/czech-financial-dataset-real-anonymized-transactions)"
   ]
  },
  {
   "cell_type": "markdown",
   "metadata": {},
   "source": [
    "## Dataset Description:\n",
    "\n",
    "We'll work on three datasets (in three separate csv files):\n",
    "\n",
    "  - **account**: each record describes static characteristics of an account\n",
    "  - **transaction**: each record describes one transaction on an account\n",
    "  - **district**: each record describes demographic characteristics of a district\n",
    "  \n",
    "In reality, the organizations like banks often have data stored in multiple datasets. Assume we want to study the transactional level data, we'll need to combine these three datasets together to have transactions data with account and district data."
   ]
  },
  {
   "cell_type": "markdown",
   "metadata": {},
   "source": [
    "## Objective: \n",
    "   - Examine/clean the individual dataset\n",
    "   - Combine them into a single dataset, which is subject to more cleaning\n",
    "   - Create new columns based on existing columns\n",
    "\n",
    "By the end, the new dataset is ready for more analysis."
   ]
  },
  {
   "cell_type": "markdown",
   "metadata": {},
   "source": [
    "### 1. Import the libraries"
   ]
  },
  {
   "cell_type": "code",
   "execution_count": 1,
   "metadata": {},
   "outputs": [],
   "source": [
    "import pandas as pd\n",
    "from sklearn.impute import SimpleImputer"
   ]
  },
  {
   "cell_type": "markdown",
   "metadata": {},
   "source": [
    "### 2. Import the data from three csv files as DataFrames `account`, `district`, `trans`\n",
    "Hint: \n",
    "- the `read_csv` function can automatically infer and load zip file, read its documentation of parameter `compression` if you are interested in details\n",
    "- you may ignore the warning when reading the `trans.csv.zip` file. It is optional to follow the warning instructions to remove it."
   ]
  },
  {
   "cell_type": "code",
   "execution_count": 2,
   "metadata": {},
   "outputs": [
    {
     "name": "stderr",
     "output_type": "stream",
     "text": [
      "/var/folders/1q/9cbgvv293tg7kpdrsjkwhss80000gn/T/ipykernel_6068/3919704612.py:3: DtypeWarning: Columns (8) have mixed types. Specify dtype option on import or set low_memory=False.\n",
      "  trans = pd.read_csv('trans.csv.zip')\n"
     ]
    }
   ],
   "source": [
    "account = pd.read_csv('account.csv')\n",
    "district = pd.read_csv('district.csv')\n",
    "trans = pd.read_csv('trans.csv.zip')"
   ]
  },
  {
   "cell_type": "markdown",
   "metadata": {},
   "source": [
    "### 3. Look at the info summary, head of each DataFrame"
   ]
  },
  {
   "cell_type": "code",
   "execution_count": 3,
   "metadata": {},
   "outputs": [
    {
     "data": {
      "text/html": [
       "<div>\n",
       "<style scoped>\n",
       "    .dataframe tbody tr th:only-of-type {\n",
       "        vertical-align: middle;\n",
       "    }\n",
       "\n",
       "    .dataframe tbody tr th {\n",
       "        vertical-align: top;\n",
       "    }\n",
       "\n",
       "    .dataframe thead th {\n",
       "        text-align: right;\n",
       "    }\n",
       "</style>\n",
       "<table border=\"1\" class=\"dataframe\">\n",
       "  <thead>\n",
       "    <tr style=\"text-align: right;\">\n",
       "      <th></th>\n",
       "      <th>trans_id</th>\n",
       "      <th>account_id</th>\n",
       "      <th>date</th>\n",
       "      <th>type</th>\n",
       "      <th>operation_type</th>\n",
       "      <th>amount</th>\n",
       "      <th>balance</th>\n",
       "      <th>description</th>\n",
       "      <th>partner_bank</th>\n",
       "      <th>partner_account</th>\n",
       "    </tr>\n",
       "  </thead>\n",
       "  <tbody>\n",
       "    <tr>\n",
       "      <th>0</th>\n",
       "      <td>695247</td>\n",
       "      <td>2378</td>\n",
       "      <td>1993-01-01</td>\n",
       "      <td>CREDIT</td>\n",
       "      <td>CREDIT IN CASH</td>\n",
       "      <td>700.0</td>\n",
       "      <td>700.0</td>\n",
       "      <td>NaN</td>\n",
       "      <td>NaN</td>\n",
       "      <td>NaN</td>\n",
       "    </tr>\n",
       "    <tr>\n",
       "      <th>1</th>\n",
       "      <td>171812</td>\n",
       "      <td>576</td>\n",
       "      <td>1993-01-01</td>\n",
       "      <td>CREDIT</td>\n",
       "      <td>CREDIT IN CASH</td>\n",
       "      <td>900.0</td>\n",
       "      <td>900.0</td>\n",
       "      <td>NaN</td>\n",
       "      <td>NaN</td>\n",
       "      <td>NaN</td>\n",
       "    </tr>\n",
       "    <tr>\n",
       "      <th>2</th>\n",
       "      <td>207264</td>\n",
       "      <td>704</td>\n",
       "      <td>1993-01-01</td>\n",
       "      <td>CREDIT</td>\n",
       "      <td>CREDIT IN CASH</td>\n",
       "      <td>1000.0</td>\n",
       "      <td>1000.0</td>\n",
       "      <td>NaN</td>\n",
       "      <td>NaN</td>\n",
       "      <td>NaN</td>\n",
       "    </tr>\n",
       "    <tr>\n",
       "      <th>3</th>\n",
       "      <td>1117247</td>\n",
       "      <td>3818</td>\n",
       "      <td>1993-01-01</td>\n",
       "      <td>CREDIT</td>\n",
       "      <td>CREDIT IN CASH</td>\n",
       "      <td>600.0</td>\n",
       "      <td>600.0</td>\n",
       "      <td>NaN</td>\n",
       "      <td>NaN</td>\n",
       "      <td>NaN</td>\n",
       "    </tr>\n",
       "    <tr>\n",
       "      <th>4</th>\n",
       "      <td>579373</td>\n",
       "      <td>1972</td>\n",
       "      <td>1993-01-02</td>\n",
       "      <td>CREDIT</td>\n",
       "      <td>CREDIT IN CASH</td>\n",
       "      <td>400.0</td>\n",
       "      <td>400.0</td>\n",
       "      <td>NaN</td>\n",
       "      <td>NaN</td>\n",
       "      <td>NaN</td>\n",
       "    </tr>\n",
       "  </tbody>\n",
       "</table>\n",
       "</div>"
      ],
      "text/plain": [
       "   trans_id  account_id        date    type  operation_type  amount  balance  \\\n",
       "0    695247        2378  1993-01-01  CREDIT  CREDIT IN CASH   700.0    700.0   \n",
       "1    171812         576  1993-01-01  CREDIT  CREDIT IN CASH   900.0    900.0   \n",
       "2    207264         704  1993-01-01  CREDIT  CREDIT IN CASH  1000.0   1000.0   \n",
       "3   1117247        3818  1993-01-01  CREDIT  CREDIT IN CASH   600.0    600.0   \n",
       "4    579373        1972  1993-01-02  CREDIT  CREDIT IN CASH   400.0    400.0   \n",
       "\n",
       "  description partner_bank  partner_account  \n",
       "0         NaN          NaN              NaN  \n",
       "1         NaN          NaN              NaN  \n",
       "2         NaN          NaN              NaN  \n",
       "3         NaN          NaN              NaN  \n",
       "4         NaN          NaN              NaN  "
      ]
     },
     "execution_count": 3,
     "metadata": {},
     "output_type": "execute_result"
    }
   ],
   "source": [
    "trans.head()"
   ]
  },
  {
   "cell_type": "code",
   "execution_count": 4,
   "metadata": {},
   "outputs": [
    {
     "data": {
      "text/html": [
       "<div>\n",
       "<style scoped>\n",
       "    .dataframe tbody tr th:only-of-type {\n",
       "        vertical-align: middle;\n",
       "    }\n",
       "\n",
       "    .dataframe tbody tr th {\n",
       "        vertical-align: top;\n",
       "    }\n",
       "\n",
       "    .dataframe thead th {\n",
       "        text-align: right;\n",
       "    }\n",
       "</style>\n",
       "<table border=\"1\" class=\"dataframe\">\n",
       "  <thead>\n",
       "    <tr style=\"text-align: right;\">\n",
       "      <th></th>\n",
       "      <th>account_id</th>\n",
       "      <th>district_id</th>\n",
       "      <th>frequency</th>\n",
       "      <th>account_open_date</th>\n",
       "      <th>client_id</th>\n",
       "    </tr>\n",
       "  </thead>\n",
       "  <tbody>\n",
       "    <tr>\n",
       "      <th>0</th>\n",
       "      <td>576</td>\n",
       "      <td>55</td>\n",
       "      <td>MONTHLY STATEMENTS</td>\n",
       "      <td>1993-01-01</td>\n",
       "      <td>692</td>\n",
       "    </tr>\n",
       "    <tr>\n",
       "      <th>1</th>\n",
       "      <td>3818</td>\n",
       "      <td>74</td>\n",
       "      <td>MONTHLY STATEMENTS</td>\n",
       "      <td>1993-01-01</td>\n",
       "      <td>4601</td>\n",
       "    </tr>\n",
       "    <tr>\n",
       "      <th>2</th>\n",
       "      <td>704</td>\n",
       "      <td>55</td>\n",
       "      <td>MONTHLY STATEMENTS</td>\n",
       "      <td>1993-01-01</td>\n",
       "      <td>844</td>\n",
       "    </tr>\n",
       "    <tr>\n",
       "      <th>3</th>\n",
       "      <td>2378</td>\n",
       "      <td>16</td>\n",
       "      <td>MONTHLY STATEMENTS</td>\n",
       "      <td>1993-01-01</td>\n",
       "      <td>2873</td>\n",
       "    </tr>\n",
       "    <tr>\n",
       "      <th>4</th>\n",
       "      <td>2632</td>\n",
       "      <td>24</td>\n",
       "      <td>MONTHLY STATEMENTS</td>\n",
       "      <td>1993-01-02</td>\n",
       "      <td>3177</td>\n",
       "    </tr>\n",
       "  </tbody>\n",
       "</table>\n",
       "</div>"
      ],
      "text/plain": [
       "   account_id  district_id           frequency account_open_date  client_id\n",
       "0         576           55  MONTHLY STATEMENTS        1993-01-01        692\n",
       "1        3818           74  MONTHLY STATEMENTS        1993-01-01       4601\n",
       "2         704           55  MONTHLY STATEMENTS        1993-01-01        844\n",
       "3        2378           16  MONTHLY STATEMENTS        1993-01-01       2873\n",
       "4        2632           24  MONTHLY STATEMENTS        1993-01-02       3177"
      ]
     },
     "execution_count": 4,
     "metadata": {},
     "output_type": "execute_result"
    }
   ],
   "source": [
    "account.head()"
   ]
  },
  {
   "cell_type": "code",
   "execution_count": 5,
   "metadata": {},
   "outputs": [
    {
     "data": {
      "text/html": [
       "<div>\n",
       "<style scoped>\n",
       "    .dataframe tbody tr th:only-of-type {\n",
       "        vertical-align: middle;\n",
       "    }\n",
       "\n",
       "    .dataframe tbody tr th {\n",
       "        vertical-align: top;\n",
       "    }\n",
       "\n",
       "    .dataframe thead th {\n",
       "        text-align: right;\n",
       "    }\n",
       "</style>\n",
       "<table border=\"1\" class=\"dataframe\">\n",
       "  <thead>\n",
       "    <tr style=\"text-align: right;\">\n",
       "      <th></th>\n",
       "      <th>district_id</th>\n",
       "      <th>district_name</th>\n",
       "      <th>region</th>\n",
       "      <th>population</th>\n",
       "      <th>average_salary</th>\n",
       "      <th>unemployment_rate</th>\n",
       "      <th>num_committed_crimes</th>\n",
       "    </tr>\n",
       "  </thead>\n",
       "  <tbody>\n",
       "    <tr>\n",
       "      <th>0</th>\n",
       "      <td>1</td>\n",
       "      <td>Hl.m. Praha</td>\n",
       "      <td>Prague</td>\n",
       "      <td>1204953</td>\n",
       "      <td>12541.0</td>\n",
       "      <td>0.43</td>\n",
       "      <td>99107.0</td>\n",
       "    </tr>\n",
       "    <tr>\n",
       "      <th>1</th>\n",
       "      <td>2</td>\n",
       "      <td>Benesov</td>\n",
       "      <td>central Bohemia</td>\n",
       "      <td>88884</td>\n",
       "      <td>NaN</td>\n",
       "      <td>NaN</td>\n",
       "      <td>2674.0</td>\n",
       "    </tr>\n",
       "    <tr>\n",
       "      <th>2</th>\n",
       "      <td>3</td>\n",
       "      <td>Beroun</td>\n",
       "      <td>central Bohemia</td>\n",
       "      <td>75232</td>\n",
       "      <td>8980.0</td>\n",
       "      <td>2.21</td>\n",
       "      <td>2813.0</td>\n",
       "    </tr>\n",
       "    <tr>\n",
       "      <th>3</th>\n",
       "      <td>4</td>\n",
       "      <td>Kladno</td>\n",
       "      <td>central Bohemia</td>\n",
       "      <td>149893</td>\n",
       "      <td>9753.0</td>\n",
       "      <td>5.05</td>\n",
       "      <td>NaN</td>\n",
       "    </tr>\n",
       "    <tr>\n",
       "      <th>4</th>\n",
       "      <td>5</td>\n",
       "      <td>Kolin</td>\n",
       "      <td>central Bohemia</td>\n",
       "      <td>95616</td>\n",
       "      <td>9307.0</td>\n",
       "      <td>4.43</td>\n",
       "      <td>NaN</td>\n",
       "    </tr>\n",
       "  </tbody>\n",
       "</table>\n",
       "</div>"
      ],
      "text/plain": [
       "   district_id district_name           region  population  average_salary  \\\n",
       "0            1   Hl.m. Praha           Prague     1204953         12541.0   \n",
       "1            2       Benesov  central Bohemia       88884             NaN   \n",
       "2            3        Beroun  central Bohemia       75232          8980.0   \n",
       "3            4        Kladno  central Bohemia      149893          9753.0   \n",
       "4            5         Kolin  central Bohemia       95616          9307.0   \n",
       "\n",
       "   unemployment_rate  num_committed_crimes  \n",
       "0               0.43               99107.0  \n",
       "1                NaN                2674.0  \n",
       "2               2.21                2813.0  \n",
       "3               5.05                   NaN  \n",
       "4               4.43                   NaN  "
      ]
     },
     "execution_count": 5,
     "metadata": {},
     "output_type": "execute_result"
    }
   ],
   "source": [
    "district.head()"
   ]
  },
  {
   "cell_type": "code",
   "execution_count": 6,
   "metadata": {},
   "outputs": [
    {
     "name": "stdout",
     "output_type": "stream",
     "text": [
      "<class 'pandas.core.frame.DataFrame'>\n",
      "RangeIndex: 1056320 entries, 0 to 1056319\n",
      "Data columns (total 10 columns):\n",
      " #   Column           Non-Null Count    Dtype  \n",
      "---  ------           --------------    -----  \n",
      " 0   trans_id         1056320 non-null  int64  \n",
      " 1   account_id       1056320 non-null  int64  \n",
      " 2   date             1056320 non-null  object \n",
      " 3   type             1056320 non-null  object \n",
      " 4   operation_type   873206 non-null   object \n",
      " 5   amount           1056320 non-null  float64\n",
      " 6   balance          1056320 non-null  float64\n",
      " 7   description      574439 non-null   object \n",
      " 8   partner_bank     273508 non-null   object \n",
      " 9   partner_account  295389 non-null   float64\n",
      "dtypes: float64(3), int64(2), object(5)\n",
      "memory usage: 80.6+ MB\n"
     ]
    }
   ],
   "source": [
    "trans.info()"
   ]
  },
  {
   "cell_type": "code",
   "execution_count": 7,
   "metadata": {},
   "outputs": [
    {
     "name": "stdout",
     "output_type": "stream",
     "text": [
      "<class 'pandas.core.frame.DataFrame'>\n",
      "RangeIndex: 76 entries, 0 to 75\n",
      "Data columns (total 7 columns):\n",
      " #   Column                Non-Null Count  Dtype  \n",
      "---  ------                --------------  -----  \n",
      " 0   district_id           76 non-null     int64  \n",
      " 1   district_name         76 non-null     object \n",
      " 2   region                76 non-null     object \n",
      " 3   population            76 non-null     int64  \n",
      " 4   average_salary        66 non-null     float64\n",
      " 5   unemployment_rate     66 non-null     float64\n",
      " 6   num_committed_crimes  67 non-null     float64\n",
      "dtypes: float64(3), int64(2), object(2)\n",
      "memory usage: 4.3+ KB\n"
     ]
    }
   ],
   "source": [
    "district.info()"
   ]
  },
  {
   "cell_type": "code",
   "execution_count": 8,
   "metadata": {},
   "outputs": [
    {
     "name": "stdout",
     "output_type": "stream",
     "text": [
      "<class 'pandas.core.frame.DataFrame'>\n",
      "RangeIndex: 4500 entries, 0 to 4499\n",
      "Data columns (total 5 columns):\n",
      " #   Column             Non-Null Count  Dtype \n",
      "---  ------             --------------  ----- \n",
      " 0   account_id         4500 non-null   int64 \n",
      " 1   district_id        4500 non-null   int64 \n",
      " 2   frequency          4500 non-null   object\n",
      " 3   account_open_date  4500 non-null   object\n",
      " 4   client_id          4500 non-null   int64 \n",
      "dtypes: int64(3), object(2)\n",
      "memory usage: 175.9+ KB\n"
     ]
    }
   ],
   "source": [
    "account.info()"
   ]
  },
  {
   "cell_type": "markdown",
   "metadata": {},
   "source": [
    "### 4. Check for the unique values and their counts in each column for the three DataFrames"
   ]
  },
  {
   "cell_type": "code",
   "execution_count": 9,
   "metadata": {},
   "outputs": [
    {
     "data": {
      "text/plain": [
       "trans_id           1056320\n",
       "account_id            4500\n",
       "date                  2191\n",
       "type                     2\n",
       "operation_type           5\n",
       "amount               40400\n",
       "balance             542739\n",
       "description              8\n",
       "partner_bank            13\n",
       "partner_account       7665\n",
       "dtype: int64"
      ]
     },
     "execution_count": 9,
     "metadata": {},
     "output_type": "execute_result"
    }
   ],
   "source": [
    "trans.nunique()"
   ]
  },
  {
   "cell_type": "code",
   "execution_count": 10,
   "metadata": {},
   "outputs": [
    {
     "data": {
      "text/plain": [
       "district_id             76\n",
       "district_name           76\n",
       "region                   8\n",
       "population              76\n",
       "average_salary          65\n",
       "unemployment_rate       63\n",
       "num_committed_crimes    66\n",
       "dtype: int64"
      ]
     },
     "execution_count": 10,
     "metadata": {},
     "output_type": "execute_result"
    }
   ],
   "source": [
    "district.nunique()"
   ]
  },
  {
   "cell_type": "code",
   "execution_count": 11,
   "metadata": {},
   "outputs": [
    {
     "data": {
      "text/plain": [
       "account_id           4500\n",
       "district_id            77\n",
       "frequency               3\n",
       "account_open_date    1535\n",
       "client_id            4500\n",
       "dtype: int64"
      ]
     },
     "execution_count": 11,
     "metadata": {},
     "output_type": "execute_result"
    }
   ],
   "source": [
    "account.nunique()"
   ]
  },
  {
   "cell_type": "markdown",
   "metadata": {},
   "source": [
    "### 5. Check for duplicates in the three DataFrames"
   ]
  },
  {
   "cell_type": "code",
   "execution_count": 12,
   "metadata": {},
   "outputs": [],
   "source": [
    "# check for duplicate rows df[df.duplicated()]"
   ]
  },
  {
   "cell_type": "code",
   "execution_count": 13,
   "metadata": {},
   "outputs": [
    {
     "data": {
      "text/html": [
       "<div>\n",
       "<style scoped>\n",
       "    .dataframe tbody tr th:only-of-type {\n",
       "        vertical-align: middle;\n",
       "    }\n",
       "\n",
       "    .dataframe tbody tr th {\n",
       "        vertical-align: top;\n",
       "    }\n",
       "\n",
       "    .dataframe thead th {\n",
       "        text-align: right;\n",
       "    }\n",
       "</style>\n",
       "<table border=\"1\" class=\"dataframe\">\n",
       "  <thead>\n",
       "    <tr style=\"text-align: right;\">\n",
       "      <th></th>\n",
       "      <th>account_id</th>\n",
       "      <th>district_id</th>\n",
       "      <th>frequency</th>\n",
       "      <th>account_open_date</th>\n",
       "      <th>client_id</th>\n",
       "    </tr>\n",
       "  </thead>\n",
       "  <tbody>\n",
       "  </tbody>\n",
       "</table>\n",
       "</div>"
      ],
      "text/plain": [
       "Empty DataFrame\n",
       "Columns: [account_id, district_id, frequency, account_open_date, client_id]\n",
       "Index: []"
      ]
     },
     "execution_count": 13,
     "metadata": {},
     "output_type": "execute_result"
    }
   ],
   "source": [
    "account[account.duplicated()]"
   ]
  },
  {
   "cell_type": "code",
   "execution_count": 14,
   "metadata": {},
   "outputs": [
    {
     "data": {
      "text/html": [
       "<div>\n",
       "<style scoped>\n",
       "    .dataframe tbody tr th:only-of-type {\n",
       "        vertical-align: middle;\n",
       "    }\n",
       "\n",
       "    .dataframe tbody tr th {\n",
       "        vertical-align: top;\n",
       "    }\n",
       "\n",
       "    .dataframe thead th {\n",
       "        text-align: right;\n",
       "    }\n",
       "</style>\n",
       "<table border=\"1\" class=\"dataframe\">\n",
       "  <thead>\n",
       "    <tr style=\"text-align: right;\">\n",
       "      <th></th>\n",
       "      <th>trans_id</th>\n",
       "      <th>account_id</th>\n",
       "      <th>date</th>\n",
       "      <th>type</th>\n",
       "      <th>operation_type</th>\n",
       "      <th>amount</th>\n",
       "      <th>balance</th>\n",
       "      <th>description</th>\n",
       "      <th>partner_bank</th>\n",
       "      <th>partner_account</th>\n",
       "    </tr>\n",
       "  </thead>\n",
       "  <tbody>\n",
       "  </tbody>\n",
       "</table>\n",
       "</div>"
      ],
      "text/plain": [
       "Empty DataFrame\n",
       "Columns: [trans_id, account_id, date, type, operation_type, amount, balance, description, partner_bank, partner_account]\n",
       "Index: []"
      ]
     },
     "execution_count": 14,
     "metadata": {},
     "output_type": "execute_result"
    }
   ],
   "source": [
    "trans[trans.duplicated()]"
   ]
  },
  {
   "cell_type": "code",
   "execution_count": 15,
   "metadata": {},
   "outputs": [
    {
     "data": {
      "text/html": [
       "<div>\n",
       "<style scoped>\n",
       "    .dataframe tbody tr th:only-of-type {\n",
       "        vertical-align: middle;\n",
       "    }\n",
       "\n",
       "    .dataframe tbody tr th {\n",
       "        vertical-align: top;\n",
       "    }\n",
       "\n",
       "    .dataframe thead th {\n",
       "        text-align: right;\n",
       "    }\n",
       "</style>\n",
       "<table border=\"1\" class=\"dataframe\">\n",
       "  <thead>\n",
       "    <tr style=\"text-align: right;\">\n",
       "      <th></th>\n",
       "      <th>account_id</th>\n",
       "      <th>district_id</th>\n",
       "      <th>frequency</th>\n",
       "      <th>account_open_date</th>\n",
       "      <th>client_id</th>\n",
       "    </tr>\n",
       "  </thead>\n",
       "  <tbody>\n",
       "  </tbody>\n",
       "</table>\n",
       "</div>"
      ],
      "text/plain": [
       "Empty DataFrame\n",
       "Columns: [account_id, district_id, frequency, account_open_date, client_id]\n",
       "Index: []"
      ]
     },
     "execution_count": 15,
     "metadata": {},
     "output_type": "execute_result"
    }
   ],
   "source": [
    "account[account.duplicated()]"
   ]
  },
  {
   "cell_type": "code",
   "execution_count": 16,
   "metadata": {},
   "outputs": [],
   "source": [
    "#Note all of the dataframes have the same amount of rows listed earlier, therefore there are no duplicates"
   ]
  },
  {
   "cell_type": "markdown",
   "metadata": {},
   "source": [
    "### 6. Convert column `account_open_date` in `account` and column `date` in `trans` into datetime dtypes"
   ]
  },
  {
   "cell_type": "code",
   "execution_count": 17,
   "metadata": {},
   "outputs": [
    {
     "data": {
      "text/plain": [
       "0      1993-01-01\n",
       "1      1993-01-01\n",
       "2      1993-01-01\n",
       "3      1993-01-01\n",
       "4      1993-01-02\n",
       "          ...    \n",
       "4495   1997-12-28\n",
       "4496   1997-12-28\n",
       "4497   1997-12-28\n",
       "4498   1997-12-29\n",
       "4499   1997-12-29\n",
       "Name: account_open_date, Length: 4500, dtype: datetime64[ns]"
      ]
     },
     "execution_count": 17,
     "metadata": {},
     "output_type": "execute_result"
    }
   ],
   "source": [
    "pd.to_datetime(account['account_open_date'])"
   ]
  },
  {
   "cell_type": "code",
   "execution_count": 18,
   "metadata": {},
   "outputs": [
    {
     "data": {
      "text/plain": [
       "0         1993-01-01\n",
       "1         1993-01-01\n",
       "2         1993-01-01\n",
       "3         1993-01-01\n",
       "4         1993-01-02\n",
       "             ...    \n",
       "1056315   1998-12-31\n",
       "1056316   1998-12-31\n",
       "1056317   1998-12-31\n",
       "1056318   1998-12-31\n",
       "1056319   1998-12-31\n",
       "Name: date, Length: 1056320, dtype: datetime64[ns]"
      ]
     },
     "execution_count": 18,
     "metadata": {},
     "output_type": "execute_result"
    }
   ],
   "source": [
    "pd.to_datetime(trans['date'])"
   ]
  },
  {
   "cell_type": "markdown",
   "metadata": {},
   "source": [
    "### 7. Convert the columns `region` and `district_name` in `district` to all uppercase"
   ]
  },
  {
   "cell_type": "code",
   "execution_count": 19,
   "metadata": {},
   "outputs": [
    {
     "data": {
      "text/html": [
       "<div>\n",
       "<style scoped>\n",
       "    .dataframe tbody tr th:only-of-type {\n",
       "        vertical-align: middle;\n",
       "    }\n",
       "\n",
       "    .dataframe tbody tr th {\n",
       "        vertical-align: top;\n",
       "    }\n",
       "\n",
       "    .dataframe thead th {\n",
       "        text-align: right;\n",
       "    }\n",
       "</style>\n",
       "<table border=\"1\" class=\"dataframe\">\n",
       "  <thead>\n",
       "    <tr style=\"text-align: right;\">\n",
       "      <th></th>\n",
       "      <th>district_id</th>\n",
       "      <th>DISTRICT_NAME</th>\n",
       "      <th>REGION</th>\n",
       "      <th>population</th>\n",
       "      <th>average_salary</th>\n",
       "      <th>unemployment_rate</th>\n",
       "      <th>num_committed_crimes</th>\n",
       "    </tr>\n",
       "  </thead>\n",
       "  <tbody>\n",
       "    <tr>\n",
       "      <th>0</th>\n",
       "      <td>1</td>\n",
       "      <td>Hl.m. Praha</td>\n",
       "      <td>Prague</td>\n",
       "      <td>1204953</td>\n",
       "      <td>12541.0</td>\n",
       "      <td>0.43</td>\n",
       "      <td>99107.0</td>\n",
       "    </tr>\n",
       "    <tr>\n",
       "      <th>1</th>\n",
       "      <td>2</td>\n",
       "      <td>Benesov</td>\n",
       "      <td>central Bohemia</td>\n",
       "      <td>88884</td>\n",
       "      <td>NaN</td>\n",
       "      <td>NaN</td>\n",
       "      <td>2674.0</td>\n",
       "    </tr>\n",
       "    <tr>\n",
       "      <th>2</th>\n",
       "      <td>3</td>\n",
       "      <td>Beroun</td>\n",
       "      <td>central Bohemia</td>\n",
       "      <td>75232</td>\n",
       "      <td>8980.0</td>\n",
       "      <td>2.21</td>\n",
       "      <td>2813.0</td>\n",
       "    </tr>\n",
       "    <tr>\n",
       "      <th>3</th>\n",
       "      <td>4</td>\n",
       "      <td>Kladno</td>\n",
       "      <td>central Bohemia</td>\n",
       "      <td>149893</td>\n",
       "      <td>9753.0</td>\n",
       "      <td>5.05</td>\n",
       "      <td>NaN</td>\n",
       "    </tr>\n",
       "    <tr>\n",
       "      <th>4</th>\n",
       "      <td>5</td>\n",
       "      <td>Kolin</td>\n",
       "      <td>central Bohemia</td>\n",
       "      <td>95616</td>\n",
       "      <td>9307.0</td>\n",
       "      <td>4.43</td>\n",
       "      <td>NaN</td>\n",
       "    </tr>\n",
       "    <tr>\n",
       "      <th>...</th>\n",
       "      <td>...</td>\n",
       "      <td>...</td>\n",
       "      <td>...</td>\n",
       "      <td>...</td>\n",
       "      <td>...</td>\n",
       "      <td>...</td>\n",
       "      <td>...</td>\n",
       "    </tr>\n",
       "    <tr>\n",
       "      <th>71</th>\n",
       "      <td>72</td>\n",
       "      <td>Olomouc</td>\n",
       "      <td>north Moravia</td>\n",
       "      <td>226122</td>\n",
       "      <td>NaN</td>\n",
       "      <td>4.79</td>\n",
       "      <td>9208.0</td>\n",
       "    </tr>\n",
       "    <tr>\n",
       "      <th>72</th>\n",
       "      <td>73</td>\n",
       "      <td>Opava</td>\n",
       "      <td>north Moravia</td>\n",
       "      <td>182027</td>\n",
       "      <td>8746.0</td>\n",
       "      <td>3.74</td>\n",
       "      <td>4433.0</td>\n",
       "    </tr>\n",
       "    <tr>\n",
       "      <th>73</th>\n",
       "      <td>74</td>\n",
       "      <td>Ostrava - mesto</td>\n",
       "      <td>north Moravia</td>\n",
       "      <td>323870</td>\n",
       "      <td>10673.0</td>\n",
       "      <td>5.44</td>\n",
       "      <td>18347.0</td>\n",
       "    </tr>\n",
       "    <tr>\n",
       "      <th>74</th>\n",
       "      <td>75</td>\n",
       "      <td>Prerov</td>\n",
       "      <td>north Moravia</td>\n",
       "      <td>138032</td>\n",
       "      <td>8819.0</td>\n",
       "      <td>5.66</td>\n",
       "      <td>4505.0</td>\n",
       "    </tr>\n",
       "    <tr>\n",
       "      <th>75</th>\n",
       "      <td>76</td>\n",
       "      <td>Sumperk</td>\n",
       "      <td>north Moravia</td>\n",
       "      <td>127369</td>\n",
       "      <td>8369.0</td>\n",
       "      <td>NaN</td>\n",
       "      <td>2807.0</td>\n",
       "    </tr>\n",
       "  </tbody>\n",
       "</table>\n",
       "<p>76 rows × 7 columns</p>\n",
       "</div>"
      ],
      "text/plain": [
       "    district_id    DISTRICT_NAME           REGION  population  average_salary  \\\n",
       "0             1      Hl.m. Praha           Prague     1204953         12541.0   \n",
       "1             2          Benesov  central Bohemia       88884             NaN   \n",
       "2             3           Beroun  central Bohemia       75232          8980.0   \n",
       "3             4           Kladno  central Bohemia      149893          9753.0   \n",
       "4             5            Kolin  central Bohemia       95616          9307.0   \n",
       "..          ...              ...              ...         ...             ...   \n",
       "71           72          Olomouc    north Moravia      226122             NaN   \n",
       "72           73            Opava    north Moravia      182027          8746.0   \n",
       "73           74  Ostrava - mesto    north Moravia      323870         10673.0   \n",
       "74           75           Prerov    north Moravia      138032          8819.0   \n",
       "75           76          Sumperk    north Moravia      127369          8369.0   \n",
       "\n",
       "    unemployment_rate  num_committed_crimes  \n",
       "0                0.43               99107.0  \n",
       "1                 NaN                2674.0  \n",
       "2                2.21                2813.0  \n",
       "3                5.05                   NaN  \n",
       "4                4.43                   NaN  \n",
       "..                ...                   ...  \n",
       "71               4.79                9208.0  \n",
       "72               3.74                4433.0  \n",
       "73               5.44               18347.0  \n",
       "74               5.66                4505.0  \n",
       "75                NaN                2807.0  \n",
       "\n",
       "[76 rows x 7 columns]"
      ]
     },
     "execution_count": 19,
     "metadata": {},
     "output_type": "execute_result"
    }
   ],
   "source": [
    "district.rename(columns={'region': 'REGION', 'district_name': 'DISTRICT_NAME'})"
   ]
  },
  {
   "cell_type": "markdown",
   "metadata": {},
   "source": [
    "### 8. Check for missing data by columns in `account` using the `isna` method"
   ]
  },
  {
   "cell_type": "code",
   "execution_count": 20,
   "metadata": {},
   "outputs": [
    {
     "data": {
      "text/plain": [
       "account_id           0\n",
       "district_id          0\n",
       "frequency            0\n",
       "account_open_date    0\n",
       "client_id            0\n",
       "dtype: int64"
      ]
     },
     "execution_count": 20,
     "metadata": {},
     "output_type": "execute_result"
    }
   ],
   "source": [
    "account.isna().sum()"
   ]
  },
  {
   "cell_type": "markdown",
   "metadata": {},
   "source": [
    "### 9. Check for missing data by columns in `district` using the `isna` method"
   ]
  },
  {
   "cell_type": "code",
   "execution_count": 21,
   "metadata": {},
   "outputs": [
    {
     "data": {
      "text/plain": [
       "district_id              0\n",
       "district_name            0\n",
       "region                   0\n",
       "population               0\n",
       "average_salary          10\n",
       "unemployment_rate       10\n",
       "num_committed_crimes     9\n",
       "dtype: int64"
      ]
     },
     "execution_count": 21,
     "metadata": {},
     "output_type": "execute_result"
    }
   ],
   "source": [
    "district.isna().sum()"
   ]
  },
  {
   "cell_type": "markdown",
   "metadata": {},
   "source": [
    "`district` has numeric features that could have relationships with each other. Let's use iterative imputation on them."
   ]
  },
  {
   "cell_type": "markdown",
   "metadata": {},
   "source": [
    "#### Use `IterativeImputer` in `sklearn` to impute based on columns `population`, `average_salary`, `unemployment_rate`, `num_committed_crimes`"
   ]
  },
  {
   "cell_type": "markdown",
   "metadata": {},
   "source": [
    "##### Import libraries"
   ]
  },
  {
   "cell_type": "code",
   "execution_count": 22,
   "metadata": {},
   "outputs": [],
   "source": [
    "from sklearn.experimental import enable_iterative_imputer\n",
    "from sklearn.impute import IterativeImputer"
   ]
  },
  {
   "cell_type": "markdown",
   "metadata": {},
   "source": [
    "##### Build a list of columns that will be used for imputation, which are `population`, `average_salary`, `unemployment_rate`, `num_committed_crimes`\n",
    "These are the columns that might be related to each other "
   ]
  },
  {
   "cell_type": "code",
   "execution_count": 23,
   "metadata": {},
   "outputs": [],
   "source": [
    "dtt = ['population', 'average_salary', 'unemployment_rate', 'num_committed_crimes']"
   ]
  },
  {
   "cell_type": "markdown",
   "metadata": {},
   "source": [
    "##### Create `IterativeImputer` object and set its `min_value` and `max_value` parameters to be the minumum and maximum of corresponding columns"
   ]
  },
  {
   "cell_type": "code",
   "execution_count": 24,
   "metadata": {},
   "outputs": [
    {
     "data": {
      "text/plain": [
       "population              42821.00\n",
       "average_salary           8110.00\n",
       "unemployment_rate           0.43\n",
       "num_committed_crimes      888.00\n",
       "dtype: float64"
      ]
     },
     "execution_count": 24,
     "metadata": {},
     "output_type": "execute_result"
    }
   ],
   "source": [
    "district[dtt].min()"
   ]
  },
  {
   "cell_type": "code",
   "execution_count": 25,
   "metadata": {
    "scrolled": true
   },
   "outputs": [
    {
     "data": {
      "text/plain": [
       "population              1204953.0\n",
       "average_salary            12541.0\n",
       "unemployment_rate             9.4\n",
       "num_committed_crimes      99107.0\n",
       "dtype: float64"
      ]
     },
     "execution_count": 25,
     "metadata": {},
     "output_type": "execute_result"
    }
   ],
   "source": [
    "district[dtt].max()"
   ]
  },
  {
   "cell_type": "code",
   "execution_count": 26,
   "metadata": {},
   "outputs": [],
   "source": [
    "iter_imp = IterativeImputer(min_value=district[dtt].min(), max_value=district[dtt].max())"
   ]
  },
  {
   "cell_type": "markdown",
   "metadata": {},
   "source": [
    "##### Apply the imputer to fit and transform the columns to an imputed NumPy array"
   ]
  },
  {
   "cell_type": "code",
   "execution_count": 27,
   "metadata": {},
   "outputs": [],
   "source": [
    "imputed_num = iter_imp.fit_transform(district[dtt])"
   ]
  },
  {
   "cell_type": "markdown",
   "metadata": {},
   "source": [
    "##### Assign the imputed array back to the original DataFrame's columns"
   ]
  },
  {
   "cell_type": "code",
   "execution_count": 28,
   "metadata": {},
   "outputs": [],
   "source": [
    "district[dtt] = imputed_num"
   ]
  },
  {
   "cell_type": "markdown",
   "metadata": {},
   "source": [
    "##### Double check that the columns are imputed"
   ]
  },
  {
   "cell_type": "code",
   "execution_count": 29,
   "metadata": {},
   "outputs": [
    {
     "data": {
      "text/plain": [
       "district_id             0\n",
       "district_name           0\n",
       "region                  0\n",
       "population              0\n",
       "average_salary          0\n",
       "unemployment_rate       0\n",
       "num_committed_crimes    0\n",
       "dtype: int64"
      ]
     },
     "execution_count": 29,
     "metadata": {},
     "output_type": "execute_result"
    }
   ],
   "source": [
    "district.isna().sum()"
   ]
  },
  {
   "cell_type": "markdown",
   "metadata": {},
   "source": [
    "### 10. Check for missing data by columns in `trans` using the `isna` method"
   ]
  },
  {
   "cell_type": "code",
   "execution_count": 30,
   "metadata": {},
   "outputs": [
    {
     "data": {
      "text/plain": [
       "trans_id                0\n",
       "account_id              0\n",
       "date                    0\n",
       "type                    0\n",
       "operation_type     183114\n",
       "amount                  0\n",
       "balance                 0\n",
       "description        481881\n",
       "partner_bank       782812\n",
       "partner_account    760931\n",
       "dtype: int64"
      ]
     },
     "execution_count": 30,
     "metadata": {},
     "output_type": "execute_result"
    }
   ],
   "source": [
    "trans.isna().sum()"
   ]
  },
  {
   "cell_type": "markdown",
   "metadata": {},
   "source": [
    "#### Divide the columns into numeric columns and categorical columns, then use the `fillna` method to fill numeric columns with -999, fill categorical columns with 'UNKNOWN'"
   ]
  },
  {
   "cell_type": "code",
   "execution_count": 31,
   "metadata": {},
   "outputs": [],
   "source": [
    "trans_numeric=trans.select_dtypes(include='number')"
   ]
  },
  {
   "cell_type": "code",
   "execution_count": 32,
   "metadata": {},
   "outputs": [
    {
     "data": {
      "text/plain": [
       "Index(['trans_id', 'account_id', 'amount', 'balance', 'partner_account'], dtype='object')"
      ]
     },
     "execution_count": 32,
     "metadata": {},
     "output_type": "execute_result"
    }
   ],
   "source": [
    "numeric_cols=trans_numeric.columns\n",
    "numeric_cols"
   ]
  },
  {
   "cell_type": "code",
   "execution_count": 33,
   "metadata": {},
   "outputs": [
    {
     "data": {
      "text/html": [
       "<div>\n",
       "<style scoped>\n",
       "    .dataframe tbody tr th:only-of-type {\n",
       "        vertical-align: middle;\n",
       "    }\n",
       "\n",
       "    .dataframe tbody tr th {\n",
       "        vertical-align: top;\n",
       "    }\n",
       "\n",
       "    .dataframe thead th {\n",
       "        text-align: right;\n",
       "    }\n",
       "</style>\n",
       "<table border=\"1\" class=\"dataframe\">\n",
       "  <thead>\n",
       "    <tr style=\"text-align: right;\">\n",
       "      <th></th>\n",
       "      <th>trans_id</th>\n",
       "      <th>account_id</th>\n",
       "      <th>amount</th>\n",
       "      <th>balance</th>\n",
       "      <th>partner_account</th>\n",
       "    </tr>\n",
       "  </thead>\n",
       "  <tbody>\n",
       "    <tr>\n",
       "      <th>0</th>\n",
       "      <td>695247</td>\n",
       "      <td>2378</td>\n",
       "      <td>700.0</td>\n",
       "      <td>700.0</td>\n",
       "      <td>NaN</td>\n",
       "    </tr>\n",
       "    <tr>\n",
       "      <th>1</th>\n",
       "      <td>171812</td>\n",
       "      <td>576</td>\n",
       "      <td>900.0</td>\n",
       "      <td>900.0</td>\n",
       "      <td>NaN</td>\n",
       "    </tr>\n",
       "    <tr>\n",
       "      <th>2</th>\n",
       "      <td>207264</td>\n",
       "      <td>704</td>\n",
       "      <td>1000.0</td>\n",
       "      <td>1000.0</td>\n",
       "      <td>NaN</td>\n",
       "    </tr>\n",
       "    <tr>\n",
       "      <th>3</th>\n",
       "      <td>1117247</td>\n",
       "      <td>3818</td>\n",
       "      <td>600.0</td>\n",
       "      <td>600.0</td>\n",
       "      <td>NaN</td>\n",
       "    </tr>\n",
       "    <tr>\n",
       "      <th>4</th>\n",
       "      <td>579373</td>\n",
       "      <td>1972</td>\n",
       "      <td>400.0</td>\n",
       "      <td>400.0</td>\n",
       "      <td>NaN</td>\n",
       "    </tr>\n",
       "    <tr>\n",
       "      <th>...</th>\n",
       "      <td>...</td>\n",
       "      <td>...</td>\n",
       "      <td>...</td>\n",
       "      <td>...</td>\n",
       "      <td>...</td>\n",
       "    </tr>\n",
       "    <tr>\n",
       "      <th>1056315</th>\n",
       "      <td>3626622</td>\n",
       "      <td>2906</td>\n",
       "      <td>62.3</td>\n",
       "      <td>13729.4</td>\n",
       "      <td>NaN</td>\n",
       "    </tr>\n",
       "    <tr>\n",
       "      <th>1056316</th>\n",
       "      <td>3627616</td>\n",
       "      <td>2935</td>\n",
       "      <td>81.3</td>\n",
       "      <td>19544.9</td>\n",
       "      <td>NaN</td>\n",
       "    </tr>\n",
       "    <tr>\n",
       "      <th>1056317</th>\n",
       "      <td>3625403</td>\n",
       "      <td>2869</td>\n",
       "      <td>60.2</td>\n",
       "      <td>14638.2</td>\n",
       "      <td>NaN</td>\n",
       "    </tr>\n",
       "    <tr>\n",
       "      <th>1056318</th>\n",
       "      <td>3626683</td>\n",
       "      <td>2907</td>\n",
       "      <td>107.5</td>\n",
       "      <td>23453.0</td>\n",
       "      <td>NaN</td>\n",
       "    </tr>\n",
       "    <tr>\n",
       "      <th>1056319</th>\n",
       "      <td>3626540</td>\n",
       "      <td>2902</td>\n",
       "      <td>164.1</td>\n",
       "      <td>41642.9</td>\n",
       "      <td>NaN</td>\n",
       "    </tr>\n",
       "  </tbody>\n",
       "</table>\n",
       "<p>1056320 rows × 5 columns</p>\n",
       "</div>"
      ],
      "text/plain": [
       "         trans_id  account_id  amount  balance  partner_account\n",
       "0          695247        2378   700.0    700.0              NaN\n",
       "1          171812         576   900.0    900.0              NaN\n",
       "2          207264         704  1000.0   1000.0              NaN\n",
       "3         1117247        3818   600.0    600.0              NaN\n",
       "4          579373        1972   400.0    400.0              NaN\n",
       "...           ...         ...     ...      ...              ...\n",
       "1056315   3626622        2906    62.3  13729.4              NaN\n",
       "1056316   3627616        2935    81.3  19544.9              NaN\n",
       "1056317   3625403        2869    60.2  14638.2              NaN\n",
       "1056318   3626683        2907   107.5  23453.0              NaN\n",
       "1056319   3626540        2902   164.1  41642.9              NaN\n",
       "\n",
       "[1056320 rows x 5 columns]"
      ]
     },
     "execution_count": 33,
     "metadata": {},
     "output_type": "execute_result"
    }
   ],
   "source": [
    "trans[numeric_cols]"
   ]
  },
  {
   "cell_type": "code",
   "execution_count": 34,
   "metadata": {},
   "outputs": [],
   "source": [
    "trans[numeric_cols]=trans[numeric_cols].fillna(-999)"
   ]
  },
  {
   "cell_type": "code",
   "execution_count": 35,
   "metadata": {},
   "outputs": [
    {
     "data": {
      "text/html": [
       "<div>\n",
       "<style scoped>\n",
       "    .dataframe tbody tr th:only-of-type {\n",
       "        vertical-align: middle;\n",
       "    }\n",
       "\n",
       "    .dataframe tbody tr th {\n",
       "        vertical-align: top;\n",
       "    }\n",
       "\n",
       "    .dataframe thead th {\n",
       "        text-align: right;\n",
       "    }\n",
       "</style>\n",
       "<table border=\"1\" class=\"dataframe\">\n",
       "  <thead>\n",
       "    <tr style=\"text-align: right;\">\n",
       "      <th></th>\n",
       "      <th>trans_id</th>\n",
       "      <th>account_id</th>\n",
       "      <th>amount</th>\n",
       "      <th>balance</th>\n",
       "      <th>partner_account</th>\n",
       "    </tr>\n",
       "  </thead>\n",
       "  <tbody>\n",
       "    <tr>\n",
       "      <th>0</th>\n",
       "      <td>695247</td>\n",
       "      <td>2378</td>\n",
       "      <td>700.0</td>\n",
       "      <td>700.0</td>\n",
       "      <td>-999.0</td>\n",
       "    </tr>\n",
       "    <tr>\n",
       "      <th>1</th>\n",
       "      <td>171812</td>\n",
       "      <td>576</td>\n",
       "      <td>900.0</td>\n",
       "      <td>900.0</td>\n",
       "      <td>-999.0</td>\n",
       "    </tr>\n",
       "    <tr>\n",
       "      <th>2</th>\n",
       "      <td>207264</td>\n",
       "      <td>704</td>\n",
       "      <td>1000.0</td>\n",
       "      <td>1000.0</td>\n",
       "      <td>-999.0</td>\n",
       "    </tr>\n",
       "    <tr>\n",
       "      <th>3</th>\n",
       "      <td>1117247</td>\n",
       "      <td>3818</td>\n",
       "      <td>600.0</td>\n",
       "      <td>600.0</td>\n",
       "      <td>-999.0</td>\n",
       "    </tr>\n",
       "    <tr>\n",
       "      <th>4</th>\n",
       "      <td>579373</td>\n",
       "      <td>1972</td>\n",
       "      <td>400.0</td>\n",
       "      <td>400.0</td>\n",
       "      <td>-999.0</td>\n",
       "    </tr>\n",
       "    <tr>\n",
       "      <th>...</th>\n",
       "      <td>...</td>\n",
       "      <td>...</td>\n",
       "      <td>...</td>\n",
       "      <td>...</td>\n",
       "      <td>...</td>\n",
       "    </tr>\n",
       "    <tr>\n",
       "      <th>1056315</th>\n",
       "      <td>3626622</td>\n",
       "      <td>2906</td>\n",
       "      <td>62.3</td>\n",
       "      <td>13729.4</td>\n",
       "      <td>-999.0</td>\n",
       "    </tr>\n",
       "    <tr>\n",
       "      <th>1056316</th>\n",
       "      <td>3627616</td>\n",
       "      <td>2935</td>\n",
       "      <td>81.3</td>\n",
       "      <td>19544.9</td>\n",
       "      <td>-999.0</td>\n",
       "    </tr>\n",
       "    <tr>\n",
       "      <th>1056317</th>\n",
       "      <td>3625403</td>\n",
       "      <td>2869</td>\n",
       "      <td>60.2</td>\n",
       "      <td>14638.2</td>\n",
       "      <td>-999.0</td>\n",
       "    </tr>\n",
       "    <tr>\n",
       "      <th>1056318</th>\n",
       "      <td>3626683</td>\n",
       "      <td>2907</td>\n",
       "      <td>107.5</td>\n",
       "      <td>23453.0</td>\n",
       "      <td>-999.0</td>\n",
       "    </tr>\n",
       "    <tr>\n",
       "      <th>1056319</th>\n",
       "      <td>3626540</td>\n",
       "      <td>2902</td>\n",
       "      <td>164.1</td>\n",
       "      <td>41642.9</td>\n",
       "      <td>-999.0</td>\n",
       "    </tr>\n",
       "  </tbody>\n",
       "</table>\n",
       "<p>1056320 rows × 5 columns</p>\n",
       "</div>"
      ],
      "text/plain": [
       "         trans_id  account_id  amount  balance  partner_account\n",
       "0          695247        2378   700.0    700.0           -999.0\n",
       "1          171812         576   900.0    900.0           -999.0\n",
       "2          207264         704  1000.0   1000.0           -999.0\n",
       "3         1117247        3818   600.0    600.0           -999.0\n",
       "4          579373        1972   400.0    400.0           -999.0\n",
       "...           ...         ...     ...      ...              ...\n",
       "1056315   3626622        2906    62.3  13729.4           -999.0\n",
       "1056316   3627616        2935    81.3  19544.9           -999.0\n",
       "1056317   3625403        2869    60.2  14638.2           -999.0\n",
       "1056318   3626683        2907   107.5  23453.0           -999.0\n",
       "1056319   3626540        2902   164.1  41642.9           -999.0\n",
       "\n",
       "[1056320 rows x 5 columns]"
      ]
     },
     "execution_count": 35,
     "metadata": {},
     "output_type": "execute_result"
    }
   ],
   "source": [
    "trans[numeric_cols]"
   ]
  },
  {
   "cell_type": "code",
   "execution_count": null,
   "metadata": {},
   "outputs": [],
   "source": []
  },
  {
   "cell_type": "code",
   "execution_count": 36,
   "metadata": {},
   "outputs": [
    {
     "data": {
      "text/html": [
       "<div>\n",
       "<style scoped>\n",
       "    .dataframe tbody tr th:only-of-type {\n",
       "        vertical-align: middle;\n",
       "    }\n",
       "\n",
       "    .dataframe tbody tr th {\n",
       "        vertical-align: top;\n",
       "    }\n",
       "\n",
       "    .dataframe thead th {\n",
       "        text-align: right;\n",
       "    }\n",
       "</style>\n",
       "<table border=\"1\" class=\"dataframe\">\n",
       "  <thead>\n",
       "    <tr style=\"text-align: right;\">\n",
       "      <th></th>\n",
       "      <th>date</th>\n",
       "      <th>type</th>\n",
       "      <th>operation_type</th>\n",
       "      <th>description</th>\n",
       "      <th>partner_bank</th>\n",
       "    </tr>\n",
       "  </thead>\n",
       "  <tbody>\n",
       "    <tr>\n",
       "      <th>0</th>\n",
       "      <td>1993-01-01</td>\n",
       "      <td>CREDIT</td>\n",
       "      <td>CREDIT IN CASH</td>\n",
       "      <td>NaN</td>\n",
       "      <td>NaN</td>\n",
       "    </tr>\n",
       "    <tr>\n",
       "      <th>1</th>\n",
       "      <td>1993-01-01</td>\n",
       "      <td>CREDIT</td>\n",
       "      <td>CREDIT IN CASH</td>\n",
       "      <td>NaN</td>\n",
       "      <td>NaN</td>\n",
       "    </tr>\n",
       "    <tr>\n",
       "      <th>2</th>\n",
       "      <td>1993-01-01</td>\n",
       "      <td>CREDIT</td>\n",
       "      <td>CREDIT IN CASH</td>\n",
       "      <td>NaN</td>\n",
       "      <td>NaN</td>\n",
       "    </tr>\n",
       "    <tr>\n",
       "      <th>3</th>\n",
       "      <td>1993-01-01</td>\n",
       "      <td>CREDIT</td>\n",
       "      <td>CREDIT IN CASH</td>\n",
       "      <td>NaN</td>\n",
       "      <td>NaN</td>\n",
       "    </tr>\n",
       "    <tr>\n",
       "      <th>4</th>\n",
       "      <td>1993-01-02</td>\n",
       "      <td>CREDIT</td>\n",
       "      <td>CREDIT IN CASH</td>\n",
       "      <td>NaN</td>\n",
       "      <td>NaN</td>\n",
       "    </tr>\n",
       "    <tr>\n",
       "      <th>...</th>\n",
       "      <td>...</td>\n",
       "      <td>...</td>\n",
       "      <td>...</td>\n",
       "      <td>...</td>\n",
       "      <td>...</td>\n",
       "    </tr>\n",
       "    <tr>\n",
       "      <th>1056315</th>\n",
       "      <td>1998-12-31</td>\n",
       "      <td>CREDIT</td>\n",
       "      <td>NaN</td>\n",
       "      <td>INTEREST CREDIT</td>\n",
       "      <td>NaN</td>\n",
       "    </tr>\n",
       "    <tr>\n",
       "      <th>1056316</th>\n",
       "      <td>1998-12-31</td>\n",
       "      <td>CREDIT</td>\n",
       "      <td>NaN</td>\n",
       "      <td>INTEREST CREDIT</td>\n",
       "      <td>NaN</td>\n",
       "    </tr>\n",
       "    <tr>\n",
       "      <th>1056317</th>\n",
       "      <td>1998-12-31</td>\n",
       "      <td>CREDIT</td>\n",
       "      <td>NaN</td>\n",
       "      <td>INTEREST CREDIT</td>\n",
       "      <td>NaN</td>\n",
       "    </tr>\n",
       "    <tr>\n",
       "      <th>1056318</th>\n",
       "      <td>1998-12-31</td>\n",
       "      <td>CREDIT</td>\n",
       "      <td>NaN</td>\n",
       "      <td>INTEREST CREDIT</td>\n",
       "      <td>NaN</td>\n",
       "    </tr>\n",
       "    <tr>\n",
       "      <th>1056319</th>\n",
       "      <td>1998-12-31</td>\n",
       "      <td>CREDIT</td>\n",
       "      <td>NaN</td>\n",
       "      <td>INTEREST CREDIT</td>\n",
       "      <td>NaN</td>\n",
       "    </tr>\n",
       "  </tbody>\n",
       "</table>\n",
       "<p>1056320 rows × 5 columns</p>\n",
       "</div>"
      ],
      "text/plain": [
       "               date    type  operation_type      description partner_bank\n",
       "0        1993-01-01  CREDIT  CREDIT IN CASH              NaN          NaN\n",
       "1        1993-01-01  CREDIT  CREDIT IN CASH              NaN          NaN\n",
       "2        1993-01-01  CREDIT  CREDIT IN CASH              NaN          NaN\n",
       "3        1993-01-01  CREDIT  CREDIT IN CASH              NaN          NaN\n",
       "4        1993-01-02  CREDIT  CREDIT IN CASH              NaN          NaN\n",
       "...             ...     ...             ...              ...          ...\n",
       "1056315  1998-12-31  CREDIT             NaN  INTEREST CREDIT          NaN\n",
       "1056316  1998-12-31  CREDIT             NaN  INTEREST CREDIT          NaN\n",
       "1056317  1998-12-31  CREDIT             NaN  INTEREST CREDIT          NaN\n",
       "1056318  1998-12-31  CREDIT             NaN  INTEREST CREDIT          NaN\n",
       "1056319  1998-12-31  CREDIT             NaN  INTEREST CREDIT          NaN\n",
       "\n",
       "[1056320 rows x 5 columns]"
      ]
     },
     "execution_count": 36,
     "metadata": {},
     "output_type": "execute_result"
    }
   ],
   "source": [
    "trans_cat = trans.select_dtypes(exclude='number')\n",
    "trans_cat"
   ]
  },
  {
   "cell_type": "code",
   "execution_count": 37,
   "metadata": {},
   "outputs": [
    {
     "data": {
      "text/plain": [
       "Index(['date', 'type', 'operation_type', 'description', 'partner_bank'], dtype='object')"
      ]
     },
     "execution_count": 37,
     "metadata": {},
     "output_type": "execute_result"
    }
   ],
   "source": [
    "cat_cols = trans_cat.columns\n",
    "cat_cols"
   ]
  },
  {
   "cell_type": "code",
   "execution_count": 40,
   "metadata": {},
   "outputs": [
    {
     "data": {
      "text/html": [
       "<div>\n",
       "<style scoped>\n",
       "    .dataframe tbody tr th:only-of-type {\n",
       "        vertical-align: middle;\n",
       "    }\n",
       "\n",
       "    .dataframe tbody tr th {\n",
       "        vertical-align: top;\n",
       "    }\n",
       "\n",
       "    .dataframe thead th {\n",
       "        text-align: right;\n",
       "    }\n",
       "</style>\n",
       "<table border=\"1\" class=\"dataframe\">\n",
       "  <thead>\n",
       "    <tr style=\"text-align: right;\">\n",
       "      <th></th>\n",
       "      <th>date</th>\n",
       "      <th>type</th>\n",
       "      <th>operation_type</th>\n",
       "      <th>description</th>\n",
       "      <th>partner_bank</th>\n",
       "    </tr>\n",
       "  </thead>\n",
       "  <tbody>\n",
       "    <tr>\n",
       "      <th>0</th>\n",
       "      <td>1993-01-01</td>\n",
       "      <td>CREDIT</td>\n",
       "      <td>CREDIT IN CASH</td>\n",
       "      <td>UNKNOWN</td>\n",
       "      <td>UNKNOWN</td>\n",
       "    </tr>\n",
       "    <tr>\n",
       "      <th>1</th>\n",
       "      <td>1993-01-01</td>\n",
       "      <td>CREDIT</td>\n",
       "      <td>CREDIT IN CASH</td>\n",
       "      <td>UNKNOWN</td>\n",
       "      <td>UNKNOWN</td>\n",
       "    </tr>\n",
       "    <tr>\n",
       "      <th>2</th>\n",
       "      <td>1993-01-01</td>\n",
       "      <td>CREDIT</td>\n",
       "      <td>CREDIT IN CASH</td>\n",
       "      <td>UNKNOWN</td>\n",
       "      <td>UNKNOWN</td>\n",
       "    </tr>\n",
       "    <tr>\n",
       "      <th>3</th>\n",
       "      <td>1993-01-01</td>\n",
       "      <td>CREDIT</td>\n",
       "      <td>CREDIT IN CASH</td>\n",
       "      <td>UNKNOWN</td>\n",
       "      <td>UNKNOWN</td>\n",
       "    </tr>\n",
       "    <tr>\n",
       "      <th>4</th>\n",
       "      <td>1993-01-02</td>\n",
       "      <td>CREDIT</td>\n",
       "      <td>CREDIT IN CASH</td>\n",
       "      <td>UNKNOWN</td>\n",
       "      <td>UNKNOWN</td>\n",
       "    </tr>\n",
       "    <tr>\n",
       "      <th>...</th>\n",
       "      <td>...</td>\n",
       "      <td>...</td>\n",
       "      <td>...</td>\n",
       "      <td>...</td>\n",
       "      <td>...</td>\n",
       "    </tr>\n",
       "    <tr>\n",
       "      <th>1056315</th>\n",
       "      <td>1998-12-31</td>\n",
       "      <td>CREDIT</td>\n",
       "      <td>UNKNOWN</td>\n",
       "      <td>INTEREST CREDIT</td>\n",
       "      <td>UNKNOWN</td>\n",
       "    </tr>\n",
       "    <tr>\n",
       "      <th>1056316</th>\n",
       "      <td>1998-12-31</td>\n",
       "      <td>CREDIT</td>\n",
       "      <td>UNKNOWN</td>\n",
       "      <td>INTEREST CREDIT</td>\n",
       "      <td>UNKNOWN</td>\n",
       "    </tr>\n",
       "    <tr>\n",
       "      <th>1056317</th>\n",
       "      <td>1998-12-31</td>\n",
       "      <td>CREDIT</td>\n",
       "      <td>UNKNOWN</td>\n",
       "      <td>INTEREST CREDIT</td>\n",
       "      <td>UNKNOWN</td>\n",
       "    </tr>\n",
       "    <tr>\n",
       "      <th>1056318</th>\n",
       "      <td>1998-12-31</td>\n",
       "      <td>CREDIT</td>\n",
       "      <td>UNKNOWN</td>\n",
       "      <td>INTEREST CREDIT</td>\n",
       "      <td>UNKNOWN</td>\n",
       "    </tr>\n",
       "    <tr>\n",
       "      <th>1056319</th>\n",
       "      <td>1998-12-31</td>\n",
       "      <td>CREDIT</td>\n",
       "      <td>UNKNOWN</td>\n",
       "      <td>INTEREST CREDIT</td>\n",
       "      <td>UNKNOWN</td>\n",
       "    </tr>\n",
       "  </tbody>\n",
       "</table>\n",
       "<p>1056320 rows × 5 columns</p>\n",
       "</div>"
      ],
      "text/plain": [
       "               date    type  operation_type      description partner_bank\n",
       "0        1993-01-01  CREDIT  CREDIT IN CASH          UNKNOWN      UNKNOWN\n",
       "1        1993-01-01  CREDIT  CREDIT IN CASH          UNKNOWN      UNKNOWN\n",
       "2        1993-01-01  CREDIT  CREDIT IN CASH          UNKNOWN      UNKNOWN\n",
       "3        1993-01-01  CREDIT  CREDIT IN CASH          UNKNOWN      UNKNOWN\n",
       "4        1993-01-02  CREDIT  CREDIT IN CASH          UNKNOWN      UNKNOWN\n",
       "...             ...     ...             ...              ...          ...\n",
       "1056315  1998-12-31  CREDIT         UNKNOWN  INTEREST CREDIT      UNKNOWN\n",
       "1056316  1998-12-31  CREDIT         UNKNOWN  INTEREST CREDIT      UNKNOWN\n",
       "1056317  1998-12-31  CREDIT         UNKNOWN  INTEREST CREDIT      UNKNOWN\n",
       "1056318  1998-12-31  CREDIT         UNKNOWN  INTEREST CREDIT      UNKNOWN\n",
       "1056319  1998-12-31  CREDIT         UNKNOWN  INTEREST CREDIT      UNKNOWN\n",
       "\n",
       "[1056320 rows x 5 columns]"
      ]
     },
     "execution_count": 40,
     "metadata": {},
     "output_type": "execute_result"
    }
   ],
   "source": [
    "trans[cat_cols].fillna('UNKNOWN')"
   ]
  },
  {
   "cell_type": "code",
   "execution_count": 41,
   "metadata": {},
   "outputs": [],
   "source": [
    "trans[cat_cols]=trans[cat_cols].fillna('UNKNOWN')"
   ]
  },
  {
   "cell_type": "code",
   "execution_count": 42,
   "metadata": {},
   "outputs": [
    {
     "data": {
      "text/plain": [
       "trans_id           0\n",
       "account_id         0\n",
       "date               0\n",
       "type               0\n",
       "operation_type     0\n",
       "amount             0\n",
       "balance            0\n",
       "description        0\n",
       "partner_bank       0\n",
       "partner_account    0\n",
       "dtype: int64"
      ]
     },
     "execution_count": 42,
     "metadata": {},
     "output_type": "execute_result"
    }
   ],
   "source": [
    "trans.isna().sum()"
   ]
  },
  {
   "cell_type": "code",
   "execution_count": 46,
   "metadata": {},
   "outputs": [
    {
     "name": "stdout",
     "output_type": "stream",
     "text": [
      "<class 'pandas.core.frame.DataFrame'>\n",
      "RangeIndex: 1056320 entries, 0 to 1056319\n",
      "Data columns (total 10 columns):\n",
      " #   Column           Non-Null Count    Dtype  \n",
      "---  ------           --------------    -----  \n",
      " 0   trans_id         1056320 non-null  int64  \n",
      " 1   account_id       1056320 non-null  int64  \n",
      " 2   date             1056320 non-null  object \n",
      " 3   type             1056320 non-null  object \n",
      " 4   operation_type   1056320 non-null  object \n",
      " 5   amount           1056320 non-null  float64\n",
      " 6   balance          1056320 non-null  float64\n",
      " 7   description      1056320 non-null  object \n",
      " 8   partner_bank     1056320 non-null  object \n",
      " 9   partner_account  1056320 non-null  float64\n",
      "dtypes: float64(3), int64(2), object(5)\n",
      "memory usage: 80.6+ MB\n"
     ]
    }
   ],
   "source": [
    "trans.info()"
   ]
  },
  {
   "cell_type": "markdown",
   "metadata": {},
   "source": [
    "### 11. Check for outliers in `district` using the `describe` method, then look at the histograms of the suspicious columns"
   ]
  },
  {
   "cell_type": "code",
   "execution_count": 47,
   "metadata": {},
   "outputs": [
    {
     "data": {
      "text/html": [
       "<div>\n",
       "<style scoped>\n",
       "    .dataframe tbody tr th:only-of-type {\n",
       "        vertical-align: middle;\n",
       "    }\n",
       "\n",
       "    .dataframe tbody tr th {\n",
       "        vertical-align: top;\n",
       "    }\n",
       "\n",
       "    .dataframe thead th {\n",
       "        text-align: right;\n",
       "    }\n",
       "</style>\n",
       "<table border=\"1\" class=\"dataframe\">\n",
       "  <thead>\n",
       "    <tr style=\"text-align: right;\">\n",
       "      <th></th>\n",
       "      <th>count</th>\n",
       "      <th>mean</th>\n",
       "      <th>std</th>\n",
       "      <th>min</th>\n",
       "      <th>25%</th>\n",
       "      <th>50%</th>\n",
       "      <th>75%</th>\n",
       "      <th>max</th>\n",
       "    </tr>\n",
       "  </thead>\n",
       "  <tbody>\n",
       "    <tr>\n",
       "      <th>district_id</th>\n",
       "      <td>76.0</td>\n",
       "      <td>38.500000</td>\n",
       "      <td>22.083176</td>\n",
       "      <td>1.00</td>\n",
       "      <td>19.750000</td>\n",
       "      <td>38.500000</td>\n",
       "      <td>57.25000</td>\n",
       "      <td>76.0</td>\n",
       "    </tr>\n",
       "    <tr>\n",
       "      <th>population</th>\n",
       "      <td>76.0</td>\n",
       "      <td>133692.000000</td>\n",
       "      <td>137812.665884</td>\n",
       "      <td>42821.00</td>\n",
       "      <td>84725.000000</td>\n",
       "      <td>108391.000000</td>\n",
       "      <td>138277.00000</td>\n",
       "      <td>1204953.0</td>\n",
       "    </tr>\n",
       "    <tr>\n",
       "      <th>average_salary</th>\n",
       "      <td>76.0</td>\n",
       "      <td>8983.707247</td>\n",
       "      <td>740.959314</td>\n",
       "      <td>8110.00</td>\n",
       "      <td>8533.750000</td>\n",
       "      <td>8792.984750</td>\n",
       "      <td>9280.75000</td>\n",
       "      <td>12541.0</td>\n",
       "    </tr>\n",
       "    <tr>\n",
       "      <th>unemployment_rate</th>\n",
       "      <td>76.0</td>\n",
       "      <td>3.864003</td>\n",
       "      <td>1.721597</td>\n",
       "      <td>0.43</td>\n",
       "      <td>2.650000</td>\n",
       "      <td>3.761936</td>\n",
       "      <td>4.57000</td>\n",
       "      <td>9.4</td>\n",
       "    </tr>\n",
       "    <tr>\n",
       "      <th>num_committed_crimes</th>\n",
       "      <td>76.0</td>\n",
       "      <td>5054.492038</td>\n",
       "      <td>11392.279917</td>\n",
       "      <td>888.00</td>\n",
       "      <td>1918.454646</td>\n",
       "      <td>2864.000000</td>\n",
       "      <td>4562.41324</td>\n",
       "      <td>99107.0</td>\n",
       "    </tr>\n",
       "  </tbody>\n",
       "</table>\n",
       "</div>"
      ],
      "text/plain": [
       "                      count           mean            std       min  \\\n",
       "district_id            76.0      38.500000      22.083176      1.00   \n",
       "population             76.0  133692.000000  137812.665884  42821.00   \n",
       "average_salary         76.0    8983.707247     740.959314   8110.00   \n",
       "unemployment_rate      76.0       3.864003       1.721597      0.43   \n",
       "num_committed_crimes   76.0    5054.492038   11392.279917    888.00   \n",
       "\n",
       "                               25%            50%           75%        max  \n",
       "district_id              19.750000      38.500000      57.25000       76.0  \n",
       "population            84725.000000  108391.000000  138277.00000  1204953.0  \n",
       "average_salary         8533.750000    8792.984750    9280.75000    12541.0  \n",
       "unemployment_rate         2.650000       3.761936       4.57000        9.4  \n",
       "num_committed_crimes   1918.454646    2864.000000    4562.41324    99107.0  "
      ]
     },
     "execution_count": 47,
     "metadata": {},
     "output_type": "execute_result"
    }
   ],
   "source": [
    "district.describe().T"
   ]
  },
  {
   "cell_type": "markdown",
   "metadata": {},
   "source": [
    "#### Explore the outliers in the dataset"
   ]
  },
  {
   "cell_type": "markdown",
   "metadata": {},
   "source": [
    "Possible outlier columns in district (population, average_salary, num_committed_crimes)\\\n",
    "outlier_high = Q3 + 1.5*IQR\\\n",
    "outlier_low = Q1 - 1.5*IQR\\\n",
    "\n",
    "population IQR = Q3(138277.00000)-Q1(84725.000000)\\ \n",
    "outlier_high = Q3(138277.00000)+1.5IQR\\\n",
    "outlier_low = (84725.000000) - 1.5*IQR\\\n",
    "\n",
    "average_salary IQR = Q3(9280.75000)-Q1(8533.750000)\\\n",
    "outlier_high = Q3(9280.75000)+1.5IQR\\\n",
    "outlier_low = (8533.750000) - 1.5*IQR\\\n",
    "\n",
    "num_committed_crimes IQR = Q3(4562.41324)-Q1(1918.454646)\\ \n",
    "outlier_high = Q3(4562.41324)+1.5IQR\\\n",
    "outlier_low = (1918.454646) - 1.5*IQR\n"
   ]
  },
  {
   "cell_type": "code",
   "execution_count": 48,
   "metadata": {},
   "outputs": [
    {
     "data": {
      "text/plain": [
       "53552.0"
      ]
     },
     "execution_count": 48,
     "metadata": {},
     "output_type": "execute_result"
    }
   ],
   "source": [
    "population_iqr = (138277.00000)-(84725.000000)\n",
    "population_iqr"
   ]
  },
  {
   "cell_type": "code",
   "execution_count": 49,
   "metadata": {},
   "outputs": [
    {
     "data": {
      "text/plain": [
       "218605.0"
      ]
     },
     "execution_count": 49,
     "metadata": {},
     "output_type": "execute_result"
    }
   ],
   "source": [
    "population_high = (138277.00000)+1.5*(53552.0)\n",
    "population_high"
   ]
  },
  {
   "cell_type": "code",
   "execution_count": 50,
   "metadata": {},
   "outputs": [
    {
     "data": {
      "text/plain": [
       "4397.0"
      ]
     },
     "execution_count": 50,
     "metadata": {},
     "output_type": "execute_result"
    }
   ],
   "source": [
    "population_low = (84725.000000) - 1.5*(53552.0)\n",
    "population_low"
   ]
  },
  {
   "cell_type": "code",
   "execution_count": 51,
   "metadata": {},
   "outputs": [
    {
     "data": {
      "text/plain": [
       "747.0"
      ]
     },
     "execution_count": 51,
     "metadata": {},
     "output_type": "execute_result"
    }
   ],
   "source": [
    "average_salary_iqr = (9280.75000)-(8533.750000)\n",
    "average_salary_iqr"
   ]
  },
  {
   "cell_type": "code",
   "execution_count": 52,
   "metadata": {},
   "outputs": [
    {
     "data": {
      "text/plain": [
       "10401.25"
      ]
     },
     "execution_count": 52,
     "metadata": {},
     "output_type": "execute_result"
    }
   ],
   "source": [
    "average_salary_high = (9280.75000)+1.5*(747.0)\n",
    "average_salary_high"
   ]
  },
  {
   "cell_type": "code",
   "execution_count": 53,
   "metadata": {},
   "outputs": [
    {
     "data": {
      "text/plain": [
       "7413.25"
      ]
     },
     "execution_count": 53,
     "metadata": {},
     "output_type": "execute_result"
    }
   ],
   "source": [
    "average_salary_low = (8533.750000) - 1.5*(747.0)\n",
    "average_salary_low"
   ]
  },
  {
   "cell_type": "code",
   "execution_count": 54,
   "metadata": {},
   "outputs": [
    {
     "data": {
      "text/plain": [
       "2643.9585939999997"
      ]
     },
     "execution_count": 54,
     "metadata": {},
     "output_type": "execute_result"
    }
   ],
   "source": [
    "num_committed_crimes_iqr = (4562.41324)-(1918.454646)\n",
    "num_committed_crimes_iqr"
   ]
  },
  {
   "cell_type": "code",
   "execution_count": 55,
   "metadata": {},
   "outputs": [
    {
     "data": {
      "text/plain": [
       "8528.351131"
      ]
     },
     "execution_count": 55,
     "metadata": {},
     "output_type": "execute_result"
    }
   ],
   "source": [
    "num_committed_crimes_high = (4562.41324)+1.5*(2643.9585939999997)\n",
    "num_committed_crimes_high"
   ]
  },
  {
   "cell_type": "code",
   "execution_count": 56,
   "metadata": {},
   "outputs": [
    {
     "data": {
      "text/plain": [
       "-2047.4832449999997"
      ]
     },
     "execution_count": 56,
     "metadata": {},
     "output_type": "execute_result"
    }
   ],
   "source": [
    "num_committed_crimes_low = (1918.454646) - 1.5*(2643.9585939999997)\n",
    "num_committed_crimes_low"
   ]
  },
  {
   "cell_type": "code",
   "execution_count": 63,
   "metadata": {},
   "outputs": [
    {
     "data": {
      "text/plain": [
       "1.9200000000000004"
      ]
     },
     "execution_count": 63,
     "metadata": {},
     "output_type": "execute_result"
    }
   ],
   "source": [
    "unemployment_rate_iqr = (4.57000) - (2.650000)\n",
    "unemployment_rate_iqr"
   ]
  },
  {
   "cell_type": "code",
   "execution_count": 64,
   "metadata": {},
   "outputs": [
    {
     "data": {
      "text/plain": [
       "7.450000000000001"
      ]
     },
     "execution_count": 64,
     "metadata": {},
     "output_type": "execute_result"
    }
   ],
   "source": [
    "unemployment_rate_high = (4.57000)+1.5*(1.9200000000000004)\n",
    "unemployment_rate_high"
   ]
  },
  {
   "cell_type": "code",
   "execution_count": 65,
   "metadata": {},
   "outputs": [
    {
     "data": {
      "text/plain": [
       "-0.23000000000000087"
      ]
     },
     "execution_count": 65,
     "metadata": {},
     "output_type": "execute_result"
    }
   ],
   "source": [
    "unemployment_rate_low = (2.650000)-1.5*(1.9200000000000004)\n",
    "unemployment_rate_low"
   ]
  },
  {
   "cell_type": "code",
   "execution_count": 57,
   "metadata": {},
   "outputs": [
    {
     "data": {
      "text/plain": [
       "array([[<Axes: title={'center': 'district_id'}>,\n",
       "        <Axes: title={'center': 'population'}>],\n",
       "       [<Axes: title={'center': 'average_salary'}>,\n",
       "        <Axes: title={'center': 'unemployment_rate'}>],\n",
       "       [<Axes: title={'center': 'num_committed_crimes'}>, <Axes: >]],\n",
       "      dtype=object)"
      ]
     },
     "execution_count": 57,
     "metadata": {},
     "output_type": "execute_result"
    },
    {
     "data": {
      "image/png": "[encoded data removed]",
      "text/plain": [
       "<Figure size 1000x1000 with 6 Axes>"
      ]
     },
     "metadata": {},
     "output_type": "display_data"
    }
   ],
   "source": [
    "district.hist(figsize=(10,10))"
   ]
  },
  {
   "cell_type": "code",
   "execution_count": 58,
   "metadata": {},
   "outputs": [
    {
     "data": {
      "text/html": [
       "<div>\n",
       "<style scoped>\n",
       "    .dataframe tbody tr th:only-of-type {\n",
       "        vertical-align: middle;\n",
       "    }\n",
       "\n",
       "    .dataframe tbody tr th {\n",
       "        vertical-align: top;\n",
       "    }\n",
       "\n",
       "    .dataframe thead th {\n",
       "        text-align: right;\n",
       "    }\n",
       "</style>\n",
       "<table border=\"1\" class=\"dataframe\">\n",
       "  <thead>\n",
       "    <tr style=\"text-align: right;\">\n",
       "      <th></th>\n",
       "      <th>district_id</th>\n",
       "      <th>district_name</th>\n",
       "      <th>region</th>\n",
       "      <th>population</th>\n",
       "      <th>average_salary</th>\n",
       "      <th>unemployment_rate</th>\n",
       "      <th>num_committed_crimes</th>\n",
       "    </tr>\n",
       "  </thead>\n",
       "  <tbody>\n",
       "    <tr>\n",
       "      <th>0</th>\n",
       "      <td>1</td>\n",
       "      <td>Hl.m. Praha</td>\n",
       "      <td>Prague</td>\n",
       "      <td>1204953.0</td>\n",
       "      <td>12541.000000</td>\n",
       "      <td>0.43</td>\n",
       "      <td>99107.000000</td>\n",
       "    </tr>\n",
       "    <tr>\n",
       "      <th>53</th>\n",
       "      <td>54</td>\n",
       "      <td>Brno - mesto</td>\n",
       "      <td>south Moravia</td>\n",
       "      <td>387570.0</td>\n",
       "      <td>9945.418311</td>\n",
       "      <td>1.96</td>\n",
       "      <td>18696.000000</td>\n",
       "    </tr>\n",
       "    <tr>\n",
       "      <th>67</th>\n",
       "      <td>68</td>\n",
       "      <td>Frydek - Mistek</td>\n",
       "      <td>north Moravia</td>\n",
       "      <td>228848.0</td>\n",
       "      <td>9893.000000</td>\n",
       "      <td>4.72</td>\n",
       "      <td>12703.935555</td>\n",
       "    </tr>\n",
       "    <tr>\n",
       "      <th>69</th>\n",
       "      <td>70</td>\n",
       "      <td>Karvina</td>\n",
       "      <td>north Moravia</td>\n",
       "      <td>285387.0</td>\n",
       "      <td>10177.000000</td>\n",
       "      <td>7.75</td>\n",
       "      <td>10108.000000</td>\n",
       "    </tr>\n",
       "    <tr>\n",
       "      <th>71</th>\n",
       "      <td>72</td>\n",
       "      <td>Olomouc</td>\n",
       "      <td>north Moravia</td>\n",
       "      <td>226122.0</td>\n",
       "      <td>9333.878734</td>\n",
       "      <td>4.79</td>\n",
       "      <td>9208.000000</td>\n",
       "    </tr>\n",
       "    <tr>\n",
       "      <th>73</th>\n",
       "      <td>74</td>\n",
       "      <td>Ostrava - mesto</td>\n",
       "      <td>north Moravia</td>\n",
       "      <td>323870.0</td>\n",
       "      <td>10673.000000</td>\n",
       "      <td>5.44</td>\n",
       "      <td>18347.000000</td>\n",
       "    </tr>\n",
       "  </tbody>\n",
       "</table>\n",
       "</div>"
      ],
      "text/plain": [
       "    district_id    district_name         region  population  average_salary  \\\n",
       "0             1      Hl.m. Praha         Prague   1204953.0    12541.000000   \n",
       "53           54     Brno - mesto  south Moravia    387570.0     9945.418311   \n",
       "67           68  Frydek - Mistek  north Moravia    228848.0     9893.000000   \n",
       "69           70          Karvina  north Moravia    285387.0    10177.000000   \n",
       "71           72          Olomouc  north Moravia    226122.0     9333.878734   \n",
       "73           74  Ostrava - mesto  north Moravia    323870.0    10673.000000   \n",
       "\n",
       "    unemployment_rate  num_committed_crimes  \n",
       "0                0.43          99107.000000  \n",
       "53               1.96          18696.000000  \n",
       "67               4.72          12703.935555  \n",
       "69               7.75          10108.000000  \n",
       "71               4.79           9208.000000  \n",
       "73               5.44          18347.000000  "
      ]
     },
     "execution_count": 58,
     "metadata": {},
     "output_type": "execute_result"
    }
   ],
   "source": [
    "district[district['population'] >= population_high]"
   ]
  },
  {
   "cell_type": "code",
   "execution_count": 59,
   "metadata": {},
   "outputs": [
    {
     "data": {
      "text/html": [
       "<div>\n",
       "<style scoped>\n",
       "    .dataframe tbody tr th:only-of-type {\n",
       "        vertical-align: middle;\n",
       "    }\n",
       "\n",
       "    .dataframe tbody tr th {\n",
       "        vertical-align: top;\n",
       "    }\n",
       "\n",
       "    .dataframe thead th {\n",
       "        text-align: right;\n",
       "    }\n",
       "</style>\n",
       "<table border=\"1\" class=\"dataframe\">\n",
       "  <thead>\n",
       "    <tr style=\"text-align: right;\">\n",
       "      <th></th>\n",
       "      <th>district_id</th>\n",
       "      <th>district_name</th>\n",
       "      <th>region</th>\n",
       "      <th>population</th>\n",
       "      <th>average_salary</th>\n",
       "      <th>unemployment_rate</th>\n",
       "      <th>num_committed_crimes</th>\n",
       "    </tr>\n",
       "  </thead>\n",
       "  <tbody>\n",
       "    <tr>\n",
       "      <th>0</th>\n",
       "      <td>1</td>\n",
       "      <td>Hl.m. Praha</td>\n",
       "      <td>Prague</td>\n",
       "      <td>1204953.0</td>\n",
       "      <td>12541.000000</td>\n",
       "      <td>0.43</td>\n",
       "      <td>99107.000000</td>\n",
       "    </tr>\n",
       "    <tr>\n",
       "      <th>53</th>\n",
       "      <td>54</td>\n",
       "      <td>Brno - mesto</td>\n",
       "      <td>south Moravia</td>\n",
       "      <td>387570.0</td>\n",
       "      <td>9945.418311</td>\n",
       "      <td>1.96</td>\n",
       "      <td>18696.000000</td>\n",
       "    </tr>\n",
       "    <tr>\n",
       "      <th>67</th>\n",
       "      <td>68</td>\n",
       "      <td>Frydek - Mistek</td>\n",
       "      <td>north Moravia</td>\n",
       "      <td>228848.0</td>\n",
       "      <td>9893.000000</td>\n",
       "      <td>4.72</td>\n",
       "      <td>12703.935555</td>\n",
       "    </tr>\n",
       "    <tr>\n",
       "      <th>69</th>\n",
       "      <td>70</td>\n",
       "      <td>Karvina</td>\n",
       "      <td>north Moravia</td>\n",
       "      <td>285387.0</td>\n",
       "      <td>10177.000000</td>\n",
       "      <td>7.75</td>\n",
       "      <td>10108.000000</td>\n",
       "    </tr>\n",
       "    <tr>\n",
       "      <th>71</th>\n",
       "      <td>72</td>\n",
       "      <td>Olomouc</td>\n",
       "      <td>north Moravia</td>\n",
       "      <td>226122.0</td>\n",
       "      <td>9333.878734</td>\n",
       "      <td>4.79</td>\n",
       "      <td>9208.000000</td>\n",
       "    </tr>\n",
       "    <tr>\n",
       "      <th>73</th>\n",
       "      <td>74</td>\n",
       "      <td>Ostrava - mesto</td>\n",
       "      <td>north Moravia</td>\n",
       "      <td>323870.0</td>\n",
       "      <td>10673.000000</td>\n",
       "      <td>5.44</td>\n",
       "      <td>18347.000000</td>\n",
       "    </tr>\n",
       "  </tbody>\n",
       "</table>\n",
       "</div>"
      ],
      "text/plain": [
       "    district_id    district_name         region  population  average_salary  \\\n",
       "0             1      Hl.m. Praha         Prague   1204953.0    12541.000000   \n",
       "53           54     Brno - mesto  south Moravia    387570.0     9945.418311   \n",
       "67           68  Frydek - Mistek  north Moravia    228848.0     9893.000000   \n",
       "69           70          Karvina  north Moravia    285387.0    10177.000000   \n",
       "71           72          Olomouc  north Moravia    226122.0     9333.878734   \n",
       "73           74  Ostrava - mesto  north Moravia    323870.0    10673.000000   \n",
       "\n",
       "    unemployment_rate  num_committed_crimes  \n",
       "0                0.43          99107.000000  \n",
       "53               1.96          18696.000000  \n",
       "67               4.72          12703.935555  \n",
       "69               7.75          10108.000000  \n",
       "71               4.79           9208.000000  \n",
       "73               5.44          18347.000000  "
      ]
     },
     "execution_count": 59,
     "metadata": {},
     "output_type": "execute_result"
    }
   ],
   "source": [
    "district[district['num_committed_crimes'] >= num_committed_crimes_high]"
   ]
  },
  {
   "cell_type": "code",
   "execution_count": 60,
   "metadata": {},
   "outputs": [
    {
     "data": {
      "text/html": [
       "<div>\n",
       "<style scoped>\n",
       "    .dataframe tbody tr th:only-of-type {\n",
       "        vertical-align: middle;\n",
       "    }\n",
       "\n",
       "    .dataframe tbody tr th {\n",
       "        vertical-align: top;\n",
       "    }\n",
       "\n",
       "    .dataframe thead th {\n",
       "        text-align: right;\n",
       "    }\n",
       "</style>\n",
       "<table border=\"1\" class=\"dataframe\">\n",
       "  <thead>\n",
       "    <tr style=\"text-align: right;\">\n",
       "      <th></th>\n",
       "      <th>district_id</th>\n",
       "      <th>district_name</th>\n",
       "      <th>region</th>\n",
       "      <th>population</th>\n",
       "      <th>average_salary</th>\n",
       "      <th>unemployment_rate</th>\n",
       "      <th>num_committed_crimes</th>\n",
       "    </tr>\n",
       "  </thead>\n",
       "  <tbody>\n",
       "    <tr>\n",
       "      <th>0</th>\n",
       "      <td>1</td>\n",
       "      <td>Hl.m. Praha</td>\n",
       "      <td>Prague</td>\n",
       "      <td>1204953.0</td>\n",
       "      <td>12541.0</td>\n",
       "      <td>0.430000</td>\n",
       "      <td>99107.0</td>\n",
       "    </tr>\n",
       "    <tr>\n",
       "      <th>25</th>\n",
       "      <td>26</td>\n",
       "      <td>Plzen - mesto</td>\n",
       "      <td>west Bohemia</td>\n",
       "      <td>170449.0</td>\n",
       "      <td>10787.0</td>\n",
       "      <td>4.885392</td>\n",
       "      <td>6261.0</td>\n",
       "    </tr>\n",
       "    <tr>\n",
       "      <th>38</th>\n",
       "      <td>39</td>\n",
       "      <td>Most</td>\n",
       "      <td>north Bohemia</td>\n",
       "      <td>119895.0</td>\n",
       "      <td>10446.0</td>\n",
       "      <td>9.400000</td>\n",
       "      <td>4743.0</td>\n",
       "    </tr>\n",
       "    <tr>\n",
       "      <th>73</th>\n",
       "      <td>74</td>\n",
       "      <td>Ostrava - mesto</td>\n",
       "      <td>north Moravia</td>\n",
       "      <td>323870.0</td>\n",
       "      <td>10673.0</td>\n",
       "      <td>5.440000</td>\n",
       "      <td>18347.0</td>\n",
       "    </tr>\n",
       "  </tbody>\n",
       "</table>\n",
       "</div>"
      ],
      "text/plain": [
       "    district_id    district_name         region  population  average_salary  \\\n",
       "0             1      Hl.m. Praha         Prague   1204953.0         12541.0   \n",
       "25           26    Plzen - mesto   west Bohemia    170449.0         10787.0   \n",
       "38           39             Most  north Bohemia    119895.0         10446.0   \n",
       "73           74  Ostrava - mesto  north Moravia    323870.0         10673.0   \n",
       "\n",
       "    unemployment_rate  num_committed_crimes  \n",
       "0            0.430000               99107.0  \n",
       "25           4.885392                6261.0  \n",
       "38           9.400000                4743.0  \n",
       "73           5.440000               18347.0  "
      ]
     },
     "execution_count": 60,
     "metadata": {},
     "output_type": "execute_result"
    }
   ],
   "source": [
    "district[district['average_salary'] >= average_salary_high]"
   ]
  },
  {
   "cell_type": "code",
   "execution_count": 66,
   "metadata": {},
   "outputs": [
    {
     "data": {
      "text/html": [
       "<div>\n",
       "<style scoped>\n",
       "    .dataframe tbody tr th:only-of-type {\n",
       "        vertical-align: middle;\n",
       "    }\n",
       "\n",
       "    .dataframe tbody tr th {\n",
       "        vertical-align: top;\n",
       "    }\n",
       "\n",
       "    .dataframe thead th {\n",
       "        text-align: right;\n",
       "    }\n",
       "</style>\n",
       "<table border=\"1\" class=\"dataframe\">\n",
       "  <thead>\n",
       "    <tr style=\"text-align: right;\">\n",
       "      <th></th>\n",
       "      <th>district_id</th>\n",
       "      <th>district_name</th>\n",
       "      <th>region</th>\n",
       "      <th>population</th>\n",
       "      <th>average_salary</th>\n",
       "      <th>unemployment_rate</th>\n",
       "      <th>num_committed_crimes</th>\n",
       "    </tr>\n",
       "  </thead>\n",
       "  <tbody>\n",
       "    <tr>\n",
       "      <th>32</th>\n",
       "      <td>33</td>\n",
       "      <td>Decin</td>\n",
       "      <td>north Bohemia</td>\n",
       "      <td>133777.0</td>\n",
       "      <td>8705.0</td>\n",
       "      <td>7.61</td>\n",
       "      <td>4859.0</td>\n",
       "    </tr>\n",
       "    <tr>\n",
       "      <th>33</th>\n",
       "      <td>34</td>\n",
       "      <td>Chomutov</td>\n",
       "      <td>north Bohemia</td>\n",
       "      <td>125236.0</td>\n",
       "      <td>9675.0</td>\n",
       "      <td>7.68</td>\n",
       "      <td>5190.0</td>\n",
       "    </tr>\n",
       "    <tr>\n",
       "      <th>38</th>\n",
       "      <td>39</td>\n",
       "      <td>Most</td>\n",
       "      <td>north Bohemia</td>\n",
       "      <td>119895.0</td>\n",
       "      <td>10446.0</td>\n",
       "      <td>9.40</td>\n",
       "      <td>4743.0</td>\n",
       "    </tr>\n",
       "    <tr>\n",
       "      <th>69</th>\n",
       "      <td>70</td>\n",
       "      <td>Karvina</td>\n",
       "      <td>north Moravia</td>\n",
       "      <td>285387.0</td>\n",
       "      <td>10177.0</td>\n",
       "      <td>7.75</td>\n",
       "      <td>10108.0</td>\n",
       "    </tr>\n",
       "  </tbody>\n",
       "</table>\n",
       "</div>"
      ],
      "text/plain": [
       "    district_id district_name         region  population  average_salary  \\\n",
       "32           33         Decin  north Bohemia    133777.0          8705.0   \n",
       "33           34      Chomutov  north Bohemia    125236.0          9675.0   \n",
       "38           39          Most  north Bohemia    119895.0         10446.0   \n",
       "69           70       Karvina  north Moravia    285387.0         10177.0   \n",
       "\n",
       "    unemployment_rate  num_committed_crimes  \n",
       "32               7.61                4859.0  \n",
       "33               7.68                5190.0  \n",
       "38               9.40                4743.0  \n",
       "69               7.75               10108.0  "
      ]
     },
     "execution_count": 66,
     "metadata": {},
     "output_type": "execute_result"
    }
   ],
   "source": [
    "#Since district_id \"1\", \"74\" appears in 3 of the tables that may display outliers, these rows may be possible outliers\n",
    "district[district['unemployment_rate'] >= unemployment_rate_high]"
   ]
  },
  {
   "cell_type": "code",
   "execution_count": 83,
   "metadata": {},
   "outputs": [
    {
     "data": {
      "text/html": [
       "<div>\n",
       "<style scoped>\n",
       "    .dataframe tbody tr th:only-of-type {\n",
       "        vertical-align: middle;\n",
       "    }\n",
       "\n",
       "    .dataframe tbody tr th {\n",
       "        vertical-align: top;\n",
       "    }\n",
       "\n",
       "    .dataframe thead th {\n",
       "        text-align: right;\n",
       "    }\n",
       "</style>\n",
       "<table border=\"1\" class=\"dataframe\">\n",
       "  <thead>\n",
       "    <tr style=\"text-align: right;\">\n",
       "      <th></th>\n",
       "      <th>district_id</th>\n",
       "      <th>district_name</th>\n",
       "      <th>region</th>\n",
       "      <th>population</th>\n",
       "      <th>average_salary</th>\n",
       "      <th>unemployment_rate</th>\n",
       "      <th>num_committed_crimes</th>\n",
       "    </tr>\n",
       "  </thead>\n",
       "  <tbody>\n",
       "    <tr>\n",
       "      <th>0</th>\n",
       "      <td>1</td>\n",
       "      <td>Hl.m. Praha</td>\n",
       "      <td>Prague</td>\n",
       "      <td>1204953.0</td>\n",
       "      <td>12541.0</td>\n",
       "      <td>0.43</td>\n",
       "      <td>99107.0</td>\n",
       "    </tr>\n",
       "    <tr>\n",
       "      <th>73</th>\n",
       "      <td>74</td>\n",
       "      <td>Ostrava - mesto</td>\n",
       "      <td>north Moravia</td>\n",
       "      <td>323870.0</td>\n",
       "      <td>10673.0</td>\n",
       "      <td>5.44</td>\n",
       "      <td>18347.0</td>\n",
       "    </tr>\n",
       "  </tbody>\n",
       "</table>\n",
       "</div>"
      ],
      "text/plain": [
       "    district_id    district_name         region  population  average_salary  \\\n",
       "0             1      Hl.m. Praha         Prague   1204953.0         12541.0   \n",
       "73           74  Ostrava - mesto  north Moravia    323870.0         10673.0   \n",
       "\n",
       "    unemployment_rate  num_committed_crimes  \n",
       "0                0.43               99107.0  \n",
       "73               5.44               18347.0  "
      ]
     },
     "execution_count": 83,
     "metadata": {},
     "output_type": "execute_result"
    }
   ],
   "source": [
    "#Since district_id \"1\", \"74\" appears in 3 of the DF's that may display outliers, these rows may be possible outliers\n",
    "#Even as district_id 1 has a much larger population and num_committed_crimes, since the unemployment rate is low, there\n",
    "#may not be a reason to drop this row\n",
    "district.loc[[0,73]]"
   ]
  },
  {
   "cell_type": "markdown",
   "metadata": {},
   "source": [
    "### 12. Check for outliers in `trans` using the `describe` method, then look at the histograms of the suspicious columns"
   ]
  },
  {
   "cell_type": "code",
   "execution_count": 103,
   "metadata": {},
   "outputs": [
    {
     "data": {
      "text/html": [
       "<div>\n",
       "<style scoped>\n",
       "    .dataframe tbody tr th:only-of-type {\n",
       "        vertical-align: middle;\n",
       "    }\n",
       "\n",
       "    .dataframe tbody tr th {\n",
       "        vertical-align: top;\n",
       "    }\n",
       "\n",
       "    .dataframe thead th {\n",
       "        text-align: right;\n",
       "    }\n",
       "</style>\n",
       "<table border=\"1\" class=\"dataframe\">\n",
       "  <thead>\n",
       "    <tr style=\"text-align: right;\">\n",
       "      <th></th>\n",
       "      <th>count</th>\n",
       "      <th>mean</th>\n",
       "      <th>std</th>\n",
       "      <th>min</th>\n",
       "      <th>25%</th>\n",
       "      <th>50%</th>\n",
       "      <th>75%</th>\n",
       "      <th>max</th>\n",
       "    </tr>\n",
       "  </thead>\n",
       "  <tbody>\n",
       "    <tr>\n",
       "      <th>trans_id</th>\n",
       "      <td>1056320.0</td>\n",
       "      <td>1.335311e+06</td>\n",
       "      <td>1.227487e+06</td>\n",
       "      <td>1.0</td>\n",
       "      <td>430262.75</td>\n",
       "      <td>858506.5</td>\n",
       "      <td>2060979.250</td>\n",
       "      <td>3682987.0</td>\n",
       "    </tr>\n",
       "    <tr>\n",
       "      <th>account_id</th>\n",
       "      <td>1056320.0</td>\n",
       "      <td>2.936867e+03</td>\n",
       "      <td>2.477345e+03</td>\n",
       "      <td>1.0</td>\n",
       "      <td>1204.00</td>\n",
       "      <td>2434.0</td>\n",
       "      <td>3660.000</td>\n",
       "      <td>11382.0</td>\n",
       "    </tr>\n",
       "    <tr>\n",
       "      <th>amount</th>\n",
       "      <td>1056320.0</td>\n",
       "      <td>5.924146e+03</td>\n",
       "      <td>9.522735e+03</td>\n",
       "      <td>0.0</td>\n",
       "      <td>135.90</td>\n",
       "      <td>2100.0</td>\n",
       "      <td>6800.000</td>\n",
       "      <td>87400.0</td>\n",
       "    </tr>\n",
       "    <tr>\n",
       "      <th>balance</th>\n",
       "      <td>1056320.0</td>\n",
       "      <td>3.851833e+04</td>\n",
       "      <td>2.211787e+04</td>\n",
       "      <td>-41125.7</td>\n",
       "      <td>22402.50</td>\n",
       "      <td>33143.4</td>\n",
       "      <td>49603.625</td>\n",
       "      <td>209637.0</td>\n",
       "    </tr>\n",
       "    <tr>\n",
       "      <th>partner_account</th>\n",
       "      <td>1056320.0</td>\n",
       "      <td>1.277068e+07</td>\n",
       "      <td>2.613658e+07</td>\n",
       "      <td>-999.0</td>\n",
       "      <td>-999.00</td>\n",
       "      <td>-999.0</td>\n",
       "      <td>3410566.000</td>\n",
       "      <td>99994199.0</td>\n",
       "    </tr>\n",
       "  </tbody>\n",
       "</table>\n",
       "</div>"
      ],
      "text/plain": [
       "                     count          mean           std      min        25%  \\\n",
       "trans_id         1056320.0  1.335311e+06  1.227487e+06      1.0  430262.75   \n",
       "account_id       1056320.0  2.936867e+03  2.477345e+03      1.0    1204.00   \n",
       "amount           1056320.0  5.924146e+03  9.522735e+03      0.0     135.90   \n",
       "balance          1056320.0  3.851833e+04  2.211787e+04 -41125.7   22402.50   \n",
       "partner_account  1056320.0  1.277068e+07  2.613658e+07   -999.0    -999.00   \n",
       "\n",
       "                      50%          75%         max  \n",
       "trans_id         858506.5  2060979.250   3682987.0  \n",
       "account_id         2434.0     3660.000     11382.0  \n",
       "amount             2100.0     6800.000     87400.0  \n",
       "balance           33143.4    49603.625    209637.0  \n",
       "partner_account    -999.0  3410566.000  99994199.0  "
      ]
     },
     "execution_count": 103,
     "metadata": {},
     "output_type": "execute_result"
    }
   ],
   "source": [
    "trans.describe().T"
   ]
  },
  {
   "cell_type": "code",
   "execution_count": 104,
   "metadata": {},
   "outputs": [
    {
     "data": {
      "text/plain": [
       "array([[<Axes: title={'center': 'trans_id'}>,\n",
       "        <Axes: title={'center': 'account_id'}>],\n",
       "       [<Axes: title={'center': 'amount'}>,\n",
       "        <Axes: title={'center': 'balance'}>],\n",
       "       [<Axes: title={'center': 'partner_account'}>, <Axes: >]],\n",
       "      dtype=object)"
      ]
     },
     "execution_count": 104,
     "metadata": {},
     "output_type": "execute_result"
    },
    {
     "data": {
      "image/png": "[encoded data removed]",
      "text/plain": [
       "<Figure size 1200x900 with 6 Axes>"
      ]
     },
     "metadata": {},
     "output_type": "display_data"
    }
   ],
   "source": [
    "trans.hist(bins = 40, figsize=(12,9))"
   ]
  },
  {
   "cell_type": "code",
   "execution_count": 105,
   "metadata": {},
   "outputs": [
    {
     "data": {
      "text/plain": [
       "6664.1"
      ]
     },
     "execution_count": 105,
     "metadata": {},
     "output_type": "execute_result"
    }
   ],
   "source": [
    "amount_iqr = (6800.000)-(135.90)\n",
    "amount_iqr"
   ]
  },
  {
   "cell_type": "code",
   "execution_count": 106,
   "metadata": {},
   "outputs": [
    {
     "data": {
      "text/plain": [
       "16796.15"
      ]
     },
     "execution_count": 106,
     "metadata": {},
     "output_type": "execute_result"
    }
   ],
   "source": [
    "amount_high = (6800.000)+1.5*(6664.1)\n",
    "amount_high"
   ]
  },
  {
   "cell_type": "code",
   "execution_count": 107,
   "metadata": {},
   "outputs": [
    {
     "data": {
      "text/plain": [
       "-9860.250000000002"
      ]
     },
     "execution_count": 107,
     "metadata": {},
     "output_type": "execute_result"
    }
   ],
   "source": [
    "amount_low = (135.90) - 1.5*(6664.1)\n",
    "amount_low"
   ]
  },
  {
   "cell_type": "code",
   "execution_count": 108,
   "metadata": {},
   "outputs": [
    {
     "data": {
      "text/plain": [
       "27201.125"
      ]
     },
     "execution_count": 108,
     "metadata": {},
     "output_type": "execute_result"
    }
   ],
   "source": [
    "balance_iqr = (49603.625)-(22402.50)\n",
    "balance_iqr"
   ]
  },
  {
   "cell_type": "code",
   "execution_count": 109,
   "metadata": {},
   "outputs": [
    {
     "data": {
      "text/plain": [
       "90405.3125"
      ]
     },
     "execution_count": 109,
     "metadata": {},
     "output_type": "execute_result"
    }
   ],
   "source": [
    "balance_high = (49603.625)+1.5*(27201.125)\n",
    "balance_high"
   ]
  },
  {
   "cell_type": "code",
   "execution_count": 110,
   "metadata": {},
   "outputs": [
    {
     "data": {
      "text/plain": [
       "-18399.1875"
      ]
     },
     "execution_count": 110,
     "metadata": {},
     "output_type": "execute_result"
    }
   ],
   "source": [
    "balance_low = (22402.50) - 1.5*(27201.125)\n",
    "balance_low"
   ]
  },
  {
   "cell_type": "code",
   "execution_count": 111,
   "metadata": {},
   "outputs": [
    {
     "data": {
      "text/plain": [
       "3411565.0"
      ]
     },
     "execution_count": 111,
     "metadata": {},
     "output_type": "execute_result"
    }
   ],
   "source": [
    "partner_account_iqr = (3410566.000)-(-999.00)\n",
    "partner_account_iqr"
   ]
  },
  {
   "cell_type": "code",
   "execution_count": 112,
   "metadata": {},
   "outputs": [
    {
     "data": {
      "text/plain": [
       "8527913.5"
      ]
     },
     "execution_count": 112,
     "metadata": {},
     "output_type": "execute_result"
    }
   ],
   "source": [
    "partner_account_high = (3410566.000)+1.5*(3411565.0)\n",
    "partner_account_high"
   ]
  },
  {
   "cell_type": "code",
   "execution_count": 113,
   "metadata": {},
   "outputs": [
    {
     "data": {
      "text/plain": [
       "-5118346.5"
      ]
     },
     "execution_count": 113,
     "metadata": {},
     "output_type": "execute_result"
    }
   ],
   "source": [
    "partner_account_low = (-999.00) - 1.5*(3411565.0)\n",
    "partner_account_low"
   ]
  },
  {
   "cell_type": "markdown",
   "metadata": {},
   "source": [
    "#### Explore the outliers in the dataset"
   ]
  },
  {
   "cell_type": "code",
   "execution_count": 114,
   "metadata": {},
   "outputs": [
    {
     "data": {
      "text/html": [
       "<div>\n",
       "<style scoped>\n",
       "    .dataframe tbody tr th:only-of-type {\n",
       "        vertical-align: middle;\n",
       "    }\n",
       "\n",
       "    .dataframe tbody tr th {\n",
       "        vertical-align: top;\n",
       "    }\n",
       "\n",
       "    .dataframe thead th {\n",
       "        text-align: right;\n",
       "    }\n",
       "</style>\n",
       "<table border=\"1\" class=\"dataframe\">\n",
       "  <thead>\n",
       "    <tr style=\"text-align: right;\">\n",
       "      <th></th>\n",
       "      <th>trans_id</th>\n",
       "      <th>account_id</th>\n",
       "      <th>date</th>\n",
       "      <th>type</th>\n",
       "      <th>operation_type</th>\n",
       "      <th>amount</th>\n",
       "      <th>balance</th>\n",
       "      <th>description</th>\n",
       "      <th>partner_bank</th>\n",
       "      <th>partner_account</th>\n",
       "    </tr>\n",
       "  </thead>\n",
       "  <tbody>\n",
       "    <tr>\n",
       "      <th>42</th>\n",
       "      <td>1117248</td>\n",
       "      <td>3818</td>\n",
       "      <td>1993-01-09</td>\n",
       "      <td>CREDIT</td>\n",
       "      <td>CREDIT IN CASH</td>\n",
       "      <td>17366.0</td>\n",
       "      <td>17966.0</td>\n",
       "      <td>UNKNOWN</td>\n",
       "      <td>UNKNOWN</td>\n",
       "      <td>-999.0</td>\n",
       "    </tr>\n",
       "    <tr>\n",
       "      <th>58</th>\n",
       "      <td>207265</td>\n",
       "      <td>704</td>\n",
       "      <td>1993-01-12</td>\n",
       "      <td>CREDIT</td>\n",
       "      <td>CREDIT IN CASH</td>\n",
       "      <td>17477.0</td>\n",
       "      <td>18477.0</td>\n",
       "      <td>UNKNOWN</td>\n",
       "      <td>UNKNOWN</td>\n",
       "      <td>-999.0</td>\n",
       "    </tr>\n",
       "    <tr>\n",
       "      <th>73</th>\n",
       "      <td>1548750</td>\n",
       "      <td>5270</td>\n",
       "      <td>1993-01-14</td>\n",
       "      <td>CREDIT</td>\n",
       "      <td>COLLECTION FROM ANOTHER BANK</td>\n",
       "      <td>44749.0</td>\n",
       "      <td>45549.0</td>\n",
       "      <td>UNKNOWN</td>\n",
       "      <td>IJ</td>\n",
       "      <td>80269753.0</td>\n",
       "    </tr>\n",
       "    <tr>\n",
       "      <th>76</th>\n",
       "      <td>621775</td>\n",
       "      <td>2122</td>\n",
       "      <td>1993-01-15</td>\n",
       "      <td>CREDIT</td>\n",
       "      <td>CREDIT IN CASH</td>\n",
       "      <td>46552.0</td>\n",
       "      <td>46852.0</td>\n",
       "      <td>UNKNOWN</td>\n",
       "      <td>UNKNOWN</td>\n",
       "      <td>-999.0</td>\n",
       "    </tr>\n",
       "    <tr>\n",
       "      <th>80</th>\n",
       "      <td>1027726</td>\n",
       "      <td>3510</td>\n",
       "      <td>1993-01-17</td>\n",
       "      <td>CREDIT</td>\n",
       "      <td>CREDIT IN CASH</td>\n",
       "      <td>23323.0</td>\n",
       "      <td>23823.0</td>\n",
       "      <td>UNKNOWN</td>\n",
       "      <td>UNKNOWN</td>\n",
       "      <td>-999.0</td>\n",
       "    </tr>\n",
       "    <tr>\n",
       "      <th>...</th>\n",
       "      <td>...</td>\n",
       "      <td>...</td>\n",
       "      <td>...</td>\n",
       "      <td>...</td>\n",
       "      <td>...</td>\n",
       "      <td>...</td>\n",
       "      <td>...</td>\n",
       "      <td>...</td>\n",
       "      <td>...</td>\n",
       "      <td>...</td>\n",
       "    </tr>\n",
       "    <tr>\n",
       "      <th>1051802</th>\n",
       "      <td>1009071</td>\n",
       "      <td>3446</td>\n",
       "      <td>1998-12-30</td>\n",
       "      <td>DEBIT</td>\n",
       "      <td>WITHDRAWAL IN CASH</td>\n",
       "      <td>25500.0</td>\n",
       "      <td>95357.0</td>\n",
       "      <td>UNKNOWN</td>\n",
       "      <td>UNKNOWN</td>\n",
       "      <td>-999.0</td>\n",
       "    </tr>\n",
       "    <tr>\n",
       "      <th>1051803</th>\n",
       "      <td>2520380</td>\n",
       "      <td>8316</td>\n",
       "      <td>1998-12-30</td>\n",
       "      <td>CREDIT</td>\n",
       "      <td>CREDIT IN CASH</td>\n",
       "      <td>36712.0</td>\n",
       "      <td>92753.3</td>\n",
       "      <td>UNKNOWN</td>\n",
       "      <td>UNKNOWN</td>\n",
       "      <td>-999.0</td>\n",
       "    </tr>\n",
       "    <tr>\n",
       "      <th>1051804</th>\n",
       "      <td>2520673</td>\n",
       "      <td>8316</td>\n",
       "      <td>1998-12-30</td>\n",
       "      <td>DEBIT</td>\n",
       "      <td>WITHDRAWAL IN CASH</td>\n",
       "      <td>21200.0</td>\n",
       "      <td>121376.3</td>\n",
       "      <td>UNKNOWN</td>\n",
       "      <td>UNKNOWN</td>\n",
       "      <td>-999.0</td>\n",
       "    </tr>\n",
       "    <tr>\n",
       "      <th>1051806</th>\n",
       "      <td>2520387</td>\n",
       "      <td>8316</td>\n",
       "      <td>1998-12-30</td>\n",
       "      <td>CREDIT</td>\n",
       "      <td>CREDIT IN CASH</td>\n",
       "      <td>49823.0</td>\n",
       "      <td>142576.3</td>\n",
       "      <td>UNKNOWN</td>\n",
       "      <td>UNKNOWN</td>\n",
       "      <td>-999.0</td>\n",
       "    </tr>\n",
       "    <tr>\n",
       "      <th>1051813</th>\n",
       "      <td>927818</td>\n",
       "      <td>3163</td>\n",
       "      <td>1998-12-30</td>\n",
       "      <td>CREDIT</td>\n",
       "      <td>CREDIT IN CASH</td>\n",
       "      <td>25506.0</td>\n",
       "      <td>88210.8</td>\n",
       "      <td>UNKNOWN</td>\n",
       "      <td>UNKNOWN</td>\n",
       "      <td>-999.0</td>\n",
       "    </tr>\n",
       "  </tbody>\n",
       "</table>\n",
       "<p>120215 rows × 10 columns</p>\n",
       "</div>"
      ],
      "text/plain": [
       "         trans_id  account_id        date    type  \\\n",
       "42        1117248        3818  1993-01-09  CREDIT   \n",
       "58         207265         704  1993-01-12  CREDIT   \n",
       "73        1548750        5270  1993-01-14  CREDIT   \n",
       "76         621775        2122  1993-01-15  CREDIT   \n",
       "80        1027726        3510  1993-01-17  CREDIT   \n",
       "...           ...         ...         ...     ...   \n",
       "1051802   1009071        3446  1998-12-30   DEBIT   \n",
       "1051803   2520380        8316  1998-12-30  CREDIT   \n",
       "1051804   2520673        8316  1998-12-30   DEBIT   \n",
       "1051806   2520387        8316  1998-12-30  CREDIT   \n",
       "1051813    927818        3163  1998-12-30  CREDIT   \n",
       "\n",
       "                       operation_type   amount   balance description  \\\n",
       "42                     CREDIT IN CASH  17366.0   17966.0     UNKNOWN   \n",
       "58                     CREDIT IN CASH  17477.0   18477.0     UNKNOWN   \n",
       "73       COLLECTION FROM ANOTHER BANK  44749.0   45549.0     UNKNOWN   \n",
       "76                     CREDIT IN CASH  46552.0   46852.0     UNKNOWN   \n",
       "80                     CREDIT IN CASH  23323.0   23823.0     UNKNOWN   \n",
       "...                               ...      ...       ...         ...   \n",
       "1051802            WITHDRAWAL IN CASH  25500.0   95357.0     UNKNOWN   \n",
       "1051803                CREDIT IN CASH  36712.0   92753.3     UNKNOWN   \n",
       "1051804            WITHDRAWAL IN CASH  21200.0  121376.3     UNKNOWN   \n",
       "1051806                CREDIT IN CASH  49823.0  142576.3     UNKNOWN   \n",
       "1051813                CREDIT IN CASH  25506.0   88210.8     UNKNOWN   \n",
       "\n",
       "        partner_bank  partner_account  \n",
       "42           UNKNOWN           -999.0  \n",
       "58           UNKNOWN           -999.0  \n",
       "73                IJ       80269753.0  \n",
       "76           UNKNOWN           -999.0  \n",
       "80           UNKNOWN           -999.0  \n",
       "...              ...              ...  \n",
       "1051802      UNKNOWN           -999.0  \n",
       "1051803      UNKNOWN           -999.0  \n",
       "1051804      UNKNOWN           -999.0  \n",
       "1051806      UNKNOWN           -999.0  \n",
       "1051813      UNKNOWN           -999.0  \n",
       "\n",
       "[120215 rows x 10 columns]"
      ]
     },
     "execution_count": 114,
     "metadata": {},
     "output_type": "execute_result"
    }
   ],
   "source": [
    "trans[trans['amount'] >= amount_high]"
   ]
  },
  {
   "cell_type": "code",
   "execution_count": 116,
   "metadata": {},
   "outputs": [
    {
     "data": {
      "text/html": [
       "<div>\n",
       "<style scoped>\n",
       "    .dataframe tbody tr th:only-of-type {\n",
       "        vertical-align: middle;\n",
       "    }\n",
       "\n",
       "    .dataframe tbody tr th {\n",
       "        vertical-align: top;\n",
       "    }\n",
       "\n",
       "    .dataframe thead th {\n",
       "        text-align: right;\n",
       "    }\n",
       "</style>\n",
       "<table border=\"1\" class=\"dataframe\">\n",
       "  <thead>\n",
       "    <tr style=\"text-align: right;\">\n",
       "      <th></th>\n",
       "      <th>trans_id</th>\n",
       "      <th>account_id</th>\n",
       "      <th>date</th>\n",
       "      <th>type</th>\n",
       "      <th>operation_type</th>\n",
       "      <th>amount</th>\n",
       "      <th>balance</th>\n",
       "      <th>description</th>\n",
       "      <th>partner_bank</th>\n",
       "      <th>partner_account</th>\n",
       "    </tr>\n",
       "  </thead>\n",
       "  <tbody>\n",
       "  </tbody>\n",
       "</table>\n",
       "</div>"
      ],
      "text/plain": [
       "Empty DataFrame\n",
       "Columns: [trans_id, account_id, date, type, operation_type, amount, balance, description, partner_bank, partner_account]\n",
       "Index: []"
      ]
     },
     "execution_count": 116,
     "metadata": {},
     "output_type": "execute_result"
    }
   ],
   "source": [
    "trans[trans['amount'] <= amount_low]"
   ]
  },
  {
   "cell_type": "code",
   "execution_count": 118,
   "metadata": {},
   "outputs": [
    {
     "ename": "TypeError",
     "evalue": "DataFrame.sort_values() missing 1 required positional argument: 'by'",
     "output_type": "error",
     "traceback": [
      "\u001b[0;31m---------------------------------------------------------------------------\u001b[0m",
      "\u001b[0;31mTypeError\u001b[0m                                 Traceback (most recent call last)",
      "Cell \u001b[0;32mIn[118], line 1\u001b[0m\n\u001b[0;32m----> 1\u001b[0m \u001b[43mtrans\u001b[49m\u001b[43m[\u001b[49m\u001b[43mtrans\u001b[49m\u001b[43m[\u001b[49m\u001b[38;5;124;43m'\u001b[39;49m\u001b[38;5;124;43mbalance\u001b[39;49m\u001b[38;5;124;43m'\u001b[39;49m\u001b[43m]\u001b[49m\u001b[43m \u001b[49m\u001b[38;5;241;43m>\u001b[39;49m\u001b[38;5;241;43m=\u001b[39;49m\u001b[43m \u001b[49m\u001b[43mbalance_high\u001b[49m\u001b[43m]\u001b[49m\u001b[38;5;241;43m.\u001b[39;49m\u001b[43msort_values\u001b[49m\u001b[43m(\u001b[49m\u001b[43m)\u001b[49m\n",
      "\u001b[0;31mTypeError\u001b[0m: DataFrame.sort_values() missing 1 required positional argument: 'by'"
     ]
    }
   ],
   "source": [
    "trans[trans['balance'] >= balance_high]"
   ]
  },
  {
   "cell_type": "code",
   "execution_count": null,
   "metadata": {},
   "outputs": [],
   "source": []
  },
  {
   "cell_type": "code",
   "execution_count": null,
   "metadata": {},
   "outputs": [],
   "source": []
  },
  {
   "cell_type": "markdown",
   "metadata": {},
   "source": [
    "The DataFrame `account` doesn't have any columns that could have outliers, so we are not exploring it."
   ]
  },
  {
   "cell_type": "markdown",
   "metadata": {},
   "source": [
    "### 13. Merge (left join) `account` and `district` into a new DataFrame called `account_district` using their common columns"
   ]
  },
  {
   "cell_type": "code",
   "execution_count": 95,
   "metadata": {},
   "outputs": [
    {
     "data": {
      "text/plain": [
       "(4500, 11)"
      ]
     },
     "execution_count": 95,
     "metadata": {},
     "output_type": "execute_result"
    }
   ],
   "source": [
    "account_district = pd.merge(account, district, on='district_id', how='left')\n",
    "account_district.shape"
   ]
  },
  {
   "cell_type": "markdown",
   "metadata": {},
   "source": [
    "### 14. Check the information summary of `account_district`, any missing data?"
   ]
  },
  {
   "cell_type": "code",
   "execution_count": 96,
   "metadata": {},
   "outputs": [
    {
     "name": "stdout",
     "output_type": "stream",
     "text": [
      "<class 'pandas.core.frame.DataFrame'>\n",
      "RangeIndex: 4500 entries, 0 to 4499\n",
      "Data columns (total 11 columns):\n",
      " #   Column                Non-Null Count  Dtype  \n",
      "---  ------                --------------  -----  \n",
      " 0   account_id            4500 non-null   int64  \n",
      " 1   district_id           4500 non-null   int64  \n",
      " 2   frequency             4500 non-null   object \n",
      " 3   account_open_date     4500 non-null   object \n",
      " 4   client_id             4500 non-null   int64  \n",
      " 5   district_name         4460 non-null   object \n",
      " 6   region                4460 non-null   object \n",
      " 7   population            4460 non-null   float64\n",
      " 8   average_salary        4460 non-null   float64\n",
      " 9   unemployment_rate     4460 non-null   float64\n",
      " 10  num_committed_crimes  4460 non-null   float64\n",
      "dtypes: float64(4), int64(3), object(4)\n",
      "memory usage: 386.8+ KB\n"
     ]
    }
   ],
   "source": [
    "account_district.info()"
   ]
  },
  {
   "cell_type": "markdown",
   "metadata": {},
   "source": [
    "#### Look at the rows with missing data in `account_district`"
   ]
  },
  {
   "cell_type": "code",
   "execution_count": 98,
   "metadata": {},
   "outputs": [
    {
     "data": {
      "text/plain": [
       "account_id               0\n",
       "district_id              0\n",
       "frequency                0\n",
       "account_open_date        0\n",
       "client_id                0\n",
       "district_name           40\n",
       "region                  40\n",
       "population              40\n",
       "average_salary          40\n",
       "unemployment_rate       40\n",
       "num_committed_crimes    40\n",
       "dtype: int64"
      ]
     },
     "execution_count": 98,
     "metadata": {},
     "output_type": "execute_result"
    }
   ],
   "source": [
    "account_district.isna().sum()"
   ]
  },
  {
   "cell_type": "code",
   "execution_count": 101,
   "metadata": {},
   "outputs": [],
   "source": [
    "mis=account_district.isna().sum(axis=1)>0"
   ]
  },
  {
   "cell_type": "code",
   "execution_count": 102,
   "metadata": {},
   "outputs": [
    {
     "data": {
      "text/html": [
       "<div>\n",
       "<style scoped>\n",
       "    .dataframe tbody tr th:only-of-type {\n",
       "        vertical-align: middle;\n",
       "    }\n",
       "\n",
       "    .dataframe tbody tr th {\n",
       "        vertical-align: top;\n",
       "    }\n",
       "\n",
       "    .dataframe thead th {\n",
       "        text-align: right;\n",
       "    }\n",
       "</style>\n",
       "<table border=\"1\" class=\"dataframe\">\n",
       "  <thead>\n",
       "    <tr style=\"text-align: right;\">\n",
       "      <th></th>\n",
       "      <th>account_id</th>\n",
       "      <th>district_id</th>\n",
       "      <th>frequency</th>\n",
       "      <th>account_open_date</th>\n",
       "      <th>client_id</th>\n",
       "      <th>district_name</th>\n",
       "      <th>region</th>\n",
       "      <th>population</th>\n",
       "      <th>average_salary</th>\n",
       "      <th>unemployment_rate</th>\n",
       "      <th>num_committed_crimes</th>\n",
       "    </tr>\n",
       "  </thead>\n",
       "  <tbody>\n",
       "    <tr>\n",
       "      <th>5</th>\n",
       "      <td>1972</td>\n",
       "      <td>77</td>\n",
       "      <td>MONTHLY STATEMENTS</td>\n",
       "      <td>1993-01-02</td>\n",
       "      <td>2397</td>\n",
       "      <td>NaN</td>\n",
       "      <td>NaN</td>\n",
       "      <td>NaN</td>\n",
       "      <td>NaN</td>\n",
       "      <td>NaN</td>\n",
       "      <td>NaN</td>\n",
       "    </tr>\n",
       "    <tr>\n",
       "      <th>77</th>\n",
       "      <td>1000</td>\n",
       "      <td>77</td>\n",
       "      <td>MONTHLY STATEMENTS</td>\n",
       "      <td>1993-01-25</td>\n",
       "      <td>1204</td>\n",
       "      <td>NaN</td>\n",
       "      <td>NaN</td>\n",
       "      <td>NaN</td>\n",
       "      <td>NaN</td>\n",
       "      <td>NaN</td>\n",
       "      <td>NaN</td>\n",
       "    </tr>\n",
       "    <tr>\n",
       "      <th>308</th>\n",
       "      <td>299</td>\n",
       "      <td>77</td>\n",
       "      <td>MONTHLY STATEMENTS</td>\n",
       "      <td>1993-04-05</td>\n",
       "      <td>364</td>\n",
       "      <td>NaN</td>\n",
       "      <td>NaN</td>\n",
       "      <td>NaN</td>\n",
       "      <td>NaN</td>\n",
       "      <td>NaN</td>\n",
       "      <td>NaN</td>\n",
       "    </tr>\n",
       "    <tr>\n",
       "      <th>322</th>\n",
       "      <td>8321</td>\n",
       "      <td>77</td>\n",
       "      <td>MONTHLY STATEMENTS</td>\n",
       "      <td>1993-04-12</td>\n",
       "      <td>10275</td>\n",
       "      <td>NaN</td>\n",
       "      <td>NaN</td>\n",
       "      <td>NaN</td>\n",
       "      <td>NaN</td>\n",
       "      <td>NaN</td>\n",
       "      <td>NaN</td>\n",
       "    </tr>\n",
       "    <tr>\n",
       "      <th>394</th>\n",
       "      <td>551</td>\n",
       "      <td>77</td>\n",
       "      <td>MONTHLY STATEMENTS</td>\n",
       "      <td>1993-05-07</td>\n",
       "      <td>664</td>\n",
       "      <td>NaN</td>\n",
       "      <td>NaN</td>\n",
       "      <td>NaN</td>\n",
       "      <td>NaN</td>\n",
       "      <td>NaN</td>\n",
       "      <td>NaN</td>\n",
       "    </tr>\n",
       "    <tr>\n",
       "      <th>537</th>\n",
       "      <td>5228</td>\n",
       "      <td>77</td>\n",
       "      <td>STATEMENTS AFTER TRANSACTION</td>\n",
       "      <td>1993-06-23</td>\n",
       "      <td>6317</td>\n",
       "      <td>NaN</td>\n",
       "      <td>NaN</td>\n",
       "      <td>NaN</td>\n",
       "      <td>NaN</td>\n",
       "      <td>NaN</td>\n",
       "      <td>NaN</td>\n",
       "    </tr>\n",
       "    <tr>\n",
       "      <th>574</th>\n",
       "      <td>368</td>\n",
       "      <td>77</td>\n",
       "      <td>MONTHLY STATEMENTS</td>\n",
       "      <td>1993-07-06</td>\n",
       "      <td>448</td>\n",
       "      <td>NaN</td>\n",
       "      <td>NaN</td>\n",
       "      <td>NaN</td>\n",
       "      <td>NaN</td>\n",
       "      <td>NaN</td>\n",
       "      <td>NaN</td>\n",
       "    </tr>\n",
       "    <tr>\n",
       "      <th>790</th>\n",
       "      <td>3157</td>\n",
       "      <td>77</td>\n",
       "      <td>MONTHLY STATEMENTS</td>\n",
       "      <td>1993-09-10</td>\n",
       "      <td>3817</td>\n",
       "      <td>NaN</td>\n",
       "      <td>NaN</td>\n",
       "      <td>NaN</td>\n",
       "      <td>NaN</td>\n",
       "      <td>NaN</td>\n",
       "      <td>NaN</td>\n",
       "    </tr>\n",
       "    <tr>\n",
       "      <th>817</th>\n",
       "      <td>857</td>\n",
       "      <td>77</td>\n",
       "      <td>MONTHLY STATEMENTS</td>\n",
       "      <td>1993-09-16</td>\n",
       "      <td>1032</td>\n",
       "      <td>NaN</td>\n",
       "      <td>NaN</td>\n",
       "      <td>NaN</td>\n",
       "      <td>NaN</td>\n",
       "      <td>NaN</td>\n",
       "      <td>NaN</td>\n",
       "    </tr>\n",
       "    <tr>\n",
       "      <th>832</th>\n",
       "      <td>153</td>\n",
       "      <td>77</td>\n",
       "      <td>MONTHLY STATEMENTS</td>\n",
       "      <td>1993-09-19</td>\n",
       "      <td>185</td>\n",
       "      <td>NaN</td>\n",
       "      <td>NaN</td>\n",
       "      <td>NaN</td>\n",
       "      <td>NaN</td>\n",
       "      <td>NaN</td>\n",
       "      <td>NaN</td>\n",
       "    </tr>\n",
       "    <tr>\n",
       "      <th>902</th>\n",
       "      <td>4119</td>\n",
       "      <td>77</td>\n",
       "      <td>MONTHLY STATEMENTS</td>\n",
       "      <td>1993-10-18</td>\n",
       "      <td>4959</td>\n",
       "      <td>NaN</td>\n",
       "      <td>NaN</td>\n",
       "      <td>NaN</td>\n",
       "      <td>NaN</td>\n",
       "      <td>NaN</td>\n",
       "      <td>NaN</td>\n",
       "    </tr>\n",
       "    <tr>\n",
       "      <th>1161</th>\n",
       "      <td>742</td>\n",
       "      <td>77</td>\n",
       "      <td>MONTHLY STATEMENTS</td>\n",
       "      <td>1994-01-28</td>\n",
       "      <td>890</td>\n",
       "      <td>NaN</td>\n",
       "      <td>NaN</td>\n",
       "      <td>NaN</td>\n",
       "      <td>NaN</td>\n",
       "      <td>NaN</td>\n",
       "      <td>NaN</td>\n",
       "    </tr>\n",
       "    <tr>\n",
       "      <th>1331</th>\n",
       "      <td>1634</td>\n",
       "      <td>77</td>\n",
       "      <td>MONTHLY STATEMENTS</td>\n",
       "      <td>1994-06-04</td>\n",
       "      <td>1980</td>\n",
       "      <td>NaN</td>\n",
       "      <td>NaN</td>\n",
       "      <td>NaN</td>\n",
       "      <td>NaN</td>\n",
       "      <td>NaN</td>\n",
       "      <td>NaN</td>\n",
       "    </tr>\n",
       "    <tr>\n",
       "      <th>1526</th>\n",
       "      <td>2377</td>\n",
       "      <td>77</td>\n",
       "      <td>MONTHLY STATEMENTS</td>\n",
       "      <td>1994-11-13</td>\n",
       "      <td>2872</td>\n",
       "      <td>NaN</td>\n",
       "      <td>NaN</td>\n",
       "      <td>NaN</td>\n",
       "      <td>NaN</td>\n",
       "      <td>NaN</td>\n",
       "      <td>NaN</td>\n",
       "    </tr>\n",
       "    <tr>\n",
       "      <th>1622</th>\n",
       "      <td>217</td>\n",
       "      <td>77</td>\n",
       "      <td>MONTHLY STATEMENTS</td>\n",
       "      <td>1995-01-20</td>\n",
       "      <td>262</td>\n",
       "      <td>NaN</td>\n",
       "      <td>NaN</td>\n",
       "      <td>NaN</td>\n",
       "      <td>NaN</td>\n",
       "      <td>NaN</td>\n",
       "      <td>NaN</td>\n",
       "    </tr>\n",
       "    <tr>\n",
       "      <th>1716</th>\n",
       "      <td>3750</td>\n",
       "      <td>77</td>\n",
       "      <td>MONTHLY STATEMENTS</td>\n",
       "      <td>1995-03-18</td>\n",
       "      <td>4524</td>\n",
       "      <td>NaN</td>\n",
       "      <td>NaN</td>\n",
       "      <td>NaN</td>\n",
       "      <td>NaN</td>\n",
       "      <td>NaN</td>\n",
       "      <td>NaN</td>\n",
       "    </tr>\n",
       "    <tr>\n",
       "      <th>1747</th>\n",
       "      <td>1590</td>\n",
       "      <td>77</td>\n",
       "      <td>MONTHLY STATEMENTS</td>\n",
       "      <td>1995-04-07</td>\n",
       "      <td>1927</td>\n",
       "      <td>NaN</td>\n",
       "      <td>NaN</td>\n",
       "      <td>NaN</td>\n",
       "      <td>NaN</td>\n",
       "      <td>NaN</td>\n",
       "      <td>NaN</td>\n",
       "    </tr>\n",
       "    <tr>\n",
       "      <th>1806</th>\n",
       "      <td>2919</td>\n",
       "      <td>77</td>\n",
       "      <td>MONTHLY STATEMENTS</td>\n",
       "      <td>1995-05-10</td>\n",
       "      <td>3527</td>\n",
       "      <td>NaN</td>\n",
       "      <td>NaN</td>\n",
       "      <td>NaN</td>\n",
       "      <td>NaN</td>\n",
       "      <td>NaN</td>\n",
       "      <td>NaN</td>\n",
       "    </tr>\n",
       "    <tr>\n",
       "      <th>1847</th>\n",
       "      <td>53</td>\n",
       "      <td>77</td>\n",
       "      <td>MONTHLY STATEMENTS</td>\n",
       "      <td>1995-06-07</td>\n",
       "      <td>62</td>\n",
       "      <td>NaN</td>\n",
       "      <td>NaN</td>\n",
       "      <td>NaN</td>\n",
       "      <td>NaN</td>\n",
       "      <td>NaN</td>\n",
       "      <td>NaN</td>\n",
       "    </tr>\n",
       "    <tr>\n",
       "      <th>2134</th>\n",
       "      <td>2157</td>\n",
       "      <td>77</td>\n",
       "      <td>MONTHLY STATEMENTS</td>\n",
       "      <td>1995-11-08</td>\n",
       "      <td>2611</td>\n",
       "      <td>NaN</td>\n",
       "      <td>NaN</td>\n",
       "      <td>NaN</td>\n",
       "      <td>NaN</td>\n",
       "      <td>NaN</td>\n",
       "      <td>NaN</td>\n",
       "    </tr>\n",
       "    <tr>\n",
       "      <th>2336</th>\n",
       "      <td>976</td>\n",
       "      <td>77</td>\n",
       "      <td>MONTHLY STATEMENTS</td>\n",
       "      <td>1996-01-27</td>\n",
       "      <td>1177</td>\n",
       "      <td>NaN</td>\n",
       "      <td>NaN</td>\n",
       "      <td>NaN</td>\n",
       "      <td>NaN</td>\n",
       "      <td>NaN</td>\n",
       "      <td>NaN</td>\n",
       "    </tr>\n",
       "    <tr>\n",
       "      <th>2392</th>\n",
       "      <td>1737</td>\n",
       "      <td>77</td>\n",
       "      <td>MONTHLY STATEMENTS</td>\n",
       "      <td>1996-02-13</td>\n",
       "      <td>2108</td>\n",
       "      <td>NaN</td>\n",
       "      <td>NaN</td>\n",
       "      <td>NaN</td>\n",
       "      <td>NaN</td>\n",
       "      <td>NaN</td>\n",
       "      <td>NaN</td>\n",
       "    </tr>\n",
       "    <tr>\n",
       "      <th>2422</th>\n",
       "      <td>184</td>\n",
       "      <td>77</td>\n",
       "      <td>MONTHLY STATEMENTS</td>\n",
       "      <td>1996-02-21</td>\n",
       "      <td>224</td>\n",
       "      <td>NaN</td>\n",
       "      <td>NaN</td>\n",
       "      <td>NaN</td>\n",
       "      <td>NaN</td>\n",
       "      <td>NaN</td>\n",
       "      <td>NaN</td>\n",
       "    </tr>\n",
       "    <tr>\n",
       "      <th>2438</th>\n",
       "      <td>1962</td>\n",
       "      <td>77</td>\n",
       "      <td>MONTHLY STATEMENTS</td>\n",
       "      <td>1996-02-24</td>\n",
       "      <td>2387</td>\n",
       "      <td>NaN</td>\n",
       "      <td>NaN</td>\n",
       "      <td>NaN</td>\n",
       "      <td>NaN</td>\n",
       "      <td>NaN</td>\n",
       "      <td>NaN</td>\n",
       "    </tr>\n",
       "    <tr>\n",
       "      <th>2451</th>\n",
       "      <td>1216</td>\n",
       "      <td>77</td>\n",
       "      <td>MONTHLY STATEMENTS</td>\n",
       "      <td>1996-03-01</td>\n",
       "      <td>1468</td>\n",
       "      <td>NaN</td>\n",
       "      <td>NaN</td>\n",
       "      <td>NaN</td>\n",
       "      <td>NaN</td>\n",
       "      <td>NaN</td>\n",
       "      <td>NaN</td>\n",
       "    </tr>\n",
       "    <tr>\n",
       "      <th>2684</th>\n",
       "      <td>2994</td>\n",
       "      <td>77</td>\n",
       "      <td>MONTHLY STATEMENTS</td>\n",
       "      <td>1996-05-03</td>\n",
       "      <td>3616</td>\n",
       "      <td>NaN</td>\n",
       "      <td>NaN</td>\n",
       "      <td>NaN</td>\n",
       "      <td>NaN</td>\n",
       "      <td>NaN</td>\n",
       "      <td>NaN</td>\n",
       "    </tr>\n",
       "    <tr>\n",
       "      <th>2709</th>\n",
       "      <td>3248</td>\n",
       "      <td>77</td>\n",
       "      <td>MONTHLY STATEMENTS</td>\n",
       "      <td>1996-05-11</td>\n",
       "      <td>3928</td>\n",
       "      <td>NaN</td>\n",
       "      <td>NaN</td>\n",
       "      <td>NaN</td>\n",
       "      <td>NaN</td>\n",
       "      <td>NaN</td>\n",
       "      <td>NaN</td>\n",
       "    </tr>\n",
       "    <tr>\n",
       "      <th>2829</th>\n",
       "      <td>3647</td>\n",
       "      <td>77</td>\n",
       "      <td>MONTHLY STATEMENTS</td>\n",
       "      <td>1996-06-17</td>\n",
       "      <td>4398</td>\n",
       "      <td>NaN</td>\n",
       "      <td>NaN</td>\n",
       "      <td>NaN</td>\n",
       "      <td>NaN</td>\n",
       "      <td>NaN</td>\n",
       "      <td>NaN</td>\n",
       "    </tr>\n",
       "    <tr>\n",
       "      <th>2881</th>\n",
       "      <td>7181</td>\n",
       "      <td>77</td>\n",
       "      <td>STATEMENTS AFTER TRANSACTION</td>\n",
       "      <td>1996-07-02</td>\n",
       "      <td>8667</td>\n",
       "      <td>NaN</td>\n",
       "      <td>NaN</td>\n",
       "      <td>NaN</td>\n",
       "      <td>NaN</td>\n",
       "      <td>NaN</td>\n",
       "      <td>NaN</td>\n",
       "    </tr>\n",
       "    <tr>\n",
       "      <th>3002</th>\n",
       "      <td>4389</td>\n",
       "      <td>77</td>\n",
       "      <td>MONTHLY STATEMENTS</td>\n",
       "      <td>1996-07-28</td>\n",
       "      <td>5287</td>\n",
       "      <td>NaN</td>\n",
       "      <td>NaN</td>\n",
       "      <td>NaN</td>\n",
       "      <td>NaN</td>\n",
       "      <td>NaN</td>\n",
       "      <td>NaN</td>\n",
       "    </tr>\n",
       "    <tr>\n",
       "      <th>3232</th>\n",
       "      <td>2332</td>\n",
       "      <td>77</td>\n",
       "      <td>MONTHLY STATEMENTS</td>\n",
       "      <td>1996-09-24</td>\n",
       "      <td>2820</td>\n",
       "      <td>NaN</td>\n",
       "      <td>NaN</td>\n",
       "      <td>NaN</td>\n",
       "      <td>NaN</td>\n",
       "      <td>NaN</td>\n",
       "      <td>NaN</td>\n",
       "    </tr>\n",
       "    <tr>\n",
       "      <th>3372</th>\n",
       "      <td>1683</td>\n",
       "      <td>77</td>\n",
       "      <td>MONTHLY STATEMENTS</td>\n",
       "      <td>1996-11-01</td>\n",
       "      <td>2043</td>\n",
       "      <td>NaN</td>\n",
       "      <td>NaN</td>\n",
       "      <td>NaN</td>\n",
       "      <td>NaN</td>\n",
       "      <td>NaN</td>\n",
       "      <td>NaN</td>\n",
       "    </tr>\n",
       "    <tr>\n",
       "      <th>3514</th>\n",
       "      <td>5817</td>\n",
       "      <td>77</td>\n",
       "      <td>STATEMENTS AFTER TRANSACTION</td>\n",
       "      <td>1996-12-10</td>\n",
       "      <td>7043</td>\n",
       "      <td>NaN</td>\n",
       "      <td>NaN</td>\n",
       "      <td>NaN</td>\n",
       "      <td>NaN</td>\n",
       "      <td>NaN</td>\n",
       "      <td>NaN</td>\n",
       "    </tr>\n",
       "    <tr>\n",
       "      <th>3520</th>\n",
       "      <td>4631</td>\n",
       "      <td>77</td>\n",
       "      <td>STATEMENTS AFTER TRANSACTION</td>\n",
       "      <td>1996-12-12</td>\n",
       "      <td>5579</td>\n",
       "      <td>NaN</td>\n",
       "      <td>NaN</td>\n",
       "      <td>NaN</td>\n",
       "      <td>NaN</td>\n",
       "      <td>NaN</td>\n",
       "      <td>NaN</td>\n",
       "    </tr>\n",
       "    <tr>\n",
       "      <th>3677</th>\n",
       "      <td>3990</td>\n",
       "      <td>77</td>\n",
       "      <td>MONTHLY STATEMENTS</td>\n",
       "      <td>1997-02-04</td>\n",
       "      <td>4811</td>\n",
       "      <td>NaN</td>\n",
       "      <td>NaN</td>\n",
       "      <td>NaN</td>\n",
       "      <td>NaN</td>\n",
       "      <td>NaN</td>\n",
       "      <td>NaN</td>\n",
       "    </tr>\n",
       "    <tr>\n",
       "      <th>3723</th>\n",
       "      <td>4268</td>\n",
       "      <td>77</td>\n",
       "      <td>MONTHLY STATEMENTS</td>\n",
       "      <td>1997-02-20</td>\n",
       "      <td>5143</td>\n",
       "      <td>NaN</td>\n",
       "      <td>NaN</td>\n",
       "      <td>NaN</td>\n",
       "      <td>NaN</td>\n",
       "      <td>NaN</td>\n",
       "      <td>NaN</td>\n",
       "    </tr>\n",
       "    <tr>\n",
       "      <th>3969</th>\n",
       "      <td>3172</td>\n",
       "      <td>77</td>\n",
       "      <td>MONTHLY STATEMENTS</td>\n",
       "      <td>1997-05-27</td>\n",
       "      <td>3836</td>\n",
       "      <td>NaN</td>\n",
       "      <td>NaN</td>\n",
       "      <td>NaN</td>\n",
       "      <td>NaN</td>\n",
       "      <td>NaN</td>\n",
       "      <td>NaN</td>\n",
       "    </tr>\n",
       "    <tr>\n",
       "      <th>4050</th>\n",
       "      <td>2883</td>\n",
       "      <td>77</td>\n",
       "      <td>MONTHLY STATEMENTS</td>\n",
       "      <td>1997-06-29</td>\n",
       "      <td>3485</td>\n",
       "      <td>NaN</td>\n",
       "      <td>NaN</td>\n",
       "      <td>NaN</td>\n",
       "      <td>NaN</td>\n",
       "      <td>NaN</td>\n",
       "      <td>NaN</td>\n",
       "    </tr>\n",
       "    <tr>\n",
       "      <th>4092</th>\n",
       "      <td>3833</td>\n",
       "      <td>77</td>\n",
       "      <td>MONTHLY STATEMENTS</td>\n",
       "      <td>1997-07-13</td>\n",
       "      <td>4619</td>\n",
       "      <td>NaN</td>\n",
       "      <td>NaN</td>\n",
       "      <td>NaN</td>\n",
       "      <td>NaN</td>\n",
       "      <td>NaN</td>\n",
       "      <td>NaN</td>\n",
       "    </tr>\n",
       "    <tr>\n",
       "      <th>4137</th>\n",
       "      <td>3686</td>\n",
       "      <td>77</td>\n",
       "      <td>MONTHLY STATEMENTS</td>\n",
       "      <td>1997-08-03</td>\n",
       "      <td>4444</td>\n",
       "      <td>NaN</td>\n",
       "      <td>NaN</td>\n",
       "      <td>NaN</td>\n",
       "      <td>NaN</td>\n",
       "      <td>NaN</td>\n",
       "      <td>NaN</td>\n",
       "    </tr>\n",
       "  </tbody>\n",
       "</table>\n",
       "</div>"
      ],
      "text/plain": [
       "      account_id  district_id                     frequency account_open_date  \\\n",
       "5           1972           77            MONTHLY STATEMENTS        1993-01-02   \n",
       "77          1000           77            MONTHLY STATEMENTS        1993-01-25   \n",
       "308          299           77            MONTHLY STATEMENTS        1993-04-05   \n",
       "322         8321           77            MONTHLY STATEMENTS        1993-04-12   \n",
       "394          551           77            MONTHLY STATEMENTS        1993-05-07   \n",
       "537         5228           77  STATEMENTS AFTER TRANSACTION        1993-06-23   \n",
       "574          368           77            MONTHLY STATEMENTS        1993-07-06   \n",
       "790         3157           77            MONTHLY STATEMENTS        1993-09-10   \n",
       "817          857           77            MONTHLY STATEMENTS        1993-09-16   \n",
       "832          153           77            MONTHLY STATEMENTS        1993-09-19   \n",
       "902         4119           77            MONTHLY STATEMENTS        1993-10-18   \n",
       "1161         742           77            MONTHLY STATEMENTS        1994-01-28   \n",
       "1331        1634           77            MONTHLY STATEMENTS        1994-06-04   \n",
       "1526        2377           77            MONTHLY STATEMENTS        1994-11-13   \n",
       "1622         217           77            MONTHLY STATEMENTS        1995-01-20   \n",
       "1716        3750           77            MONTHLY STATEMENTS        1995-03-18   \n",
       "1747        1590           77            MONTHLY STATEMENTS        1995-04-07   \n",
       "1806        2919           77            MONTHLY STATEMENTS        1995-05-10   \n",
       "1847          53           77            MONTHLY STATEMENTS        1995-06-07   \n",
       "2134        2157           77            MONTHLY STATEMENTS        1995-11-08   \n",
       "2336         976           77            MONTHLY STATEMENTS        1996-01-27   \n",
       "2392        1737           77            MONTHLY STATEMENTS        1996-02-13   \n",
       "2422         184           77            MONTHLY STATEMENTS        1996-02-21   \n",
       "2438        1962           77            MONTHLY STATEMENTS        1996-02-24   \n",
       "2451        1216           77            MONTHLY STATEMENTS        1996-03-01   \n",
       "2684        2994           77            MONTHLY STATEMENTS        1996-05-03   \n",
       "2709        3248           77            MONTHLY STATEMENTS        1996-05-11   \n",
       "2829        3647           77            MONTHLY STATEMENTS        1996-06-17   \n",
       "2881        7181           77  STATEMENTS AFTER TRANSACTION        1996-07-02   \n",
       "3002        4389           77            MONTHLY STATEMENTS        1996-07-28   \n",
       "3232        2332           77            MONTHLY STATEMENTS        1996-09-24   \n",
       "3372        1683           77            MONTHLY STATEMENTS        1996-11-01   \n",
       "3514        5817           77  STATEMENTS AFTER TRANSACTION        1996-12-10   \n",
       "3520        4631           77  STATEMENTS AFTER TRANSACTION        1996-12-12   \n",
       "3677        3990           77            MONTHLY STATEMENTS        1997-02-04   \n",
       "3723        4268           77            MONTHLY STATEMENTS        1997-02-20   \n",
       "3969        3172           77            MONTHLY STATEMENTS        1997-05-27   \n",
       "4050        2883           77            MONTHLY STATEMENTS        1997-06-29   \n",
       "4092        3833           77            MONTHLY STATEMENTS        1997-07-13   \n",
       "4137        3686           77            MONTHLY STATEMENTS        1997-08-03   \n",
       "\n",
       "      client_id district_name region  population  average_salary  \\\n",
       "5          2397           NaN    NaN         NaN             NaN   \n",
       "77         1204           NaN    NaN         NaN             NaN   \n",
       "308         364           NaN    NaN         NaN             NaN   \n",
       "322       10275           NaN    NaN         NaN             NaN   \n",
       "394         664           NaN    NaN         NaN             NaN   \n",
       "537        6317           NaN    NaN         NaN             NaN   \n",
       "574         448           NaN    NaN         NaN             NaN   \n",
       "790        3817           NaN    NaN         NaN             NaN   \n",
       "817        1032           NaN    NaN         NaN             NaN   \n",
       "832         185           NaN    NaN         NaN             NaN   \n",
       "902        4959           NaN    NaN         NaN             NaN   \n",
       "1161        890           NaN    NaN         NaN             NaN   \n",
       "1331       1980           NaN    NaN         NaN             NaN   \n",
       "1526       2872           NaN    NaN         NaN             NaN   \n",
       "1622        262           NaN    NaN         NaN             NaN   \n",
       "1716       4524           NaN    NaN         NaN             NaN   \n",
       "1747       1927           NaN    NaN         NaN             NaN   \n",
       "1806       3527           NaN    NaN         NaN             NaN   \n",
       "1847         62           NaN    NaN         NaN             NaN   \n",
       "2134       2611           NaN    NaN         NaN             NaN   \n",
       "2336       1177           NaN    NaN         NaN             NaN   \n",
       "2392       2108           NaN    NaN         NaN             NaN   \n",
       "2422        224           NaN    NaN         NaN             NaN   \n",
       "2438       2387           NaN    NaN         NaN             NaN   \n",
       "2451       1468           NaN    NaN         NaN             NaN   \n",
       "2684       3616           NaN    NaN         NaN             NaN   \n",
       "2709       3928           NaN    NaN         NaN             NaN   \n",
       "2829       4398           NaN    NaN         NaN             NaN   \n",
       "2881       8667           NaN    NaN         NaN             NaN   \n",
       "3002       5287           NaN    NaN         NaN             NaN   \n",
       "3232       2820           NaN    NaN         NaN             NaN   \n",
       "3372       2043           NaN    NaN         NaN             NaN   \n",
       "3514       7043           NaN    NaN         NaN             NaN   \n",
       "3520       5579           NaN    NaN         NaN             NaN   \n",
       "3677       4811           NaN    NaN         NaN             NaN   \n",
       "3723       5143           NaN    NaN         NaN             NaN   \n",
       "3969       3836           NaN    NaN         NaN             NaN   \n",
       "4050       3485           NaN    NaN         NaN             NaN   \n",
       "4092       4619           NaN    NaN         NaN             NaN   \n",
       "4137       4444           NaN    NaN         NaN             NaN   \n",
       "\n",
       "      unemployment_rate  num_committed_crimes  \n",
       "5                   NaN                   NaN  \n",
       "77                  NaN                   NaN  \n",
       "308                 NaN                   NaN  \n",
       "322                 NaN                   NaN  \n",
       "394                 NaN                   NaN  \n",
       "537                 NaN                   NaN  \n",
       "574                 NaN                   NaN  \n",
       "790                 NaN                   NaN  \n",
       "817                 NaN                   NaN  \n",
       "832                 NaN                   NaN  \n",
       "902                 NaN                   NaN  \n",
       "1161                NaN                   NaN  \n",
       "1331                NaN                   NaN  \n",
       "1526                NaN                   NaN  \n",
       "1622                NaN                   NaN  \n",
       "1716                NaN                   NaN  \n",
       "1747                NaN                   NaN  \n",
       "1806                NaN                   NaN  \n",
       "1847                NaN                   NaN  \n",
       "2134                NaN                   NaN  \n",
       "2336                NaN                   NaN  \n",
       "2392                NaN                   NaN  \n",
       "2422                NaN                   NaN  \n",
       "2438                NaN                   NaN  \n",
       "2451                NaN                   NaN  \n",
       "2684                NaN                   NaN  \n",
       "2709                NaN                   NaN  \n",
       "2829                NaN                   NaN  \n",
       "2881                NaN                   NaN  \n",
       "3002                NaN                   NaN  \n",
       "3232                NaN                   NaN  \n",
       "3372                NaN                   NaN  \n",
       "3514                NaN                   NaN  \n",
       "3520                NaN                   NaN  \n",
       "3677                NaN                   NaN  \n",
       "3723                NaN                   NaN  \n",
       "3969                NaN                   NaN  \n",
       "4050                NaN                   NaN  \n",
       "4092                NaN                   NaN  \n",
       "4137                NaN                   NaN  "
      ]
     },
     "execution_count": 102,
     "metadata": {},
     "output_type": "execute_result"
    }
   ],
   "source": [
    "account_district[mis]"
   ]
  },
  {
   "cell_type": "markdown",
   "metadata": {},
   "source": [
    "#### Use `SimpleImputer` from `sklearn` to impute the missing data in columns `population`, `average_salary`, `unemployment_rate`, `num_committed_crimes` with their means"
   ]
  },
  {
   "cell_type": "code",
   "execution_count": 67,
   "metadata": {},
   "outputs": [],
   "source": [
    "simple_imp_mean=SimpleImputer(strategy='mean')"
   ]
  },
  {
   "cell_type": "code",
   "execution_count": 68,
   "metadata": {},
   "outputs": [],
   "source": [
    "numerical_cols = account_district.select_dtypes(include='number').columns"
   ]
  },
  {
   "cell_type": "code",
   "execution_count": 69,
   "metadata": {},
   "outputs": [
    {
     "data": {
      "text/plain": [
       "account_id                2786.067556\n",
       "district_id                 37.310444\n",
       "client_id                 3381.096444\n",
       "population              270325.692377\n",
       "average_salary            9482.017843\n",
       "unemployment_rate            3.571654\n",
       "num_committed_crimes     16486.170933\n",
       "dtype: float64"
      ]
     },
     "execution_count": 69,
     "metadata": {},
     "output_type": "execute_result"
    }
   ],
   "source": [
    "account_district[numerical_cols].mean()"
   ]
  },
  {
   "cell_type": "code",
   "execution_count": 70,
   "metadata": {},
   "outputs": [],
   "source": [
    "imputed_num = simple_imp_mean.fit_transform(account_district[numerical_cols])"
   ]
  },
  {
   "cell_type": "code",
   "execution_count": 71,
   "metadata": {},
   "outputs": [],
   "source": [
    "account_district[numerical_cols] = imputed_num"
   ]
  },
  {
   "cell_type": "markdown",
   "metadata": {},
   "source": [
    "#### Use `fillna` method to impute the missing data in columns `district_name` and `region` with 'UNKNOWN'"
   ]
  },
  {
   "cell_type": "code",
   "execution_count": 72,
   "metadata": {},
   "outputs": [],
   "source": [
    "category_cols = account_district.select_dtypes(exclude='number').columns"
   ]
  },
  {
   "cell_type": "code",
   "execution_count": 73,
   "metadata": {},
   "outputs": [
    {
     "data": {
      "text/html": [
       "<div>\n",
       "<style scoped>\n",
       "    .dataframe tbody tr th:only-of-type {\n",
       "        vertical-align: middle;\n",
       "    }\n",
       "\n",
       "    .dataframe tbody tr th {\n",
       "        vertical-align: top;\n",
       "    }\n",
       "\n",
       "    .dataframe thead th {\n",
       "        text-align: right;\n",
       "    }\n",
       "</style>\n",
       "<table border=\"1\" class=\"dataframe\">\n",
       "  <thead>\n",
       "    <tr style=\"text-align: right;\">\n",
       "      <th></th>\n",
       "      <th>frequency</th>\n",
       "      <th>account_open_date</th>\n",
       "      <th>district_name</th>\n",
       "      <th>region</th>\n",
       "    </tr>\n",
       "  </thead>\n",
       "  <tbody>\n",
       "    <tr>\n",
       "      <th>0</th>\n",
       "      <td>MONTHLY STATEMENTS</td>\n",
       "      <td>1993-01-01</td>\n",
       "      <td>Brno - venkov</td>\n",
       "      <td>south Moravia</td>\n",
       "    </tr>\n",
       "    <tr>\n",
       "      <th>1</th>\n",
       "      <td>MONTHLY STATEMENTS</td>\n",
       "      <td>1993-01-01</td>\n",
       "      <td>Ostrava - mesto</td>\n",
       "      <td>north Moravia</td>\n",
       "    </tr>\n",
       "    <tr>\n",
       "      <th>2</th>\n",
       "      <td>MONTHLY STATEMENTS</td>\n",
       "      <td>1993-01-01</td>\n",
       "      <td>Brno - venkov</td>\n",
       "      <td>south Moravia</td>\n",
       "    </tr>\n",
       "    <tr>\n",
       "      <th>3</th>\n",
       "      <td>MONTHLY STATEMENTS</td>\n",
       "      <td>1993-01-01</td>\n",
       "      <td>Jindrichuv Hradec</td>\n",
       "      <td>south Bohemia</td>\n",
       "    </tr>\n",
       "    <tr>\n",
       "      <th>4</th>\n",
       "      <td>MONTHLY STATEMENTS</td>\n",
       "      <td>1993-01-02</td>\n",
       "      <td>Karlovy Vary</td>\n",
       "      <td>west Bohemia</td>\n",
       "    </tr>\n",
       "    <tr>\n",
       "      <th>...</th>\n",
       "      <td>...</td>\n",
       "      <td>...</td>\n",
       "      <td>...</td>\n",
       "      <td>...</td>\n",
       "    </tr>\n",
       "    <tr>\n",
       "      <th>4495</th>\n",
       "      <td>MONTHLY STATEMENTS</td>\n",
       "      <td>1997-12-28</td>\n",
       "      <td>Brno - venkov</td>\n",
       "      <td>south Moravia</td>\n",
       "    </tr>\n",
       "    <tr>\n",
       "      <th>4496</th>\n",
       "      <td>MONTHLY STATEMENTS</td>\n",
       "      <td>1997-12-28</td>\n",
       "      <td>Kromeriz</td>\n",
       "      <td>south Moravia</td>\n",
       "    </tr>\n",
       "    <tr>\n",
       "      <th>4497</th>\n",
       "      <td>MONTHLY STATEMENTS</td>\n",
       "      <td>1997-12-28</td>\n",
       "      <td>Sokolov</td>\n",
       "      <td>west Bohemia</td>\n",
       "    </tr>\n",
       "    <tr>\n",
       "      <th>4498</th>\n",
       "      <td>MONTHLY STATEMENTS</td>\n",
       "      <td>1997-12-29</td>\n",
       "      <td>Vyskov</td>\n",
       "      <td>south Moravia</td>\n",
       "    </tr>\n",
       "    <tr>\n",
       "      <th>4499</th>\n",
       "      <td>MONTHLY STATEMENTS</td>\n",
       "      <td>1997-12-29</td>\n",
       "      <td>Hl.m. Praha</td>\n",
       "      <td>Prague</td>\n",
       "    </tr>\n",
       "  </tbody>\n",
       "</table>\n",
       "<p>4500 rows × 4 columns</p>\n",
       "</div>"
      ],
      "text/plain": [
       "               frequency account_open_date      district_name         region\n",
       "0     MONTHLY STATEMENTS        1993-01-01      Brno - venkov  south Moravia\n",
       "1     MONTHLY STATEMENTS        1993-01-01    Ostrava - mesto  north Moravia\n",
       "2     MONTHLY STATEMENTS        1993-01-01      Brno - venkov  south Moravia\n",
       "3     MONTHLY STATEMENTS        1993-01-01  Jindrichuv Hradec  south Bohemia\n",
       "4     MONTHLY STATEMENTS        1993-01-02       Karlovy Vary   west Bohemia\n",
       "...                  ...               ...                ...            ...\n",
       "4495  MONTHLY STATEMENTS        1997-12-28      Brno - venkov  south Moravia\n",
       "4496  MONTHLY STATEMENTS        1997-12-28           Kromeriz  south Moravia\n",
       "4497  MONTHLY STATEMENTS        1997-12-28            Sokolov   west Bohemia\n",
       "4498  MONTHLY STATEMENTS        1997-12-29             Vyskov  south Moravia\n",
       "4499  MONTHLY STATEMENTS        1997-12-29        Hl.m. Praha         Prague\n",
       "\n",
       "[4500 rows x 4 columns]"
      ]
     },
     "execution_count": 73,
     "metadata": {},
     "output_type": "execute_result"
    }
   ],
   "source": [
    "account_district[category_cols]"
   ]
  },
  {
   "cell_type": "code",
   "execution_count": 74,
   "metadata": {},
   "outputs": [
    {
     "data": {
      "text/html": [
       "<div>\n",
       "<style scoped>\n",
       "    .dataframe tbody tr th:only-of-type {\n",
       "        vertical-align: middle;\n",
       "    }\n",
       "\n",
       "    .dataframe tbody tr th {\n",
       "        vertical-align: top;\n",
       "    }\n",
       "\n",
       "    .dataframe thead th {\n",
       "        text-align: right;\n",
       "    }\n",
       "</style>\n",
       "<table border=\"1\" class=\"dataframe\">\n",
       "  <thead>\n",
       "    <tr style=\"text-align: right;\">\n",
       "      <th></th>\n",
       "      <th>frequency</th>\n",
       "      <th>account_open_date</th>\n",
       "      <th>district_name</th>\n",
       "      <th>region</th>\n",
       "    </tr>\n",
       "  </thead>\n",
       "  <tbody>\n",
       "    <tr>\n",
       "      <th>count</th>\n",
       "      <td>4500</td>\n",
       "      <td>4500</td>\n",
       "      <td>4460</td>\n",
       "      <td>4460</td>\n",
       "    </tr>\n",
       "    <tr>\n",
       "      <th>unique</th>\n",
       "      <td>3</td>\n",
       "      <td>1535</td>\n",
       "      <td>76</td>\n",
       "      <td>8</td>\n",
       "    </tr>\n",
       "    <tr>\n",
       "      <th>top</th>\n",
       "      <td>MONTHLY STATEMENTS</td>\n",
       "      <td>1993-02-08</td>\n",
       "      <td>Hl.m. Praha</td>\n",
       "      <td>south Moravia</td>\n",
       "    </tr>\n",
       "    <tr>\n",
       "      <th>freq</th>\n",
       "      <td>4167</td>\n",
       "      <td>13</td>\n",
       "      <td>554</td>\n",
       "      <td>778</td>\n",
       "    </tr>\n",
       "  </tbody>\n",
       "</table>\n",
       "</div>"
      ],
      "text/plain": [
       "                 frequency account_open_date district_name         region\n",
       "count                 4500              4500          4460           4460\n",
       "unique                   3              1535            76              8\n",
       "top     MONTHLY STATEMENTS        1993-02-08   Hl.m. Praha  south Moravia\n",
       "freq                  4167                13           554            778"
      ]
     },
     "execution_count": 74,
     "metadata": {},
     "output_type": "execute_result"
    }
   ],
   "source": [
    "account_district[category_cols].describe()"
   ]
  },
  {
   "cell_type": "code",
   "execution_count": 75,
   "metadata": {},
   "outputs": [],
   "source": [
    "account_district[category_cols] = account_district[category_cols].fillna('UNKNOWN')"
   ]
  },
  {
   "cell_type": "code",
   "execution_count": 76,
   "metadata": {},
   "outputs": [
    {
     "data": {
      "text/html": [
       "<div>\n",
       "<style scoped>\n",
       "    .dataframe tbody tr th:only-of-type {\n",
       "        vertical-align: middle;\n",
       "    }\n",
       "\n",
       "    .dataframe tbody tr th {\n",
       "        vertical-align: top;\n",
       "    }\n",
       "\n",
       "    .dataframe thead th {\n",
       "        text-align: right;\n",
       "    }\n",
       "</style>\n",
       "<table border=\"1\" class=\"dataframe\">\n",
       "  <thead>\n",
       "    <tr style=\"text-align: right;\">\n",
       "      <th></th>\n",
       "      <th>frequency</th>\n",
       "      <th>account_open_date</th>\n",
       "      <th>district_name</th>\n",
       "      <th>region</th>\n",
       "    </tr>\n",
       "  </thead>\n",
       "  <tbody>\n",
       "    <tr>\n",
       "      <th>0</th>\n",
       "      <td>MONTHLY STATEMENTS</td>\n",
       "      <td>1993-01-01</td>\n",
       "      <td>Brno - venkov</td>\n",
       "      <td>south Moravia</td>\n",
       "    </tr>\n",
       "    <tr>\n",
       "      <th>1</th>\n",
       "      <td>MONTHLY STATEMENTS</td>\n",
       "      <td>1993-01-01</td>\n",
       "      <td>Ostrava - mesto</td>\n",
       "      <td>north Moravia</td>\n",
       "    </tr>\n",
       "    <tr>\n",
       "      <th>2</th>\n",
       "      <td>MONTHLY STATEMENTS</td>\n",
       "      <td>1993-01-01</td>\n",
       "      <td>Brno - venkov</td>\n",
       "      <td>south Moravia</td>\n",
       "    </tr>\n",
       "    <tr>\n",
       "      <th>3</th>\n",
       "      <td>MONTHLY STATEMENTS</td>\n",
       "      <td>1993-01-01</td>\n",
       "      <td>Jindrichuv Hradec</td>\n",
       "      <td>south Bohemia</td>\n",
       "    </tr>\n",
       "    <tr>\n",
       "      <th>4</th>\n",
       "      <td>MONTHLY STATEMENTS</td>\n",
       "      <td>1993-01-02</td>\n",
       "      <td>Karlovy Vary</td>\n",
       "      <td>west Bohemia</td>\n",
       "    </tr>\n",
       "    <tr>\n",
       "      <th>...</th>\n",
       "      <td>...</td>\n",
       "      <td>...</td>\n",
       "      <td>...</td>\n",
       "      <td>...</td>\n",
       "    </tr>\n",
       "    <tr>\n",
       "      <th>4495</th>\n",
       "      <td>MONTHLY STATEMENTS</td>\n",
       "      <td>1997-12-28</td>\n",
       "      <td>Brno - venkov</td>\n",
       "      <td>south Moravia</td>\n",
       "    </tr>\n",
       "    <tr>\n",
       "      <th>4496</th>\n",
       "      <td>MONTHLY STATEMENTS</td>\n",
       "      <td>1997-12-28</td>\n",
       "      <td>Kromeriz</td>\n",
       "      <td>south Moravia</td>\n",
       "    </tr>\n",
       "    <tr>\n",
       "      <th>4497</th>\n",
       "      <td>MONTHLY STATEMENTS</td>\n",
       "      <td>1997-12-28</td>\n",
       "      <td>Sokolov</td>\n",
       "      <td>west Bohemia</td>\n",
       "    </tr>\n",
       "    <tr>\n",
       "      <th>4498</th>\n",
       "      <td>MONTHLY STATEMENTS</td>\n",
       "      <td>1997-12-29</td>\n",
       "      <td>Vyskov</td>\n",
       "      <td>south Moravia</td>\n",
       "    </tr>\n",
       "    <tr>\n",
       "      <th>4499</th>\n",
       "      <td>MONTHLY STATEMENTS</td>\n",
       "      <td>1997-12-29</td>\n",
       "      <td>Hl.m. Praha</td>\n",
       "      <td>Prague</td>\n",
       "    </tr>\n",
       "  </tbody>\n",
       "</table>\n",
       "<p>4500 rows × 4 columns</p>\n",
       "</div>"
      ],
      "text/plain": [
       "               frequency account_open_date      district_name         region\n",
       "0     MONTHLY STATEMENTS        1993-01-01      Brno - venkov  south Moravia\n",
       "1     MONTHLY STATEMENTS        1993-01-01    Ostrava - mesto  north Moravia\n",
       "2     MONTHLY STATEMENTS        1993-01-01      Brno - venkov  south Moravia\n",
       "3     MONTHLY STATEMENTS        1993-01-01  Jindrichuv Hradec  south Bohemia\n",
       "4     MONTHLY STATEMENTS        1993-01-02       Karlovy Vary   west Bohemia\n",
       "...                  ...               ...                ...            ...\n",
       "4495  MONTHLY STATEMENTS        1997-12-28      Brno - venkov  south Moravia\n",
       "4496  MONTHLY STATEMENTS        1997-12-28           Kromeriz  south Moravia\n",
       "4497  MONTHLY STATEMENTS        1997-12-28            Sokolov   west Bohemia\n",
       "4498  MONTHLY STATEMENTS        1997-12-29             Vyskov  south Moravia\n",
       "4499  MONTHLY STATEMENTS        1997-12-29        Hl.m. Praha         Prague\n",
       "\n",
       "[4500 rows x 4 columns]"
      ]
     },
     "execution_count": 76,
     "metadata": {},
     "output_type": "execute_result"
    }
   ],
   "source": [
    "account_district[category_cols]"
   ]
  },
  {
   "cell_type": "code",
   "execution_count": 77,
   "metadata": {},
   "outputs": [
    {
     "name": "stdout",
     "output_type": "stream",
     "text": [
      "<class 'pandas.core.frame.DataFrame'>\n",
      "RangeIndex: 4500 entries, 0 to 4499\n",
      "Data columns (total 11 columns):\n",
      " #   Column                Non-Null Count  Dtype  \n",
      "---  ------                --------------  -----  \n",
      " 0   account_id            4500 non-null   float64\n",
      " 1   district_id           4500 non-null   float64\n",
      " 2   frequency             4500 non-null   object \n",
      " 3   account_open_date     4500 non-null   object \n",
      " 4   client_id             4500 non-null   float64\n",
      " 5   district_name         4500 non-null   object \n",
      " 6   region                4500 non-null   object \n",
      " 7   population            4500 non-null   float64\n",
      " 8   average_salary        4500 non-null   float64\n",
      " 9   unemployment_rate     4500 non-null   float64\n",
      " 10  num_committed_crimes  4500 non-null   float64\n",
      "dtypes: float64(7), object(4)\n",
      "memory usage: 386.8+ KB\n"
     ]
    }
   ],
   "source": [
    "account_district.info()"
   ]
  },
  {
   "cell_type": "markdown",
   "metadata": {},
   "source": [
    "### 15. Merge (left join) `trans` and `account_district` into a new DataFrame called `all_data` using their common columns"
   ]
  },
  {
   "cell_type": "code",
   "execution_count": 78,
   "metadata": {},
   "outputs": [
    {
     "name": "stdout",
     "output_type": "stream",
     "text": [
      "<class 'pandas.core.frame.DataFrame'>\n",
      "RangeIndex: 1056320 entries, 0 to 1056319\n",
      "Data columns (total 10 columns):\n",
      " #   Column           Non-Null Count    Dtype  \n",
      "---  ------           --------------    -----  \n",
      " 0   trans_id         1056320 non-null  int64  \n",
      " 1   account_id       1056320 non-null  int64  \n",
      " 2   date             1056320 non-null  object \n",
      " 3   type             1056320 non-null  object \n",
      " 4   operation_type   1056320 non-null  object \n",
      " 5   amount           1056320 non-null  float64\n",
      " 6   balance          1056320 non-null  float64\n",
      " 7   description      1056320 non-null  object \n",
      " 8   partner_bank     1056320 non-null  object \n",
      " 9   partner_account  1056320 non-null  float64\n",
      "dtypes: float64(3), int64(2), object(5)\n",
      "memory usage: 80.6+ MB\n"
     ]
    }
   ],
   "source": [
    "trans.info()"
   ]
  },
  {
   "cell_type": "code",
   "execution_count": 79,
   "metadata": {},
   "outputs": [
    {
     "name": "stdout",
     "output_type": "stream",
     "text": [
      "<class 'pandas.core.frame.DataFrame'>\n",
      "RangeIndex: 4500 entries, 0 to 4499\n",
      "Data columns (total 11 columns):\n",
      " #   Column                Non-Null Count  Dtype  \n",
      "---  ------                --------------  -----  \n",
      " 0   account_id            4500 non-null   float64\n",
      " 1   district_id           4500 non-null   float64\n",
      " 2   frequency             4500 non-null   object \n",
      " 3   account_open_date     4500 non-null   object \n",
      " 4   client_id             4500 non-null   float64\n",
      " 5   district_name         4500 non-null   object \n",
      " 6   region                4500 non-null   object \n",
      " 7   population            4500 non-null   float64\n",
      " 8   average_salary        4500 non-null   float64\n",
      " 9   unemployment_rate     4500 non-null   float64\n",
      " 10  num_committed_crimes  4500 non-null   float64\n",
      "dtypes: float64(7), object(4)\n",
      "memory usage: 386.8+ KB\n"
     ]
    }
   ],
   "source": [
    "account_district.info()"
   ]
  },
  {
   "cell_type": "code",
   "execution_count": 80,
   "metadata": {},
   "outputs": [],
   "source": [
    "all_data = pd.merge(trans, account_district, on='account_id', how='left')"
   ]
  },
  {
   "cell_type": "markdown",
   "metadata": {},
   "source": [
    "#### Check the information summary of `all_data`"
   ]
  },
  {
   "cell_type": "code",
   "execution_count": 81,
   "metadata": {},
   "outputs": [
    {
     "name": "stdout",
     "output_type": "stream",
     "text": [
      "<class 'pandas.core.frame.DataFrame'>\n",
      "RangeIndex: 1056320 entries, 0 to 1056319\n",
      "Data columns (total 20 columns):\n",
      " #   Column                Non-Null Count    Dtype  \n",
      "---  ------                --------------    -----  \n",
      " 0   trans_id              1056320 non-null  int64  \n",
      " 1   account_id            1056320 non-null  int64  \n",
      " 2   date                  1056320 non-null  object \n",
      " 3   type                  1056320 non-null  object \n",
      " 4   operation_type        1056320 non-null  object \n",
      " 5   amount                1056320 non-null  float64\n",
      " 6   balance               1056320 non-null  float64\n",
      " 7   description           1056320 non-null  object \n",
      " 8   partner_bank          1056320 non-null  object \n",
      " 9   partner_account       1056320 non-null  float64\n",
      " 10  district_id           1056320 non-null  float64\n",
      " 11  frequency             1056320 non-null  object \n",
      " 12  account_open_date     1056320 non-null  object \n",
      " 13  client_id             1056320 non-null  float64\n",
      " 14  district_name         1056320 non-null  object \n",
      " 15  region                1056320 non-null  object \n",
      " 16  population            1056320 non-null  float64\n",
      " 17  average_salary        1056320 non-null  float64\n",
      " 18  unemployment_rate     1056320 non-null  float64\n",
      " 19  num_committed_crimes  1056320 non-null  float64\n",
      "dtypes: float64(9), int64(2), object(9)\n",
      "memory usage: 161.2+ MB\n"
     ]
    }
   ],
   "source": [
    "all_data.info()"
   ]
  },
  {
   "cell_type": "markdown",
   "metadata": {},
   "source": [
    "### 16. Create a new column `account_open_year` and assign it as the year from column `account_open_date`"
   ]
  },
  {
   "cell_type": "code",
   "execution_count": 100,
   "metadata": {},
   "outputs": [
    {
     "data": {
      "text/plain": [
       "0         1993-01-01\n",
       "1         1993-01-01\n",
       "2         1993-01-01\n",
       "3         1993-01-01\n",
       "4         1993-01-02\n",
       "             ...    \n",
       "1056315   1996-09-20\n",
       "1056316   1995-05-15\n",
       "1056317   1996-09-27\n",
       "1056318   1993-09-09\n",
       "1056319   1993-01-28\n",
       "Name: account_open_date, Length: 1056320, dtype: datetime64[ns]"
      ]
     },
     "execution_count": 100,
     "metadata": {},
     "output_type": "execute_result"
    }
   ],
   "source": [
    "pd.to_datetime(all_data['account_open_date'])"
   ]
  },
  {
   "cell_type": "code",
   "execution_count": 101,
   "metadata": {},
   "outputs": [],
   "source": [
    "all_data['account_open_date']=pd.to_datetime(all_data['account_open_date'])"
   ]
  },
  {
   "cell_type": "code",
   "execution_count": 102,
   "metadata": {},
   "outputs": [],
   "source": [
    "all_data['account_open_year'] = all_data['account_open_date'].dt.year"
   ]
  },
  {
   "cell_type": "code",
   "execution_count": 103,
   "metadata": {},
   "outputs": [
    {
     "data": {
      "text/html": [
       "<div>\n",
       "<style scoped>\n",
       "    .dataframe tbody tr th:only-of-type {\n",
       "        vertical-align: middle;\n",
       "    }\n",
       "\n",
       "    .dataframe tbody tr th {\n",
       "        vertical-align: top;\n",
       "    }\n",
       "\n",
       "    .dataframe thead th {\n",
       "        text-align: right;\n",
       "    }\n",
       "</style>\n",
       "<table border=\"1\" class=\"dataframe\">\n",
       "  <thead>\n",
       "    <tr style=\"text-align: right;\">\n",
       "      <th></th>\n",
       "      <th>trans_id</th>\n",
       "      <th>account_id</th>\n",
       "      <th>date</th>\n",
       "      <th>type</th>\n",
       "      <th>operation_type</th>\n",
       "      <th>amount</th>\n",
       "      <th>balance</th>\n",
       "      <th>description</th>\n",
       "      <th>partner_bank</th>\n",
       "      <th>partner_account</th>\n",
       "      <th>...</th>\n",
       "      <th>frequency</th>\n",
       "      <th>account_open_date</th>\n",
       "      <th>client_id</th>\n",
       "      <th>district_name</th>\n",
       "      <th>region</th>\n",
       "      <th>population</th>\n",
       "      <th>average_salary</th>\n",
       "      <th>unemployment_rate</th>\n",
       "      <th>num_committed_crimes</th>\n",
       "      <th>account_open_year</th>\n",
       "    </tr>\n",
       "  </thead>\n",
       "  <tbody>\n",
       "    <tr>\n",
       "      <th>0</th>\n",
       "      <td>695247</td>\n",
       "      <td>2378</td>\n",
       "      <td>1993-01-01</td>\n",
       "      <td>CREDIT</td>\n",
       "      <td>CREDIT IN CASH</td>\n",
       "      <td>700.0</td>\n",
       "      <td>700.0</td>\n",
       "      <td>UNKNOWN</td>\n",
       "      <td>UNKNOWN</td>\n",
       "      <td>-999.0</td>\n",
       "      <td>...</td>\n",
       "      <td>MONTHLY STATEMENTS</td>\n",
       "      <td>1993-01-01</td>\n",
       "      <td>2873.0</td>\n",
       "      <td>Jindrichuv Hradec</td>\n",
       "      <td>south Bohemia</td>\n",
       "      <td>93931.000000</td>\n",
       "      <td>8427.000000</td>\n",
       "      <td>1.540000</td>\n",
       "      <td>1913.000000</td>\n",
       "      <td>1993</td>\n",
       "    </tr>\n",
       "    <tr>\n",
       "      <th>1</th>\n",
       "      <td>171812</td>\n",
       "      <td>576</td>\n",
       "      <td>1993-01-01</td>\n",
       "      <td>CREDIT</td>\n",
       "      <td>CREDIT IN CASH</td>\n",
       "      <td>900.0</td>\n",
       "      <td>900.0</td>\n",
       "      <td>UNKNOWN</td>\n",
       "      <td>UNKNOWN</td>\n",
       "      <td>-999.0</td>\n",
       "      <td>...</td>\n",
       "      <td>MONTHLY STATEMENTS</td>\n",
       "      <td>1993-01-01</td>\n",
       "      <td>692.0</td>\n",
       "      <td>Brno - venkov</td>\n",
       "      <td>south Moravia</td>\n",
       "      <td>157042.000000</td>\n",
       "      <td>9072.274638</td>\n",
       "      <td>2.430000</td>\n",
       "      <td>3894.000000</td>\n",
       "      <td>1993</td>\n",
       "    </tr>\n",
       "    <tr>\n",
       "      <th>2</th>\n",
       "      <td>207264</td>\n",
       "      <td>704</td>\n",
       "      <td>1993-01-01</td>\n",
       "      <td>CREDIT</td>\n",
       "      <td>CREDIT IN CASH</td>\n",
       "      <td>1000.0</td>\n",
       "      <td>1000.0</td>\n",
       "      <td>UNKNOWN</td>\n",
       "      <td>UNKNOWN</td>\n",
       "      <td>-999.0</td>\n",
       "      <td>...</td>\n",
       "      <td>MONTHLY STATEMENTS</td>\n",
       "      <td>1993-01-01</td>\n",
       "      <td>844.0</td>\n",
       "      <td>Brno - venkov</td>\n",
       "      <td>south Moravia</td>\n",
       "      <td>157042.000000</td>\n",
       "      <td>9072.274638</td>\n",
       "      <td>2.430000</td>\n",
       "      <td>3894.000000</td>\n",
       "      <td>1993</td>\n",
       "    </tr>\n",
       "    <tr>\n",
       "      <th>3</th>\n",
       "      <td>1117247</td>\n",
       "      <td>3818</td>\n",
       "      <td>1993-01-01</td>\n",
       "      <td>CREDIT</td>\n",
       "      <td>CREDIT IN CASH</td>\n",
       "      <td>600.0</td>\n",
       "      <td>600.0</td>\n",
       "      <td>UNKNOWN</td>\n",
       "      <td>UNKNOWN</td>\n",
       "      <td>-999.0</td>\n",
       "      <td>...</td>\n",
       "      <td>MONTHLY STATEMENTS</td>\n",
       "      <td>1993-01-01</td>\n",
       "      <td>4601.0</td>\n",
       "      <td>Ostrava - mesto</td>\n",
       "      <td>north Moravia</td>\n",
       "      <td>323870.000000</td>\n",
       "      <td>10673.000000</td>\n",
       "      <td>5.440000</td>\n",
       "      <td>18347.000000</td>\n",
       "      <td>1993</td>\n",
       "    </tr>\n",
       "    <tr>\n",
       "      <th>4</th>\n",
       "      <td>579373</td>\n",
       "      <td>1972</td>\n",
       "      <td>1993-01-02</td>\n",
       "      <td>CREDIT</td>\n",
       "      <td>CREDIT IN CASH</td>\n",
       "      <td>400.0</td>\n",
       "      <td>400.0</td>\n",
       "      <td>UNKNOWN</td>\n",
       "      <td>UNKNOWN</td>\n",
       "      <td>-999.0</td>\n",
       "      <td>...</td>\n",
       "      <td>MONTHLY STATEMENTS</td>\n",
       "      <td>1993-01-02</td>\n",
       "      <td>2397.0</td>\n",
       "      <td>UNKNOWN</td>\n",
       "      <td>UNKNOWN</td>\n",
       "      <td>270325.692377</td>\n",
       "      <td>9482.017843</td>\n",
       "      <td>3.571654</td>\n",
       "      <td>16486.170933</td>\n",
       "      <td>1993</td>\n",
       "    </tr>\n",
       "  </tbody>\n",
       "</table>\n",
       "<p>5 rows × 21 columns</p>\n",
       "</div>"
      ],
      "text/plain": [
       "   trans_id  account_id        date    type  operation_type  amount  balance  \\\n",
       "0    695247        2378  1993-01-01  CREDIT  CREDIT IN CASH   700.0    700.0   \n",
       "1    171812         576  1993-01-01  CREDIT  CREDIT IN CASH   900.0    900.0   \n",
       "2    207264         704  1993-01-01  CREDIT  CREDIT IN CASH  1000.0   1000.0   \n",
       "3   1117247        3818  1993-01-01  CREDIT  CREDIT IN CASH   600.0    600.0   \n",
       "4    579373        1972  1993-01-02  CREDIT  CREDIT IN CASH   400.0    400.0   \n",
       "\n",
       "  description partner_bank  partner_account  ...           frequency  \\\n",
       "0     UNKNOWN      UNKNOWN           -999.0  ...  MONTHLY STATEMENTS   \n",
       "1     UNKNOWN      UNKNOWN           -999.0  ...  MONTHLY STATEMENTS   \n",
       "2     UNKNOWN      UNKNOWN           -999.0  ...  MONTHLY STATEMENTS   \n",
       "3     UNKNOWN      UNKNOWN           -999.0  ...  MONTHLY STATEMENTS   \n",
       "4     UNKNOWN      UNKNOWN           -999.0  ...  MONTHLY STATEMENTS   \n",
       "\n",
       "  account_open_date client_id      district_name         region  \\\n",
       "0        1993-01-01    2873.0  Jindrichuv Hradec  south Bohemia   \n",
       "1        1993-01-01     692.0      Brno - venkov  south Moravia   \n",
       "2        1993-01-01     844.0      Brno - venkov  south Moravia   \n",
       "3        1993-01-01    4601.0    Ostrava - mesto  north Moravia   \n",
       "4        1993-01-02    2397.0            UNKNOWN        UNKNOWN   \n",
       "\n",
       "      population  average_salary  unemployment_rate  num_committed_crimes  \\\n",
       "0   93931.000000     8427.000000           1.540000           1913.000000   \n",
       "1  157042.000000     9072.274638           2.430000           3894.000000   \n",
       "2  157042.000000     9072.274638           2.430000           3894.000000   \n",
       "3  323870.000000    10673.000000           5.440000          18347.000000   \n",
       "4  270325.692377     9482.017843           3.571654          16486.170933   \n",
       "\n",
       "   account_open_year  \n",
       "0               1993  \n",
       "1               1993  \n",
       "2               1993  \n",
       "3               1993  \n",
       "4               1993  \n",
       "\n",
       "[5 rows x 21 columns]"
      ]
     },
     "execution_count": 103,
     "metadata": {},
     "output_type": "execute_result"
    }
   ],
   "source": [
    "all_data.head()"
   ]
  },
  {
   "cell_type": "code",
   "execution_count": 108,
   "metadata": {},
   "outputs": [
    {
     "data": {
      "text/html": [
       "<div>\n",
       "<style scoped>\n",
       "    .dataframe tbody tr th:only-of-type {\n",
       "        vertical-align: middle;\n",
       "    }\n",
       "\n",
       "    .dataframe tbody tr th {\n",
       "        vertical-align: top;\n",
       "    }\n",
       "\n",
       "    .dataframe thead th {\n",
       "        text-align: right;\n",
       "    }\n",
       "</style>\n",
       "<table border=\"1\" class=\"dataframe\">\n",
       "  <thead>\n",
       "    <tr style=\"text-align: right;\">\n",
       "      <th></th>\n",
       "      <th>account_open_date</th>\n",
       "      <th>account_open_year</th>\n",
       "      <th>date</th>\n",
       "    </tr>\n",
       "  </thead>\n",
       "  <tbody>\n",
       "    <tr>\n",
       "      <th>0</th>\n",
       "      <td>1993-01-01</td>\n",
       "      <td>1993</td>\n",
       "      <td>1993-01-01</td>\n",
       "    </tr>\n",
       "    <tr>\n",
       "      <th>1</th>\n",
       "      <td>1993-01-01</td>\n",
       "      <td>1993</td>\n",
       "      <td>1993-01-01</td>\n",
       "    </tr>\n",
       "    <tr>\n",
       "      <th>2</th>\n",
       "      <td>1993-01-01</td>\n",
       "      <td>1993</td>\n",
       "      <td>1993-01-01</td>\n",
       "    </tr>\n",
       "    <tr>\n",
       "      <th>3</th>\n",
       "      <td>1993-01-01</td>\n",
       "      <td>1993</td>\n",
       "      <td>1993-01-01</td>\n",
       "    </tr>\n",
       "    <tr>\n",
       "      <th>4</th>\n",
       "      <td>1993-01-02</td>\n",
       "      <td>1993</td>\n",
       "      <td>1993-01-02</td>\n",
       "    </tr>\n",
       "    <tr>\n",
       "      <th>...</th>\n",
       "      <td>...</td>\n",
       "      <td>...</td>\n",
       "      <td>...</td>\n",
       "    </tr>\n",
       "    <tr>\n",
       "      <th>1056315</th>\n",
       "      <td>1996-09-20</td>\n",
       "      <td>1996</td>\n",
       "      <td>1998-12-31</td>\n",
       "    </tr>\n",
       "    <tr>\n",
       "      <th>1056316</th>\n",
       "      <td>1995-05-15</td>\n",
       "      <td>1995</td>\n",
       "      <td>1998-12-31</td>\n",
       "    </tr>\n",
       "    <tr>\n",
       "      <th>1056317</th>\n",
       "      <td>1996-09-27</td>\n",
       "      <td>1996</td>\n",
       "      <td>1998-12-31</td>\n",
       "    </tr>\n",
       "    <tr>\n",
       "      <th>1056318</th>\n",
       "      <td>1993-09-09</td>\n",
       "      <td>1993</td>\n",
       "      <td>1998-12-31</td>\n",
       "    </tr>\n",
       "    <tr>\n",
       "      <th>1056319</th>\n",
       "      <td>1993-01-28</td>\n",
       "      <td>1993</td>\n",
       "      <td>1998-12-31</td>\n",
       "    </tr>\n",
       "  </tbody>\n",
       "</table>\n",
       "<p>1056320 rows × 3 columns</p>\n",
       "</div>"
      ],
      "text/plain": [
       "        account_open_date  account_open_year        date\n",
       "0              1993-01-01               1993  1993-01-01\n",
       "1              1993-01-01               1993  1993-01-01\n",
       "2              1993-01-01               1993  1993-01-01\n",
       "3              1993-01-01               1993  1993-01-01\n",
       "4              1993-01-02               1993  1993-01-02\n",
       "...                   ...                ...         ...\n",
       "1056315        1996-09-20               1996  1998-12-31\n",
       "1056316        1995-05-15               1995  1998-12-31\n",
       "1056317        1996-09-27               1996  1998-12-31\n",
       "1056318        1993-09-09               1993  1998-12-31\n",
       "1056319        1993-01-28               1993  1998-12-31\n",
       "\n",
       "[1056320 rows x 3 columns]"
      ]
     },
     "execution_count": 108,
     "metadata": {},
     "output_type": "execute_result"
    }
   ],
   "source": [
    "all_data[['account_open_date', 'account_open_year', 'date']]"
   ]
  },
  {
   "cell_type": "markdown",
   "metadata": {},
   "source": [
    "### 17. Calculate the difference between columns `date` (transaction date) and `account_open_date`"
   ]
  },
  {
   "cell_type": "code",
   "execution_count": 110,
   "metadata": {},
   "outputs": [
    {
     "data": {
      "text/plain": [
       "0         1993-01-01\n",
       "1         1993-01-01\n",
       "2         1993-01-01\n",
       "3         1993-01-01\n",
       "4         1993-01-02\n",
       "             ...    \n",
       "1056315   1998-12-31\n",
       "1056316   1998-12-31\n",
       "1056317   1998-12-31\n",
       "1056318   1998-12-31\n",
       "1056319   1998-12-31\n",
       "Name: date, Length: 1056320, dtype: datetime64[ns]"
      ]
     },
     "execution_count": 110,
     "metadata": {},
     "output_type": "execute_result"
    }
   ],
   "source": [
    "pd.to_datetime(all_data['date'])"
   ]
  },
  {
   "cell_type": "code",
   "execution_count": 111,
   "metadata": {},
   "outputs": [],
   "source": [
    "all_data['date'] = pd.to_datetime(all_data['date'])"
   ]
  },
  {
   "cell_type": "code",
   "execution_count": 125,
   "metadata": {},
   "outputs": [
    {
     "data": {
      "text/plain": [
       "0            0 days\n",
       "1            0 days\n",
       "2            0 days\n",
       "3            0 days\n",
       "4            0 days\n",
       "             ...   \n",
       "1056315    832 days\n",
       "1056316   1326 days\n",
       "1056317    825 days\n",
       "1056318   1939 days\n",
       "1056319   2163 days\n",
       "Length: 1056320, dtype: timedelta64[ns]"
      ]
     },
     "execution_count": 125,
     "metadata": {},
     "output_type": "execute_result"
    }
   ],
   "source": [
    "all_data['date'] - all_data['account_open_date']"
   ]
  },
  {
   "cell_type": "markdown",
   "metadata": {},
   "source": [
    "### 18. Create a new column `account_age_days` and assign it as the difference in days between columns `date` (transaction date) and `account_open_date`"
   ]
  },
  {
   "cell_type": "code",
   "execution_count": 119,
   "metadata": {},
   "outputs": [],
   "source": [
    "all_data['account_age_days'] = all_data['account_open_date'].dt.day"
   ]
  },
  {
   "cell_type": "code",
   "execution_count": 127,
   "metadata": {},
   "outputs": [],
   "source": [
    "all_data['account_age_days'] = (all_data['date'] - all_data['account_open_date'])"
   ]
  },
  {
   "cell_type": "code",
   "execution_count": 128,
   "metadata": {},
   "outputs": [
    {
     "data": {
      "text/html": [
       "<div>\n",
       "<style scoped>\n",
       "    .dataframe tbody tr th:only-of-type {\n",
       "        vertical-align: middle;\n",
       "    }\n",
       "\n",
       "    .dataframe tbody tr th {\n",
       "        vertical-align: top;\n",
       "    }\n",
       "\n",
       "    .dataframe thead th {\n",
       "        text-align: right;\n",
       "    }\n",
       "</style>\n",
       "<table border=\"1\" class=\"dataframe\">\n",
       "  <thead>\n",
       "    <tr style=\"text-align: right;\">\n",
       "      <th></th>\n",
       "      <th>account_age_days</th>\n",
       "      <th>date</th>\n",
       "      <th>account_open_date</th>\n",
       "    </tr>\n",
       "  </thead>\n",
       "  <tbody>\n",
       "    <tr>\n",
       "      <th>0</th>\n",
       "      <td>0 days</td>\n",
       "      <td>1993-01-01</td>\n",
       "      <td>1993-01-01</td>\n",
       "    </tr>\n",
       "    <tr>\n",
       "      <th>1</th>\n",
       "      <td>0 days</td>\n",
       "      <td>1993-01-01</td>\n",
       "      <td>1993-01-01</td>\n",
       "    </tr>\n",
       "    <tr>\n",
       "      <th>2</th>\n",
       "      <td>0 days</td>\n",
       "      <td>1993-01-01</td>\n",
       "      <td>1993-01-01</td>\n",
       "    </tr>\n",
       "    <tr>\n",
       "      <th>3</th>\n",
       "      <td>0 days</td>\n",
       "      <td>1993-01-01</td>\n",
       "      <td>1993-01-01</td>\n",
       "    </tr>\n",
       "    <tr>\n",
       "      <th>4</th>\n",
       "      <td>0 days</td>\n",
       "      <td>1993-01-02</td>\n",
       "      <td>1993-01-02</td>\n",
       "    </tr>\n",
       "    <tr>\n",
       "      <th>...</th>\n",
       "      <td>...</td>\n",
       "      <td>...</td>\n",
       "      <td>...</td>\n",
       "    </tr>\n",
       "    <tr>\n",
       "      <th>1056315</th>\n",
       "      <td>832 days</td>\n",
       "      <td>1998-12-31</td>\n",
       "      <td>1996-09-20</td>\n",
       "    </tr>\n",
       "    <tr>\n",
       "      <th>1056316</th>\n",
       "      <td>1326 days</td>\n",
       "      <td>1998-12-31</td>\n",
       "      <td>1995-05-15</td>\n",
       "    </tr>\n",
       "    <tr>\n",
       "      <th>1056317</th>\n",
       "      <td>825 days</td>\n",
       "      <td>1998-12-31</td>\n",
       "      <td>1996-09-27</td>\n",
       "    </tr>\n",
       "    <tr>\n",
       "      <th>1056318</th>\n",
       "      <td>1939 days</td>\n",
       "      <td>1998-12-31</td>\n",
       "      <td>1993-09-09</td>\n",
       "    </tr>\n",
       "    <tr>\n",
       "      <th>1056319</th>\n",
       "      <td>2163 days</td>\n",
       "      <td>1998-12-31</td>\n",
       "      <td>1993-01-28</td>\n",
       "    </tr>\n",
       "  </tbody>\n",
       "</table>\n",
       "<p>1056320 rows × 3 columns</p>\n",
       "</div>"
      ],
      "text/plain": [
       "        account_age_days       date account_open_date\n",
       "0                 0 days 1993-01-01        1993-01-01\n",
       "1                 0 days 1993-01-01        1993-01-01\n",
       "2                 0 days 1993-01-01        1993-01-01\n",
       "3                 0 days 1993-01-01        1993-01-01\n",
       "4                 0 days 1993-01-02        1993-01-02\n",
       "...                  ...        ...               ...\n",
       "1056315         832 days 1998-12-31        1996-09-20\n",
       "1056316        1326 days 1998-12-31        1995-05-15\n",
       "1056317         825 days 1998-12-31        1996-09-27\n",
       "1056318        1939 days 1998-12-31        1993-09-09\n",
       "1056319        2163 days 1998-12-31        1993-01-28\n",
       "\n",
       "[1056320 rows x 3 columns]"
      ]
     },
     "execution_count": 128,
     "metadata": {},
     "output_type": "execute_result"
    }
   ],
   "source": [
    "all_data[['account_age_days', 'date', 'account_open_date']]"
   ]
  },
  {
   "cell_type": "markdown",
   "metadata": {},
   "source": [
    "### 19. Create a new column `amount_category` by cutting the column `amount` into 3 equal-sized bins, and label the bins as 'low_amount', 'medium_amount', 'high_amount'"
   ]
  },
  {
   "cell_type": "code",
   "execution_count": 130,
   "metadata": {},
   "outputs": [
    {
     "data": {
      "text/plain": [
       "amount\n",
       "(-87.4, 29133.333]        1013033\n",
       "(29133.333, 58266.667]      41336\n",
       "(58266.667, 87400.0]         1951\n",
       "Name: count, dtype: int64"
      ]
     },
     "execution_count": 130,
     "metadata": {},
     "output_type": "execute_result"
    }
   ],
   "source": [
    "pd.cut(all_data['amount'], bins=3).value_counts()"
   ]
  },
  {
   "cell_type": "code",
   "execution_count": 131,
   "metadata": {},
   "outputs": [],
   "source": [
    "all_data['amount_category'] = pd.cut(all_data['amount'],\n",
    "                                       bins=[-87.4, 29133.333, 58266.667, 87400.0],\n",
    "                                       labels=['low_amount', \n",
    "                                               'medium_amount', \n",
    "                                               'high_amount'])"
   ]
  },
  {
   "cell_type": "markdown",
   "metadata": {},
   "source": [
    "#### Verify the categories and their counts in `amount_category`"
   ]
  },
  {
   "cell_type": "code",
   "execution_count": 132,
   "metadata": {},
   "outputs": [
    {
     "data": {
      "text/plain": [
       "amount_category\n",
       "low_amount       1013033\n",
       "medium_amount      41336\n",
       "high_amount         1951\n",
       "Name: count, dtype: int64"
      ]
     },
     "execution_count": 132,
     "metadata": {},
     "output_type": "execute_result"
    }
   ],
   "source": [
    "all_data['amount_category'].value_counts()"
   ]
  },
  {
   "cell_type": "markdown",
   "metadata": {},
   "source": [
    "### 20. Create a new column `account_age_days_category` by cutting the column `account_age_days` into 5 equal-width bins"
   ]
  },
  {
   "cell_type": "code",
   "execution_count": 149,
   "metadata": {},
   "outputs": [],
   "source": [
    "all_data['account_age_days_category'] = pd.cut(all_data['account_age_days'], bins=5) "
   ]
  },
  {
   "cell_type": "markdown",
   "metadata": {},
   "source": [
    "#### Verify the categories and their counts in `account_age_days_category`"
   ]
  },
  {
   "cell_type": "code",
   "execution_count": 150,
   "metadata": {},
   "outputs": [
    {
     "data": {
      "text/plain": [
       "account_age_days_category\n",
       "(438 days 00:00:00, 876 days 00:00:00]      333012\n",
       "(-3 days +19:26:24, 438 days 00:00:00]      330815\n",
       "(876 days 00:00:00, 1314 days 00:00:00]     204014\n",
       "(1314 days 00:00:00, 1752 days 00:00:00]    131926\n",
       "(1752 days 00:00:00, 2190 days 00:00:00]     56553\n",
       "Name: count, dtype: int64"
      ]
     },
     "execution_count": 150,
     "metadata": {},
     "output_type": "execute_result"
    }
   ],
   "source": [
    "all_data['account_age_days_category'].value_counts()"
   ]
  },
  {
   "cell_type": "markdown",
   "metadata": {},
   "source": [
    "#### Print out the first 20 rows of `all_data` to look at the newly added columns"
   ]
  },
  {
   "cell_type": "code",
   "execution_count": 151,
   "metadata": {},
   "outputs": [
    {
     "data": {
      "text/html": [
       "<div>\n",
       "<style scoped>\n",
       "    .dataframe tbody tr th:only-of-type {\n",
       "        vertical-align: middle;\n",
       "    }\n",
       "\n",
       "    .dataframe tbody tr th {\n",
       "        vertical-align: top;\n",
       "    }\n",
       "\n",
       "    .dataframe thead th {\n",
       "        text-align: right;\n",
       "    }\n",
       "</style>\n",
       "<table border=\"1\" class=\"dataframe\">\n",
       "  <thead>\n",
       "    <tr style=\"text-align: right;\">\n",
       "      <th></th>\n",
       "      <th>trans_id</th>\n",
       "      <th>account_id</th>\n",
       "      <th>date</th>\n",
       "      <th>type</th>\n",
       "      <th>operation_type</th>\n",
       "      <th>amount</th>\n",
       "      <th>balance</th>\n",
       "      <th>description</th>\n",
       "      <th>partner_bank</th>\n",
       "      <th>partner_account</th>\n",
       "      <th>...</th>\n",
       "      <th>district_name</th>\n",
       "      <th>region</th>\n",
       "      <th>population</th>\n",
       "      <th>average_salary</th>\n",
       "      <th>unemployment_rate</th>\n",
       "      <th>num_committed_crimes</th>\n",
       "      <th>account_open_year</th>\n",
       "      <th>account_age_days</th>\n",
       "      <th>amount_category</th>\n",
       "      <th>account_age_days_category</th>\n",
       "    </tr>\n",
       "  </thead>\n",
       "  <tbody>\n",
       "    <tr>\n",
       "      <th>0</th>\n",
       "      <td>695247</td>\n",
       "      <td>2378</td>\n",
       "      <td>1993-01-01</td>\n",
       "      <td>CREDIT</td>\n",
       "      <td>CREDIT IN CASH</td>\n",
       "      <td>700.0</td>\n",
       "      <td>700.0</td>\n",
       "      <td>UNKNOWN</td>\n",
       "      <td>UNKNOWN</td>\n",
       "      <td>-999.0</td>\n",
       "      <td>...</td>\n",
       "      <td>Jindrichuv Hradec</td>\n",
       "      <td>south Bohemia</td>\n",
       "      <td>9.393100e+04</td>\n",
       "      <td>8427.000000</td>\n",
       "      <td>1.540000</td>\n",
       "      <td>1913.000000</td>\n",
       "      <td>1993</td>\n",
       "      <td>0 days</td>\n",
       "      <td>low_amount</td>\n",
       "      <td>(-3 days +19:26:24, 438 days 00:00:00]</td>\n",
       "    </tr>\n",
       "    <tr>\n",
       "      <th>1</th>\n",
       "      <td>171812</td>\n",
       "      <td>576</td>\n",
       "      <td>1993-01-01</td>\n",
       "      <td>CREDIT</td>\n",
       "      <td>CREDIT IN CASH</td>\n",
       "      <td>900.0</td>\n",
       "      <td>900.0</td>\n",
       "      <td>UNKNOWN</td>\n",
       "      <td>UNKNOWN</td>\n",
       "      <td>-999.0</td>\n",
       "      <td>...</td>\n",
       "      <td>Brno - venkov</td>\n",
       "      <td>south Moravia</td>\n",
       "      <td>1.570420e+05</td>\n",
       "      <td>9072.274638</td>\n",
       "      <td>2.430000</td>\n",
       "      <td>3894.000000</td>\n",
       "      <td>1993</td>\n",
       "      <td>0 days</td>\n",
       "      <td>low_amount</td>\n",
       "      <td>(-3 days +19:26:24, 438 days 00:00:00]</td>\n",
       "    </tr>\n",
       "    <tr>\n",
       "      <th>2</th>\n",
       "      <td>207264</td>\n",
       "      <td>704</td>\n",
       "      <td>1993-01-01</td>\n",
       "      <td>CREDIT</td>\n",
       "      <td>CREDIT IN CASH</td>\n",
       "      <td>1000.0</td>\n",
       "      <td>1000.0</td>\n",
       "      <td>UNKNOWN</td>\n",
       "      <td>UNKNOWN</td>\n",
       "      <td>-999.0</td>\n",
       "      <td>...</td>\n",
       "      <td>Brno - venkov</td>\n",
       "      <td>south Moravia</td>\n",
       "      <td>1.570420e+05</td>\n",
       "      <td>9072.274638</td>\n",
       "      <td>2.430000</td>\n",
       "      <td>3894.000000</td>\n",
       "      <td>1993</td>\n",
       "      <td>0 days</td>\n",
       "      <td>low_amount</td>\n",
       "      <td>(-3 days +19:26:24, 438 days 00:00:00]</td>\n",
       "    </tr>\n",
       "    <tr>\n",
       "      <th>3</th>\n",
       "      <td>1117247</td>\n",
       "      <td>3818</td>\n",
       "      <td>1993-01-01</td>\n",
       "      <td>CREDIT</td>\n",
       "      <td>CREDIT IN CASH</td>\n",
       "      <td>600.0</td>\n",
       "      <td>600.0</td>\n",
       "      <td>UNKNOWN</td>\n",
       "      <td>UNKNOWN</td>\n",
       "      <td>-999.0</td>\n",
       "      <td>...</td>\n",
       "      <td>Ostrava - mesto</td>\n",
       "      <td>north Moravia</td>\n",
       "      <td>3.238700e+05</td>\n",
       "      <td>10673.000000</td>\n",
       "      <td>5.440000</td>\n",
       "      <td>18347.000000</td>\n",
       "      <td>1993</td>\n",
       "      <td>0 days</td>\n",
       "      <td>low_amount</td>\n",
       "      <td>(-3 days +19:26:24, 438 days 00:00:00]</td>\n",
       "    </tr>\n",
       "    <tr>\n",
       "      <th>4</th>\n",
       "      <td>579373</td>\n",
       "      <td>1972</td>\n",
       "      <td>1993-01-02</td>\n",
       "      <td>CREDIT</td>\n",
       "      <td>CREDIT IN CASH</td>\n",
       "      <td>400.0</td>\n",
       "      <td>400.0</td>\n",
       "      <td>UNKNOWN</td>\n",
       "      <td>UNKNOWN</td>\n",
       "      <td>-999.0</td>\n",
       "      <td>...</td>\n",
       "      <td>UNKNOWN</td>\n",
       "      <td>UNKNOWN</td>\n",
       "      <td>2.703257e+05</td>\n",
       "      <td>9482.017843</td>\n",
       "      <td>3.571654</td>\n",
       "      <td>16486.170933</td>\n",
       "      <td>1993</td>\n",
       "      <td>0 days</td>\n",
       "      <td>low_amount</td>\n",
       "      <td>(-3 days +19:26:24, 438 days 00:00:00]</td>\n",
       "    </tr>\n",
       "    <tr>\n",
       "      <th>5</th>\n",
       "      <td>771035</td>\n",
       "      <td>2632</td>\n",
       "      <td>1993-01-02</td>\n",
       "      <td>CREDIT</td>\n",
       "      <td>CREDIT IN CASH</td>\n",
       "      <td>1100.0</td>\n",
       "      <td>1100.0</td>\n",
       "      <td>UNKNOWN</td>\n",
       "      <td>UNKNOWN</td>\n",
       "      <td>-999.0</td>\n",
       "      <td>...</td>\n",
       "      <td>Karlovy Vary</td>\n",
       "      <td>west Bohemia</td>\n",
       "      <td>1.226030e+05</td>\n",
       "      <td>8991.000000</td>\n",
       "      <td>2.010000</td>\n",
       "      <td>5273.000000</td>\n",
       "      <td>1993</td>\n",
       "      <td>0 days</td>\n",
       "      <td>low_amount</td>\n",
       "      <td>(-3 days +19:26:24, 438 days 00:00:00]</td>\n",
       "    </tr>\n",
       "    <tr>\n",
       "      <th>6</th>\n",
       "      <td>452728</td>\n",
       "      <td>1539</td>\n",
       "      <td>1993-01-03</td>\n",
       "      <td>CREDIT</td>\n",
       "      <td>CREDIT IN CASH</td>\n",
       "      <td>600.0</td>\n",
       "      <td>600.0</td>\n",
       "      <td>UNKNOWN</td>\n",
       "      <td>UNKNOWN</td>\n",
       "      <td>-999.0</td>\n",
       "      <td>...</td>\n",
       "      <td>Hl.m. Praha</td>\n",
       "      <td>Prague</td>\n",
       "      <td>1.204953e+06</td>\n",
       "      <td>12541.000000</td>\n",
       "      <td>0.430000</td>\n",
       "      <td>99107.000000</td>\n",
       "      <td>1993</td>\n",
       "      <td>0 days</td>\n",
       "      <td>low_amount</td>\n",
       "      <td>(-3 days +19:26:24, 438 days 00:00:00]</td>\n",
       "    </tr>\n",
       "    <tr>\n",
       "      <th>7</th>\n",
       "      <td>725751</td>\n",
       "      <td>2484</td>\n",
       "      <td>1993-01-03</td>\n",
       "      <td>CREDIT</td>\n",
       "      <td>CREDIT IN CASH</td>\n",
       "      <td>1100.0</td>\n",
       "      <td>1100.0</td>\n",
       "      <td>UNKNOWN</td>\n",
       "      <td>UNKNOWN</td>\n",
       "      <td>-999.0</td>\n",
       "      <td>...</td>\n",
       "      <td>Ostrava - mesto</td>\n",
       "      <td>north Moravia</td>\n",
       "      <td>3.238700e+05</td>\n",
       "      <td>10673.000000</td>\n",
       "      <td>5.440000</td>\n",
       "      <td>18347.000000</td>\n",
       "      <td>1993</td>\n",
       "      <td>0 days</td>\n",
       "      <td>low_amount</td>\n",
       "      <td>(-3 days +19:26:24, 438 days 00:00:00]</td>\n",
       "    </tr>\n",
       "    <tr>\n",
       "      <th>8</th>\n",
       "      <td>497211</td>\n",
       "      <td>1695</td>\n",
       "      <td>1993-01-03</td>\n",
       "      <td>CREDIT</td>\n",
       "      <td>CREDIT IN CASH</td>\n",
       "      <td>200.0</td>\n",
       "      <td>200.0</td>\n",
       "      <td>UNKNOWN</td>\n",
       "      <td>UNKNOWN</td>\n",
       "      <td>-999.0</td>\n",
       "      <td>...</td>\n",
       "      <td>Sumperk</td>\n",
       "      <td>north Moravia</td>\n",
       "      <td>1.273690e+05</td>\n",
       "      <td>8369.000000</td>\n",
       "      <td>3.818541</td>\n",
       "      <td>2807.000000</td>\n",
       "      <td>1993</td>\n",
       "      <td>0 days</td>\n",
       "      <td>low_amount</td>\n",
       "      <td>(-3 days +19:26:24, 438 days 00:00:00]</td>\n",
       "    </tr>\n",
       "    <tr>\n",
       "      <th>9</th>\n",
       "      <td>232960</td>\n",
       "      <td>793</td>\n",
       "      <td>1993-01-03</td>\n",
       "      <td>CREDIT</td>\n",
       "      <td>CREDIT IN CASH</td>\n",
       "      <td>800.0</td>\n",
       "      <td>800.0</td>\n",
       "      <td>UNKNOWN</td>\n",
       "      <td>UNKNOWN</td>\n",
       "      <td>-999.0</td>\n",
       "      <td>...</td>\n",
       "      <td>Pardubice</td>\n",
       "      <td>east Bohemia</td>\n",
       "      <td>1.625800e+05</td>\n",
       "      <td>9538.000000</td>\n",
       "      <td>4.315642</td>\n",
       "      <td>5410.000000</td>\n",
       "      <td>1993</td>\n",
       "      <td>0 days</td>\n",
       "      <td>low_amount</td>\n",
       "      <td>(-3 days +19:26:24, 438 days 00:00:00]</td>\n",
       "    </tr>\n",
       "    <tr>\n",
       "      <th>10</th>\n",
       "      <td>505240</td>\n",
       "      <td>1726</td>\n",
       "      <td>1993-01-03</td>\n",
       "      <td>CREDIT</td>\n",
       "      <td>CREDIT IN CASH</td>\n",
       "      <td>1000.0</td>\n",
       "      <td>1000.0</td>\n",
       "      <td>UNKNOWN</td>\n",
       "      <td>UNKNOWN</td>\n",
       "      <td>-999.0</td>\n",
       "      <td>...</td>\n",
       "      <td>Rychnov nad Kneznou</td>\n",
       "      <td>east Bohemia</td>\n",
       "      <td>7.895500e+04</td>\n",
       "      <td>9060.000000</td>\n",
       "      <td>2.440000</td>\n",
       "      <td>1717.000000</td>\n",
       "      <td>1993</td>\n",
       "      <td>0 days</td>\n",
       "      <td>low_amount</td>\n",
       "      <td>(-3 days +19:26:24, 438 days 00:00:00]</td>\n",
       "    </tr>\n",
       "    <tr>\n",
       "      <th>11</th>\n",
       "      <td>144541</td>\n",
       "      <td>485</td>\n",
       "      <td>1993-01-04</td>\n",
       "      <td>CREDIT</td>\n",
       "      <td>CREDIT IN CASH</td>\n",
       "      <td>300.0</td>\n",
       "      <td>300.0</td>\n",
       "      <td>UNKNOWN</td>\n",
       "      <td>UNKNOWN</td>\n",
       "      <td>-999.0</td>\n",
       "      <td>...</td>\n",
       "      <td>Kutna Hora</td>\n",
       "      <td>central Bohemia</td>\n",
       "      <td>7.796300e+04</td>\n",
       "      <td>8546.000000</td>\n",
       "      <td>4.020000</td>\n",
       "      <td>3120.000000</td>\n",
       "      <td>1993</td>\n",
       "      <td>0 days</td>\n",
       "      <td>low_amount</td>\n",
       "      <td>(-3 days +19:26:24, 438 days 00:00:00]</td>\n",
       "    </tr>\n",
       "    <tr>\n",
       "      <th>12</th>\n",
       "      <td>637741</td>\n",
       "      <td>2177</td>\n",
       "      <td>1993-01-04</td>\n",
       "      <td>CREDIT</td>\n",
       "      <td>CREDIT IN CASH</td>\n",
       "      <td>800.0</td>\n",
       "      <td>800.0</td>\n",
       "      <td>UNKNOWN</td>\n",
       "      <td>UNKNOWN</td>\n",
       "      <td>-999.0</td>\n",
       "      <td>...</td>\n",
       "      <td>Uherske Hradiste</td>\n",
       "      <td>south Moravia</td>\n",
       "      <td>1.456880e+05</td>\n",
       "      <td>8544.000000</td>\n",
       "      <td>1.860000</td>\n",
       "      <td>2906.000000</td>\n",
       "      <td>1993</td>\n",
       "      <td>0 days</td>\n",
       "      <td>low_amount</td>\n",
       "      <td>(-3 days +19:26:24, 438 days 00:00:00]</td>\n",
       "    </tr>\n",
       "    <tr>\n",
       "      <th>13</th>\n",
       "      <td>689827</td>\n",
       "      <td>2357</td>\n",
       "      <td>1993-01-04</td>\n",
       "      <td>CREDIT</td>\n",
       "      <td>CREDIT IN CASH</td>\n",
       "      <td>800.0</td>\n",
       "      <td>800.0</td>\n",
       "      <td>UNKNOWN</td>\n",
       "      <td>UNKNOWN</td>\n",
       "      <td>-999.0</td>\n",
       "      <td>...</td>\n",
       "      <td>Prachatice</td>\n",
       "      <td>south Bohemia</td>\n",
       "      <td>5.142800e+04</td>\n",
       "      <td>8402.000000</td>\n",
       "      <td>3.980000</td>\n",
       "      <td>1099.000000</td>\n",
       "      <td>1993</td>\n",
       "      <td>0 days</td>\n",
       "      <td>low_amount</td>\n",
       "      <td>(-3 days +19:26:24, 438 days 00:00:00]</td>\n",
       "    </tr>\n",
       "    <tr>\n",
       "      <th>14</th>\n",
       "      <td>846006</td>\n",
       "      <td>2881</td>\n",
       "      <td>1993-01-04</td>\n",
       "      <td>CREDIT</td>\n",
       "      <td>CREDIT IN CASH</td>\n",
       "      <td>700.0</td>\n",
       "      <td>700.0</td>\n",
       "      <td>UNKNOWN</td>\n",
       "      <td>UNKNOWN</td>\n",
       "      <td>-999.0</td>\n",
       "      <td>...</td>\n",
       "      <td>Karvina</td>\n",
       "      <td>north Moravia</td>\n",
       "      <td>2.853870e+05</td>\n",
       "      <td>10177.000000</td>\n",
       "      <td>7.750000</td>\n",
       "      <td>10108.000000</td>\n",
       "      <td>1993</td>\n",
       "      <td>0 days</td>\n",
       "      <td>low_amount</td>\n",
       "      <td>(-3 days +19:26:24, 438 days 00:00:00]</td>\n",
       "    </tr>\n",
       "    <tr>\n",
       "      <th>15</th>\n",
       "      <td>637742</td>\n",
       "      <td>2177</td>\n",
       "      <td>1993-01-05</td>\n",
       "      <td>CREDIT</td>\n",
       "      <td>COLLECTION FROM ANOTHER BANK</td>\n",
       "      <td>5123.0</td>\n",
       "      <td>5923.0</td>\n",
       "      <td>PENSION</td>\n",
       "      <td>YZ</td>\n",
       "      <td>62457513.0</td>\n",
       "      <td>...</td>\n",
       "      <td>Uherske Hradiste</td>\n",
       "      <td>south Moravia</td>\n",
       "      <td>1.456880e+05</td>\n",
       "      <td>8544.000000</td>\n",
       "      <td>1.860000</td>\n",
       "      <td>2906.000000</td>\n",
       "      <td>1993</td>\n",
       "      <td>1 days</td>\n",
       "      <td>low_amount</td>\n",
       "      <td>(-3 days +19:26:24, 438 days 00:00:00]</td>\n",
       "    </tr>\n",
       "    <tr>\n",
       "      <th>16</th>\n",
       "      <td>2908688</td>\n",
       "      <td>9635</td>\n",
       "      <td>1993-01-05</td>\n",
       "      <td>CREDIT</td>\n",
       "      <td>CREDIT IN CASH</td>\n",
       "      <td>400.0</td>\n",
       "      <td>400.0</td>\n",
       "      <td>UNKNOWN</td>\n",
       "      <td>UNKNOWN</td>\n",
       "      <td>-999.0</td>\n",
       "      <td>...</td>\n",
       "      <td>Karvina</td>\n",
       "      <td>north Moravia</td>\n",
       "      <td>2.853870e+05</td>\n",
       "      <td>10177.000000</td>\n",
       "      <td>7.750000</td>\n",
       "      <td>10108.000000</td>\n",
       "      <td>1993</td>\n",
       "      <td>0 days</td>\n",
       "      <td>low_amount</td>\n",
       "      <td>(-3 days +19:26:24, 438 days 00:00:00]</td>\n",
       "    </tr>\n",
       "    <tr>\n",
       "      <th>17</th>\n",
       "      <td>232961</td>\n",
       "      <td>793</td>\n",
       "      <td>1993-01-05</td>\n",
       "      <td>CREDIT</td>\n",
       "      <td>COLLECTION FROM ANOTHER BANK</td>\n",
       "      <td>3401.0</td>\n",
       "      <td>4201.0</td>\n",
       "      <td>UNKNOWN</td>\n",
       "      <td>IJ</td>\n",
       "      <td>6149286.0</td>\n",
       "      <td>...</td>\n",
       "      <td>Pardubice</td>\n",
       "      <td>east Bohemia</td>\n",
       "      <td>1.625800e+05</td>\n",
       "      <td>9538.000000</td>\n",
       "      <td>4.315642</td>\n",
       "      <td>5410.000000</td>\n",
       "      <td>1993</td>\n",
       "      <td>2 days</td>\n",
       "      <td>low_amount</td>\n",
       "      <td>(-3 days +19:26:24, 438 days 00:00:00]</td>\n",
       "    </tr>\n",
       "    <tr>\n",
       "      <th>18</th>\n",
       "      <td>192096</td>\n",
       "      <td>652</td>\n",
       "      <td>1993-01-05</td>\n",
       "      <td>CREDIT</td>\n",
       "      <td>CREDIT IN CASH</td>\n",
       "      <td>700.0</td>\n",
       "      <td>700.0</td>\n",
       "      <td>UNKNOWN</td>\n",
       "      <td>UNKNOWN</td>\n",
       "      <td>-999.0</td>\n",
       "      <td>...</td>\n",
       "      <td>Tabor</td>\n",
       "      <td>south Bohemia</td>\n",
       "      <td>1.033470e+05</td>\n",
       "      <td>9104.000000</td>\n",
       "      <td>2.070000</td>\n",
       "      <td>2354.000000</td>\n",
       "      <td>1993</td>\n",
       "      <td>0 days</td>\n",
       "      <td>low_amount</td>\n",
       "      <td>(-3 days +19:26:24, 438 days 00:00:00]</td>\n",
       "    </tr>\n",
       "    <tr>\n",
       "      <th>19</th>\n",
       "      <td>542215</td>\n",
       "      <td>1844</td>\n",
       "      <td>1993-01-06</td>\n",
       "      <td>CREDIT</td>\n",
       "      <td>CREDIT IN CASH</td>\n",
       "      <td>500.0</td>\n",
       "      <td>500.0</td>\n",
       "      <td>UNKNOWN</td>\n",
       "      <td>UNKNOWN</td>\n",
       "      <td>-999.0</td>\n",
       "      <td>...</td>\n",
       "      <td>Chrudim</td>\n",
       "      <td>east Bohemia</td>\n",
       "      <td>1.056060e+05</td>\n",
       "      <td>8254.000000</td>\n",
       "      <td>3.760000</td>\n",
       "      <td>2325.000000</td>\n",
       "      <td>1993</td>\n",
       "      <td>0 days</td>\n",
       "      <td>low_amount</td>\n",
       "      <td>(-3 days +19:26:24, 438 days 00:00:00]</td>\n",
       "    </tr>\n",
       "  </tbody>\n",
       "</table>\n",
       "<p>20 rows × 24 columns</p>\n",
       "</div>"
      ],
      "text/plain": [
       "    trans_id  account_id       date    type                operation_type  \\\n",
       "0     695247        2378 1993-01-01  CREDIT                CREDIT IN CASH   \n",
       "1     171812         576 1993-01-01  CREDIT                CREDIT IN CASH   \n",
       "2     207264         704 1993-01-01  CREDIT                CREDIT IN CASH   \n",
       "3    1117247        3818 1993-01-01  CREDIT                CREDIT IN CASH   \n",
       "4     579373        1972 1993-01-02  CREDIT                CREDIT IN CASH   \n",
       "5     771035        2632 1993-01-02  CREDIT                CREDIT IN CASH   \n",
       "6     452728        1539 1993-01-03  CREDIT                CREDIT IN CASH   \n",
       "7     725751        2484 1993-01-03  CREDIT                CREDIT IN CASH   \n",
       "8     497211        1695 1993-01-03  CREDIT                CREDIT IN CASH   \n",
       "9     232960         793 1993-01-03  CREDIT                CREDIT IN CASH   \n",
       "10    505240        1726 1993-01-03  CREDIT                CREDIT IN CASH   \n",
       "11    144541         485 1993-01-04  CREDIT                CREDIT IN CASH   \n",
       "12    637741        2177 1993-01-04  CREDIT                CREDIT IN CASH   \n",
       "13    689827        2357 1993-01-04  CREDIT                CREDIT IN CASH   \n",
       "14    846006        2881 1993-01-04  CREDIT                CREDIT IN CASH   \n",
       "15    637742        2177 1993-01-05  CREDIT  COLLECTION FROM ANOTHER BANK   \n",
       "16   2908688        9635 1993-01-05  CREDIT                CREDIT IN CASH   \n",
       "17    232961         793 1993-01-05  CREDIT  COLLECTION FROM ANOTHER BANK   \n",
       "18    192096         652 1993-01-05  CREDIT                CREDIT IN CASH   \n",
       "19    542215        1844 1993-01-06  CREDIT                CREDIT IN CASH   \n",
       "\n",
       "    amount  balance description partner_bank  partner_account  ...  \\\n",
       "0    700.0    700.0     UNKNOWN      UNKNOWN           -999.0  ...   \n",
       "1    900.0    900.0     UNKNOWN      UNKNOWN           -999.0  ...   \n",
       "2   1000.0   1000.0     UNKNOWN      UNKNOWN           -999.0  ...   \n",
       "3    600.0    600.0     UNKNOWN      UNKNOWN           -999.0  ...   \n",
       "4    400.0    400.0     UNKNOWN      UNKNOWN           -999.0  ...   \n",
       "5   1100.0   1100.0     UNKNOWN      UNKNOWN           -999.0  ...   \n",
       "6    600.0    600.0     UNKNOWN      UNKNOWN           -999.0  ...   \n",
       "7   1100.0   1100.0     UNKNOWN      UNKNOWN           -999.0  ...   \n",
       "8    200.0    200.0     UNKNOWN      UNKNOWN           -999.0  ...   \n",
       "9    800.0    800.0     UNKNOWN      UNKNOWN           -999.0  ...   \n",
       "10  1000.0   1000.0     UNKNOWN      UNKNOWN           -999.0  ...   \n",
       "11   300.0    300.0     UNKNOWN      UNKNOWN           -999.0  ...   \n",
       "12   800.0    800.0     UNKNOWN      UNKNOWN           -999.0  ...   \n",
       "13   800.0    800.0     UNKNOWN      UNKNOWN           -999.0  ...   \n",
       "14   700.0    700.0     UNKNOWN      UNKNOWN           -999.0  ...   \n",
       "15  5123.0   5923.0     PENSION           YZ       62457513.0  ...   \n",
       "16   400.0    400.0     UNKNOWN      UNKNOWN           -999.0  ...   \n",
       "17  3401.0   4201.0     UNKNOWN           IJ        6149286.0  ...   \n",
       "18   700.0    700.0     UNKNOWN      UNKNOWN           -999.0  ...   \n",
       "19   500.0    500.0     UNKNOWN      UNKNOWN           -999.0  ...   \n",
       "\n",
       "          district_name           region    population  average_salary  \\\n",
       "0     Jindrichuv Hradec    south Bohemia  9.393100e+04     8427.000000   \n",
       "1         Brno - venkov    south Moravia  1.570420e+05     9072.274638   \n",
       "2         Brno - venkov    south Moravia  1.570420e+05     9072.274638   \n",
       "3       Ostrava - mesto    north Moravia  3.238700e+05    10673.000000   \n",
       "4               UNKNOWN          UNKNOWN  2.703257e+05     9482.017843   \n",
       "5          Karlovy Vary     west Bohemia  1.226030e+05     8991.000000   \n",
       "6           Hl.m. Praha           Prague  1.204953e+06    12541.000000   \n",
       "7       Ostrava - mesto    north Moravia  3.238700e+05    10673.000000   \n",
       "8               Sumperk    north Moravia  1.273690e+05     8369.000000   \n",
       "9             Pardubice     east Bohemia  1.625800e+05     9538.000000   \n",
       "10  Rychnov nad Kneznou     east Bohemia  7.895500e+04     9060.000000   \n",
       "11           Kutna Hora  central Bohemia  7.796300e+04     8546.000000   \n",
       "12     Uherske Hradiste    south Moravia  1.456880e+05     8544.000000   \n",
       "13           Prachatice    south Bohemia  5.142800e+04     8402.000000   \n",
       "14              Karvina    north Moravia  2.853870e+05    10177.000000   \n",
       "15     Uherske Hradiste    south Moravia  1.456880e+05     8544.000000   \n",
       "16              Karvina    north Moravia  2.853870e+05    10177.000000   \n",
       "17            Pardubice     east Bohemia  1.625800e+05     9538.000000   \n",
       "18                Tabor    south Bohemia  1.033470e+05     9104.000000   \n",
       "19              Chrudim     east Bohemia  1.056060e+05     8254.000000   \n",
       "\n",
       "   unemployment_rate num_committed_crimes  account_open_year  \\\n",
       "0           1.540000          1913.000000               1993   \n",
       "1           2.430000          3894.000000               1993   \n",
       "2           2.430000          3894.000000               1993   \n",
       "3           5.440000         18347.000000               1993   \n",
       "4           3.571654         16486.170933               1993   \n",
       "5           2.010000          5273.000000               1993   \n",
       "6           0.430000         99107.000000               1993   \n",
       "7           5.440000         18347.000000               1993   \n",
       "8           3.818541          2807.000000               1993   \n",
       "9           4.315642          5410.000000               1993   \n",
       "10          2.440000          1717.000000               1993   \n",
       "11          4.020000          3120.000000               1993   \n",
       "12          1.860000          2906.000000               1993   \n",
       "13          3.980000          1099.000000               1993   \n",
       "14          7.750000         10108.000000               1993   \n",
       "15          1.860000          2906.000000               1993   \n",
       "16          7.750000         10108.000000               1993   \n",
       "17          4.315642          5410.000000               1993   \n",
       "18          2.070000          2354.000000               1993   \n",
       "19          3.760000          2325.000000               1993   \n",
       "\n",
       "    account_age_days  amount_category               account_age_days_category  \n",
       "0             0 days       low_amount  (-3 days +19:26:24, 438 days 00:00:00]  \n",
       "1             0 days       low_amount  (-3 days +19:26:24, 438 days 00:00:00]  \n",
       "2             0 days       low_amount  (-3 days +19:26:24, 438 days 00:00:00]  \n",
       "3             0 days       low_amount  (-3 days +19:26:24, 438 days 00:00:00]  \n",
       "4             0 days       low_amount  (-3 days +19:26:24, 438 days 00:00:00]  \n",
       "5             0 days       low_amount  (-3 days +19:26:24, 438 days 00:00:00]  \n",
       "6             0 days       low_amount  (-3 days +19:26:24, 438 days 00:00:00]  \n",
       "7             0 days       low_amount  (-3 days +19:26:24, 438 days 00:00:00]  \n",
       "8             0 days       low_amount  (-3 days +19:26:24, 438 days 00:00:00]  \n",
       "9             0 days       low_amount  (-3 days +19:26:24, 438 days 00:00:00]  \n",
       "10            0 days       low_amount  (-3 days +19:26:24, 438 days 00:00:00]  \n",
       "11            0 days       low_amount  (-3 days +19:26:24, 438 days 00:00:00]  \n",
       "12            0 days       low_amount  (-3 days +19:26:24, 438 days 00:00:00]  \n",
       "13            0 days       low_amount  (-3 days +19:26:24, 438 days 00:00:00]  \n",
       "14            0 days       low_amount  (-3 days +19:26:24, 438 days 00:00:00]  \n",
       "15            1 days       low_amount  (-3 days +19:26:24, 438 days 00:00:00]  \n",
       "16            0 days       low_amount  (-3 days +19:26:24, 438 days 00:00:00]  \n",
       "17            2 days       low_amount  (-3 days +19:26:24, 438 days 00:00:00]  \n",
       "18            0 days       low_amount  (-3 days +19:26:24, 438 days 00:00:00]  \n",
       "19            0 days       low_amount  (-3 days +19:26:24, 438 days 00:00:00]  \n",
       "\n",
       "[20 rows x 24 columns]"
      ]
     },
     "execution_count": 151,
     "metadata": {},
     "output_type": "execute_result"
    }
   ],
   "source": [
    "all_data.head(20)"
   ]
  },
  {
   "cell_type": "code",
   "execution_count": null,
   "metadata": {},
   "outputs": [],
   "source": []
  }
 ],
 "metadata": {
  "kernelspec": {
   "display_name": "Python 3 (ipykernel)",
   "language": "python",
   "name": "python3"
  },
  "language_info": {
   "codemirror_mode": {
    "name": "ipython",
    "version": 3
   },
   "file_extension": ".py",
   "mimetype": "text/x-python",
   "name": "python",
   "nbconvert_exporter": "python",
   "pygments_lexer": "ipython3",
   "version": "3.11.0"
  }
 },
 "nbformat": 4,
 "nbformat_minor": 4
}
