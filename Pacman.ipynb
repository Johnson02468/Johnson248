{
 "cells": [
  {
   "cell_type": "code",
   "execution_count": 1,
   "id": "5488e6ca",
   "metadata": {},
   "outputs": [
    {
     "name": "stdout",
     "output_type": "stream",
     "text": [
      "pygame 2.6.1 (SDL 2.28.4, Python 3.11.0)\n",
      "Hello from the pygame community. https://www.pygame.org/contribute.html\n"
     ]
    }
   ],
   "source": [
    "import pygame"
   ]
  },
  {
   "cell_type": "code",
   "execution_count": 3,
   "id": "ef0e19f9",
   "metadata": {},
   "outputs": [
    {
     "name": "stdout",
     "output_type": "stream",
     "text": [
      "##########\n",
      "#P.......#\n",
      "#.######.#\n",
      "#........#\n",
      "###.######\n",
      "#........#\n",
      "#.######.#\n",
      "#........#\n",
      "#.......G#\n",
      "##########\n"
     ]
    }
   ],
   "source": [
    "import random\n",
    "from IPython.display import clear_output\n",
    "\n",
    "# Constants\n",
    "WIDTH = 10\n",
    "HEIGHT = 10\n",
    "EMPTY = ' '\n",
    "WALL = '#'\n",
    "PACMAN = 'P'\n",
    "GHOST = 'G'\n",
    "DOT = '.'\n",
    "\n",
    "# Create a simple maze layout\n",
    "maze = [\n",
    "    list(\"##########\"),\n",
    "    list(\"#P.......#\"),\n",
    "    list(\"#.######.#\"),\n",
    "    list(\"#........#\"),\n",
    "    list(\"###.######\"),\n",
    "    list(\"#........#\"),\n",
    "    list(\"#.######.#\"),\n",
    "    list(\"#........#\"),\n",
    "    list(\"#.......G#\"),\n",
    "    list(\"##########\")\n",
    "]\n",
    "\n",
    "# Display function\n",
    "def display_maze(maze):\n",
    "    clear_output(wait=True)\n",
    "    for row in maze:\n",
    "        print(\"\".join(row))\n",
    "\n",
    "display_maze(maze)"
   ]
  },
  {
   "cell_type": "code",
   "execution_count": null,
   "id": "efb3af32",
   "metadata": {},
   "outputs": [],
   "source": []
  }
 ],
 "metadata": {
  "kernelspec": {
   "display_name": "Python 3 (ipykernel)",
   "language": "python",
   "name": "python3"
  },
  "language_info": {
   "codemirror_mode": {
    "name": "ipython",
    "version": 3
   },
   "file_extension": ".py",
   "mimetype": "text/x-python",
   "name": "python",
   "nbconvert_exporter": "python",
   "pygments_lexer": "ipython3",
   "version": "3.11.0"
  }
 },
 "nbformat": 4,
 "nbformat_minor": 5
}
