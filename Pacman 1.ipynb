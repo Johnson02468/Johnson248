{
 "cells": [
  {
   "cell_type": "code",
   "execution_count": 1,
   "id": "5488e6ca",
   "metadata": {},
   "outputs": [
    {
     "name": "stdout",
     "output_type": "stream",
     "text": [
      "pygame 2.6.1 (SDL 2.28.4, Python 3.11.0)\n",
      "Hello from the pygame community. https://www.pygame.org/contribute.html\n"
     ]
    }
   ],
   "source": [
    "import pygame"
   ]
  },
  {
   "cell_type": "code",
   "execution_count": 5,
   "id": "efb3af32",
   "metadata": {},
   "outputs": [
    {
     "data": {
      "image/png": "[encoded data removed]",
      "text/plain": [
       "<Figure size 640x480 with 1 Axes>"
      ]
     },
     "metadata": {},
     "output_type": "display_data"
    }
   ],
   "source": [
    "import numpy as np\n",
    "import matplotlib.pyplot as plt\n",
    "from IPython.display import display, clear_output\n",
    "import time\n",
    "\n",
    "# Define grid constants\n",
    "EMPTY = 0\n",
    "WALL = 1\n",
    "PACMAN = 2\n",
    "\n",
    "# Create a simple maze\n",
    "maze = np.array([\n",
    "    [1, 1, 1, 1, 1, 1, 1, 1],\n",
    "    [1, 0, 0, 0, 1, 0, 0, 1],\n",
    "    [1, 0, 1, 0, 0, 0, 1, 1],\n",
    "    [1, 0, 1, 1, 1, 0, 0, 1],\n",
    "    [1, 0, 0, 0, 0, 0, 1, 1],\n",
    "    [1, 1, 1, 1, 1, 1, 1, 1]\n",
    "])\n",
    "\n",
    "# Initial Pac-Man position\n",
    "pacman_pos = [1, 1]\n",
    "\n",
    "def draw_maze(maze, pacman_pos):\n",
    "    display_maze = maze.copy()\n",
    "    display_maze[pacman_pos[0], pacman_pos[1]] = PACMAN\n",
    "\n",
    "    cmap = plt.cm.get_cmap('Set3', 3)\n",
    "    plt.imshow(display_maze, cmap=cmap)\n",
    "    plt.xticks([])\n",
    "    plt.yticks([])\n",
    "    plt.grid(False)\n",
    "    plt.show()\n",
    "\n",
    "# Simulate Pac-Man moving right\n",
    "for step in range(5):\n",
    "    clear_output(wait=True)\n",
    "    draw_maze(maze, pacman_pos)\n",
    "    time.sleep(0.5)\n",
    "\n",
    "    # Move right if the next cell is empty\n",
    "    new_col = pacman_pos[1] + 1\n",
    "    if new_col < maze.shape[1] and maze[pacman_pos[0], new_col] == EMPTY:\n",
    "        pacman_pos[1] = new_col"
   ]
  },
  {
   "cell_type": "code",
   "execution_count": null,
   "id": "93f1662b",
   "metadata": {},
   "outputs": [],
   "source": []
  }
 ],
 "metadata": {
  "kernelspec": {
   "display_name": "Python 3 (ipykernel)",
   "language": "python",
   "name": "python3"
  },
  "language_info": {
   "codemirror_mode": {
    "name": "ipython",
    "version": 3
   },
   "file_extension": ".py",
   "mimetype": "text/x-python",
   "name": "python",
   "nbconvert_exporter": "python",
   "pygments_lexer": "ipython3",
   "version": "3.11.0"
  }
 },
 "nbformat": 4,
 "nbformat_minor": 5
}
