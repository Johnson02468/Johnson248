{
 "cells": [
  {
   "cell_type": "markdown",
   "id": "4c4b19cf",
   "metadata": {},
   "source": [
    "## Context "
   ]
  },
  {
   "cell_type": "markdown",
   "id": "4e6a4940",
   "metadata": {},
   "source": [
    "- You are a Data Scientist working at the USDA. \n",
    "\n",
    "- Your department has been tracking the production of various agricultural commodities across different states.\n",
    "\n",
    "- The data spans multiple years and states, with varying levels of production for each commodity.\n",
    "\n",
    "- Your manager has requested that you generate insights from this data to aid in future planning and decision-making. You'll need to use SQL queries to answer the questions that come up in meetings, reports, or strategic discussions.\n",
    "\n",
    "- In general, this dataset is popular to explore how Dairy Production & Agricultural Commodities have evolved over time, including the participation and performance of different states spanning over multiple years.\n",
    "\n",
    "- The original sources of data are located below if you are interested in using this data for other purposes "
   ]
  },
  {
   "cell_type": "markdown",
   "id": "6bb018c5",
   "metadata": {},
   "source": [
    "## Dataset Description:"
   ]
  },
  {
   "cell_type": "markdown",
   "id": "a3855dc1",
   "metadata": {},
   "source": [
    "<u>We'll work on six datasets (in six separate csv files):</u>\n",
    "\n",
    "\n",
    "- **state_lookup:** Each record describes a unique State_ANSI code for each state.\n",
    "https://github.com/Johnson02468/Johnson248/blob/21464a845814ea9d00c7cd94e783e80eaf1adf52/state_lookup.csv\n",
    "- **cheese_production:** Each row describes a production value for State_ANSI codes.\n",
    "https://github.com/Johnson02468/Johnson248/blob/21464a845814ea9d00c7cd94e783e80eaf1adf52/cheese_production.numbers\n",
    "- **coffee_production:** Each row describes a production value for State_ANSI codes.\n",
    "https://github.com/Johnson02468/Johnson248/blob/21464a845814ea9d00c7cd94e783e80eaf1adf52/coffee_production.csv\n",
    "- **egg_production:** Each row describes a production value for State_ANSI codes.\n",
    "https://github.com/Johnson02468/Johnson248/blob/21464a845814ea9d00c7cd94e783e80eaf1adf52/egg_production.csv\n",
    "- **honey_production:** Each row describes a production value for State_ANSI codes.\n",
    "https://github.com/Johnson02468/Johnson248/blob/21464a845814ea9d00c7cd94e783e80eaf1adf52/honey_production%20copy.csv\n",
    "- **milk_production:** Each row describes a production value for State_ANSI codes.\n",
    "https://github.com/Johnson02468/Johnson248/blob/3bb64859ad3c2889b0d9bdfca417aa25b850dd69/milk_production.csv"
   ]
  },
  {
   "cell_type": "markdown",
   "id": "2f3ef41b",
   "metadata": {},
   "source": [
    "## Objective:"
   ]
  },
  {
   "cell_type": "markdown",
   "id": "8c56eb4c",
   "metadata": {},
   "source": [
    "- Examine/clean the dataset using Python and/or SQL queries.\n",
    "\n",
    "- Assess state-by-state production for each commodity.\n",
    "\n",
    "- Identify trends or anomalies.\n",
    "\n",
    "- Offer data-backed suggestions for areas that may need more attention.\n",
    "\n",
    "- Explore distributions of single numerical and categorical features via statistics and plots.\n",
    "\n",
    "- Explore relationships of multiple features via statistics and plots.\n",
    "\n",
    "- We are only going to explore part of the dataset, please feel free to explore more if you are interested."
   ]
  },
  {
   "cell_type": "markdown",
   "id": "4dd47d45",
   "metadata": {},
   "source": [
    "### 1. Import the libraries"
   ]
  },
  {
   "cell_type": "code",
   "execution_count": null,
   "id": "3422a652",
   "metadata": {},
   "outputs": [],
   "source": [
    "import pandas as pd\n",
    "import sqlite3 \n",
    "import seaborn as sns\n",
    "import matplotlib.pyplot as plt\n",
    "import matplotlib.ticker as ticker\n",
    "import numpy as np\n",
    "from matplotlib.ticker import StrMethodFormatter\n",
    "%matplotlib inline"
   ]
  },
  {
   "cell_type": "markdown",
   "id": "9ce85e9b",
   "metadata": {},
   "source": [
    "### 2. Install Python-sql extension and Connect to SQLite"
   ]
  },
  {
   "cell_type": "code",
   "execution_count": null,
   "id": "1094c748",
   "metadata": {},
   "outputs": [],
   "source": [
    "!pip3 install ipython-sql\n",
    "\n",
    "cnn = sqlite3.connect('farm.db')\n",
    "\n",
    "%load_ext sql\n",
    "\n",
    "%sql sqlite:///farm.db"
   ]
  },
  {
   "cell_type": "markdown",
   "id": "65de657c",
   "metadata": {},
   "source": [
    "### 3. Read the cheese_production CSV file and write it to the SQL database"
   ]
  },
  {
   "cell_type": "code",
   "execution_count": null,
   "id": "46129a87",
   "metadata": {},
   "outputs": [],
   "source": [
    "cheese_production=pd.read_csv('cheese_production.csv')"
   ]
  },
  {
   "cell_type": "code",
   "execution_count": null,
   "id": "6914b6e9",
   "metadata": {},
   "outputs": [],
   "source": [
    "cheese_production.to_sql('cheese_production',\n",
    "                         cnn,\n",
    "                        if_exists= 'replace')"
   ]
  },
  {
   "cell_type": "markdown",
   "id": "6cfeed28",
   "metadata": {},
   "source": [
    "### 4. Verify SQL magic is Functioning and Load Data as a DataFrame"
   ]
  },
  {
   "cell_type": "code",
   "execution_count": null,
   "id": "658244fb",
   "metadata": {},
   "outputs": [],
   "source": [
    "%%sql\n",
    "\n",
    "Select *\n",
    "From cheese_production\n",
    "limit 5"
   ]
  },
  {
   "cell_type": "code",
   "execution_count": null,
   "id": "3e230dd3",
   "metadata": {},
   "outputs": [],
   "source": [
    "result = %sql Select * From cheese_production\n",
    "\n",
    "cheese_production = result.DataFrame()\n",
    "\n",
    "cheese_production.head()"
   ]
  },
  {
   "cell_type": "markdown",
   "id": "54158801",
   "metadata": {},
   "source": [
    "### 5. Check Data Type and Number of Non-Null rows. "
   ]
  },
  {
   "cell_type": "code",
   "execution_count": null,
   "id": "381c0969",
   "metadata": {},
   "outputs": [],
   "source": [
    "cheese_production.info()"
   ]
  },
  {
   "cell_type": "markdown",
   "id": "fb6529eb",
   "metadata": {},
   "source": [
    "### 6. Check for Unique Values in each column, and Identify Duplicate Rows"
   ]
  },
  {
   "cell_type": "code",
   "execution_count": null,
   "id": "8345240c",
   "metadata": {},
   "outputs": [],
   "source": [
    "#Note we have 13 Periods instead of 12\n",
    "cheese_production.nunique()"
   ]
  },
  {
   "cell_type": "code",
   "execution_count": null,
   "id": "6e344b56",
   "metadata": {},
   "outputs": [],
   "source": [
    "cheese_production[cheese_production.duplicated()]"
   ]
  },
  {
   "cell_type": "markdown",
   "id": "6fd889e2",
   "metadata": {},
   "source": [
    "### 7. Confirm Null Counts"
   ]
  },
  {
   "cell_type": "code",
   "execution_count": null,
   "id": "471e3562",
   "metadata": {},
   "outputs": [],
   "source": [
    "cheese_production.isna().sum()"
   ]
  },
  {
   "cell_type": "markdown",
   "id": "880bda75",
   "metadata": {},
   "source": [
    "### 8. Generate a Statistical Summary of the Data."
   ]
  },
  {
   "cell_type": "code",
   "execution_count": null,
   "id": "2ac8f15a",
   "metadata": {},
   "outputs": [],
   "source": [
    "cheese_production.describe().T"
   ]
  },
  {
   "cell_type": "markdown",
   "id": "a29c7087",
   "metadata": {},
   "source": [
    "### 9. Convert the Value Column to Numeric, Remove commas, and Handle Errors."
   ]
  },
  {
   "cell_type": "code",
   "execution_count": null,
   "id": "9c855bf4",
   "metadata": {},
   "outputs": [],
   "source": [
    "cheese_production['Value']= pd.to_numeric(cheese_production['Value'].str.replace(',',''), errors = 'coerce')"
   ]
  },
  {
   "cell_type": "code",
   "execution_count": null,
   "id": "da60e32f",
   "metadata": {},
   "outputs": [],
   "source": [
    "cheese_production.head()"
   ]
  },
  {
   "cell_type": "code",
   "execution_count": null,
   "id": "345b64a6",
   "metadata": {},
   "outputs": [],
   "source": [
    "cheese_production.describe().T"
   ]
  },
  {
   "cell_type": "markdown",
   "id": "59a87c15",
   "metadata": {},
   "source": [
    "### 10. Display Scientific Notation in a Numeric Output"
   ]
  },
  {
   "cell_type": "code",
   "execution_count": null,
   "id": "d00a5102",
   "metadata": {},
   "outputs": [],
   "source": [
    "pd.set_option('display.float_format', '{:,.0f}'.format)\n",
    "\n",
    "cheese_production.describe().T"
   ]
  },
  {
   "cell_type": "code",
   "execution_count": null,
   "id": "83942959",
   "metadata": {},
   "outputs": [],
   "source": [
    "cheese_production.to_sql('cheese_production', cnn, index=False, if_exists='replace')"
   ]
  },
  {
   "cell_type": "markdown",
   "id": "f2258713",
   "metadata": {},
   "source": [
    "### 11. Use the SQL Queries to Verify Max and Average Values."
   ]
  },
  {
   "cell_type": "code",
   "execution_count": null,
   "id": "f72ce59d",
   "metadata": {},
   "outputs": [],
   "source": [
    "%%sql\n",
    "\n",
    "Select Max(value) \n",
    "From cheese_production"
   ]
  },
  {
   "cell_type": "code",
   "execution_count": null,
   "id": "1952a68c",
   "metadata": {},
   "outputs": [],
   "source": [
    "%%sql\n",
    "\n",
    "Select AVG(value) \n",
    "From cheese_production"
   ]
  },
  {
   "cell_type": "markdown",
   "id": "3091bdc2",
   "metadata": {},
   "source": [
    "### 12. Create a Histogram and Box Plot to Identify Outliers. "
   ]
  },
  {
   "cell_type": "code",
   "execution_count": null,
   "id": "3b22fd24",
   "metadata": {},
   "outputs": [],
   "source": [
    "hi = cheese_production.hist(figsize=(20, 20), rwidth=0.95)\n",
    "\n",
    "# Apply formatting to all axes\n",
    "for a in hi.flatten():\n",
    "    a.tick_params(axis='x', rotation=5)\n",
    "    a.ticklabel_format(style='plain', axis='x')  # Prevent scientific notation\n",
    "    a.xaxis.set_major_formatter(ticker.FuncFormatter(lambda x, _: f'{x:,.0f}'))\n",
    "    a.yaxis.set_major_formatter(ticker.FuncFormatter(lambda y, _: f'{y:,.0f}'))\n",
    "\n",
    "plt.tight_layout()\n",
    "plt.show()"
   ]
  },
  {
   "cell_type": "markdown",
   "id": "132428b2",
   "metadata": {},
   "source": [
    "### 13. Sort Data by Value to Verify Distribution."
   ]
  },
  {
   "cell_type": "code",
   "execution_count": null,
   "id": "d3dffcce",
   "metadata": {
    "scrolled": true
   },
   "outputs": [],
   "source": [
    "cheese_production[['Value', 'State_ANSI', 'Year']].sort_values(by='Value', ascending=False)"
   ]
  },
  {
   "cell_type": "code",
   "execution_count": null,
   "id": "c8cfb8a0",
   "metadata": {},
   "outputs": [],
   "source": [
    "cheese_production.boxplot('Value')"
   ]
  },
  {
   "cell_type": "markdown",
   "id": "85f27707",
   "metadata": {},
   "source": [
    "### 14. Use PRAGMA to Check Column Data Type in SQLite query "
   ]
  },
  {
   "cell_type": "code",
   "execution_count": null,
   "id": "79309163",
   "metadata": {},
   "outputs": [],
   "source": [
    "%%sql\n",
    "\n",
    "PRAGMA table_info(cheese_production);"
   ]
  },
  {
   "cell_type": "markdown",
   "id": "5f9db4b6",
   "metadata": {},
   "source": [
    "### 15. MODIFY SQL Table: Remove Commas, Duplicate \"Value\" Column as Int Column "
   ]
  },
  {
   "cell_type": "code",
   "execution_count": null,
   "id": "da851557",
   "metadata": {},
   "outputs": [],
   "source": [
    "%%sql\n",
    "\n",
    "UPDATE cheese_production \n",
    "SET value = REPLACE(value, ',', '')"
   ]
  },
  {
   "cell_type": "code",
   "execution_count": null,
   "id": "ba8afa0f",
   "metadata": {},
   "outputs": [],
   "source": [
    "%%sql\n",
    "\n",
    "ALTER TABLE cheese_production\n",
    "ADD Value2 int(32)"
   ]
  },
  {
   "cell_type": "code",
   "execution_count": null,
   "id": "8fdce3df",
   "metadata": {},
   "outputs": [],
   "source": [
    "%%sql\n",
    "\n",
    "Update cheese_production\n",
    "SET Value2 = Value"
   ]
  },
  {
   "cell_type": "code",
   "execution_count": null,
   "id": "e0d5c0d6",
   "metadata": {},
   "outputs": [],
   "source": [
    "%%sql\n",
    "\n",
    "ALTER TABLE cheese_production\n",
    "DROP COLUMN Value"
   ]
  },
  {
   "cell_type": "code",
   "execution_count": null,
   "id": "b3afec9c",
   "metadata": {},
   "outputs": [],
   "source": [
    "%%sql\n",
    "\n",
    "Select *\n",
    "From cheese_production\n",
    "limit 5"
   ]
  },
  {
   "cell_type": "code",
   "execution_count": null,
   "id": "d565a8b7",
   "metadata": {},
   "outputs": [],
   "source": [
    "#Note Sqlite doesn't offer a single command code that will rename columns and changing the data type"
   ]
  },
  {
   "cell_type": "markdown",
   "id": "97c8932b",
   "metadata": {},
   "source": [
    "### 16. Confirm Null Values in the Value Column"
   ]
  },
  {
   "cell_type": "code",
   "execution_count": null,
   "id": "2a1d3959",
   "metadata": {},
   "outputs": [],
   "source": [
    "%%sql\n",
    "\n",
    "Select State_ANSI, Value2\n",
    "From cheese_production\n",
    "Where Value2 is null"
   ]
  },
  {
   "cell_type": "markdown",
   "id": "bfb3d039",
   "metadata": {},
   "source": [
    "## Coffee Production"
   ]
  },
  {
   "cell_type": "markdown",
   "id": "5787f198",
   "metadata": {},
   "source": [
    "### 1. Read the coffee_production CSV file and Write it to the SQL database"
   ]
  },
  {
   "cell_type": "code",
   "execution_count": null,
   "id": "d67373c2",
   "metadata": {},
   "outputs": [],
   "source": [
    "coffee_production=pd.read_csv('coffee_production.csv')"
   ]
  },
  {
   "cell_type": "markdown",
   "id": "0fb9163f",
   "metadata": {},
   "source": [
    "### 2. Verify SQL magic is Functioning and Load Data as a DataFrame"
   ]
  },
  {
   "cell_type": "code",
   "execution_count": null,
   "id": "4542c086",
   "metadata": {},
   "outputs": [],
   "source": [
    "coffee_production.to_sql('coffee_production',\n",
    "                         cnn,\n",
    "                        if_exists= 'replace')"
   ]
  },
  {
   "cell_type": "code",
   "execution_count": null,
   "id": "e9f70033",
   "metadata": {},
   "outputs": [],
   "source": [
    "%%sql\n",
    "\n",
    "Select *\n",
    "From coffee_production\n",
    "limit 5"
   ]
  },
  {
   "cell_type": "code",
   "execution_count": null,
   "id": "a82c2834",
   "metadata": {},
   "outputs": [],
   "source": [
    "result1 = %sql Select * From coffee_production\n",
    "coffee_production = result1.DataFrame()"
   ]
  },
  {
   "cell_type": "code",
   "execution_count": null,
   "id": "5413b958",
   "metadata": {},
   "outputs": [],
   "source": [
    "coffee_production.head()"
   ]
  },
  {
   "cell_type": "markdown",
   "id": "89f76b11",
   "metadata": {},
   "source": [
    "### 3. Check Data Type and Number of Non-Null rows. "
   ]
  },
  {
   "cell_type": "code",
   "execution_count": null,
   "id": "5990fb43",
   "metadata": {},
   "outputs": [],
   "source": [
    "coffee_production.info()"
   ]
  },
  {
   "cell_type": "markdown",
   "id": "9ffeb454",
   "metadata": {},
   "source": [
    "### 4. Check for Unique Values in each column, and Identify Duplicate Rows"
   ]
  },
  {
   "cell_type": "code",
   "execution_count": null,
   "id": "5a4f268d",
   "metadata": {},
   "outputs": [],
   "source": [
    "coffee_production.nunique()"
   ]
  },
  {
   "cell_type": "code",
   "execution_count": null,
   "id": "d8f8ccfb",
   "metadata": {},
   "outputs": [],
   "source": [
    "coffee_production[coffee_production.duplicated()]"
   ]
  },
  {
   "cell_type": "markdown",
   "id": "38a540b8",
   "metadata": {},
   "source": [
    "### 5. Confirm Null Counts"
   ]
  },
  {
   "cell_type": "code",
   "execution_count": null,
   "id": "550bd406",
   "metadata": {},
   "outputs": [],
   "source": [
    "coffee_production.isna().sum()"
   ]
  },
  {
   "cell_type": "markdown",
   "id": "f1c189f3",
   "metadata": {},
   "source": [
    "### 6. Generate a Statistical Summary of the Data."
   ]
  },
  {
   "cell_type": "code",
   "execution_count": null,
   "id": "a54628f6",
   "metadata": {},
   "outputs": [],
   "source": [
    "coffee_production.describe().T"
   ]
  },
  {
   "cell_type": "markdown",
   "id": "368795d9",
   "metadata": {},
   "source": [
    "### 7. Convert the Value Column to Numeric, Remove commas, and Handle Errors."
   ]
  },
  {
   "cell_type": "code",
   "execution_count": null,
   "id": "c43b4aaa",
   "metadata": {},
   "outputs": [],
   "source": [
    "coffee_production['Value']= pd.to_numeric(coffee_production['Value'].str.replace(',',''), errors = 'coerce')"
   ]
  },
  {
   "cell_type": "code",
   "execution_count": null,
   "id": "b706f88b",
   "metadata": {},
   "outputs": [],
   "source": [
    "coffee_production.head()"
   ]
  },
  {
   "cell_type": "code",
   "execution_count": null,
   "id": "5024e743",
   "metadata": {},
   "outputs": [],
   "source": [
    "#The describe method confirms 15 as the only State_ANSI to produce coffee.\n",
    "coffee_production.describe().T"
   ]
  },
  {
   "cell_type": "code",
   "execution_count": null,
   "id": "48cb8741",
   "metadata": {},
   "outputs": [],
   "source": [
    "coffee_production.to_sql('coffee_production', cnn, index=False, if_exists='replace')"
   ]
  },
  {
   "cell_type": "markdown",
   "id": "afdb3ef1",
   "metadata": {},
   "source": [
    "### 8. Use the SQL Queries to Verify Max and Average Values."
   ]
  },
  {
   "cell_type": "code",
   "execution_count": null,
   "id": "c2ef1551",
   "metadata": {},
   "outputs": [],
   "source": [
    "%%sql\n",
    "\n",
    "Select Max(Value)\n",
    "From coffee_production"
   ]
  },
  {
   "cell_type": "code",
   "execution_count": null,
   "id": "fb221166",
   "metadata": {},
   "outputs": [],
   "source": [
    "%%sql\n",
    "\n",
    "Select AVG(Value)\n",
    "From coffee_production"
   ]
  },
  {
   "cell_type": "markdown",
   "id": "5f981521",
   "metadata": {},
   "source": [
    "### 9. Create a Histogram and Box Plot to Identify Outliers. "
   ]
  },
  {
   "cell_type": "code",
   "execution_count": null,
   "id": "393590c6",
   "metadata": {},
   "outputs": [],
   "source": [
    "his = coffee_production.hist(figsize=(20, 20), rwidth=0.95)\n",
    "\n",
    "# Apply formatting to all axes\n",
    "for a in his.flatten():\n",
    "    a.tick_params(axis='x', rotation=5)\n",
    "    a.ticklabel_format(style='plain', axis='x')  # Prevent scientific notation\n",
    "    a.xaxis.set_major_formatter(ticker.FuncFormatter(lambda x, _: f'{x:,.0f}'))\n",
    "    a.yaxis.set_major_formatter(ticker.FuncFormatter(lambda y, _: f'{y:,.0f}'))\n",
    "\n",
    "plt.tight_layout()\n",
    "plt.show()"
   ]
  },
  {
   "cell_type": "markdown",
   "id": "0472bff6",
   "metadata": {},
   "source": [
    "### 10. Sort Data by Value to Verify Distribution."
   ]
  },
  {
   "cell_type": "code",
   "execution_count": null,
   "id": "1a1ae0da",
   "metadata": {},
   "outputs": [],
   "source": [
    "coffee_production[['Value', 'State_ANSI', 'Year']].sort_values(by='Value', ascending=False)"
   ]
  },
  {
   "cell_type": "code",
   "execution_count": null,
   "id": "275dfa11",
   "metadata": {},
   "outputs": [],
   "source": [
    "coffee_production.boxplot('Value')"
   ]
  },
  {
   "cell_type": "markdown",
   "id": "fb2f13ea",
   "metadata": {},
   "source": [
    "### 11.Use PRAGMA to Check Column Data Type in SQLite query "
   ]
  },
  {
   "cell_type": "code",
   "execution_count": null,
   "id": "6773a5a1",
   "metadata": {},
   "outputs": [],
   "source": [
    "%%sql\n",
    "\n",
    "PRAGMA table_info(coffee_production);"
   ]
  },
  {
   "cell_type": "markdown",
   "id": "49b719a2",
   "metadata": {},
   "source": [
    "### 12. Confirm Null Values in the Value Column"
   ]
  },
  {
   "cell_type": "code",
   "execution_count": null,
   "id": "df3e6823",
   "metadata": {
    "scrolled": true
   },
   "outputs": [],
   "source": [
    "%%sql\n",
    "\n",
    "Select *\n",
    "From coffee_production\n",
    "WHERE Value is null"
   ]
  },
  {
   "cell_type": "markdown",
   "id": "d54ac026",
   "metadata": {},
   "source": [
    "## Egg Production"
   ]
  },
  {
   "cell_type": "markdown",
   "id": "4502d90d",
   "metadata": {},
   "source": [
    "### 1. Read the egg_production CSV File and Write it to the SQL database"
   ]
  },
  {
   "cell_type": "code",
   "execution_count": null,
   "id": "f19354b6",
   "metadata": {},
   "outputs": [],
   "source": [
    "egg_production=pd.read_csv('egg_production.csv')"
   ]
  },
  {
   "cell_type": "code",
   "execution_count": null,
   "id": "58405b19",
   "metadata": {},
   "outputs": [],
   "source": [
    "egg_production.to_sql('egg_production',\n",
    "                         cnn,\n",
    "                        if_exists= 'replace')"
   ]
  },
  {
   "cell_type": "markdown",
   "id": "b61a24cd",
   "metadata": {},
   "source": [
    "### 2. Verify SQL magic is Functioning and Load Data as a DataFrame"
   ]
  },
  {
   "cell_type": "code",
   "execution_count": null,
   "id": "dc0b5419",
   "metadata": {},
   "outputs": [],
   "source": [
    "%%sql \n",
    "\n",
    "Select * \n",
    "\n",
    "From egg_production\n",
    "limit 5"
   ]
  },
  {
   "cell_type": "markdown",
   "id": "d4343e11",
   "metadata": {},
   "source": [
    "### 3. Verify SQL magic is Functioning and Load Data as a DataFrame\n"
   ]
  },
  {
   "cell_type": "code",
   "execution_count": null,
   "id": "91b69630",
   "metadata": {},
   "outputs": [],
   "source": [
    "result2 = %sql Select * From egg_production\n",
    "egg_production = result2.DataFrame()"
   ]
  },
  {
   "cell_type": "code",
   "execution_count": null,
   "id": "38a12da3",
   "metadata": {},
   "outputs": [],
   "source": [
    "egg_production.head()"
   ]
  },
  {
   "cell_type": "markdown",
   "id": "1fe510f7",
   "metadata": {},
   "source": [
    "### 4. Check Data Type and Number of Non-Null rows. "
   ]
  },
  {
   "cell_type": "code",
   "execution_count": null,
   "id": "5121f08b",
   "metadata": {},
   "outputs": [],
   "source": [
    "egg_production.info()"
   ]
  },
  {
   "cell_type": "markdown",
   "id": "47c9abcb",
   "metadata": {},
   "source": [
    "### 5. Check for Unique Values in each column, and Identify Duplicate Rows"
   ]
  },
  {
   "cell_type": "code",
   "execution_count": null,
   "id": "79a00d62",
   "metadata": {},
   "outputs": [],
   "source": [
    "egg_production.nunique()"
   ]
  },
  {
   "cell_type": "code",
   "execution_count": null,
   "id": "62625f7e",
   "metadata": {},
   "outputs": [],
   "source": [
    "egg_production[egg_production.duplicated()]"
   ]
  },
  {
   "cell_type": "markdown",
   "id": "3a0e0b7d",
   "metadata": {},
   "source": [
    "### 6. Confirm Null Counts"
   ]
  },
  {
   "cell_type": "code",
   "execution_count": null,
   "id": "cefc4c76",
   "metadata": {},
   "outputs": [],
   "source": [
    "egg_production.isna().sum()"
   ]
  },
  {
   "cell_type": "markdown",
   "id": "cd4c3fd7",
   "metadata": {},
   "source": [
    "### 7. Generate a Statistical Summary of the Data."
   ]
  },
  {
   "cell_type": "code",
   "execution_count": null,
   "id": "1096d24d",
   "metadata": {},
   "outputs": [],
   "source": [
    "egg_production.describe().T"
   ]
  },
  {
   "cell_type": "markdown",
   "id": "ee632f23",
   "metadata": {},
   "source": [
    "### 8. Convert the Value Column to Numeric, Remove commas, and Handle Errors."
   ]
  },
  {
   "cell_type": "code",
   "execution_count": null,
   "id": "2836dd21",
   "metadata": {},
   "outputs": [],
   "source": [
    "egg_production['Value']= pd.to_numeric(egg_production['Value'].str.replace(',',''), errors = 'coerce')"
   ]
  },
  {
   "cell_type": "code",
   "execution_count": null,
   "id": "951d8a23",
   "metadata": {},
   "outputs": [],
   "source": [
    "egg_production.head()"
   ]
  },
  {
   "cell_type": "code",
   "execution_count": null,
   "id": "af16169d",
   "metadata": {},
   "outputs": [],
   "source": [
    "egg_production.describe().T"
   ]
  },
  {
   "cell_type": "markdown",
   "id": "a0664c7c",
   "metadata": {},
   "source": [
    "### 9. Use the SQL Queries to Verify Max and Average Values."
   ]
  },
  {
   "cell_type": "code",
   "execution_count": null,
   "id": "8c157918",
   "metadata": {},
   "outputs": [],
   "source": [
    "%%sql\n",
    "\n",
    "Select Max(Value)\n",
    "From egg_production"
   ]
  },
  {
   "cell_type": "code",
   "execution_count": null,
   "id": "7593fbf9",
   "metadata": {},
   "outputs": [],
   "source": [
    "%%sql\n",
    "\n",
    "Select AVG(Value)\n",
    "From egg_production"
   ]
  },
  {
   "cell_type": "code",
   "execution_count": null,
   "id": "0fbb7c1c",
   "metadata": {},
   "outputs": [],
   "source": [
    "egg_production.to_sql('egg_production', cnn, index=False, if_exists='replace')"
   ]
  },
  {
   "cell_type": "markdown",
   "id": "66acd92d",
   "metadata": {},
   "source": [
    "### 10. Create a Histogram and Box Plot to Identify Outliers. "
   ]
  },
  {
   "cell_type": "code",
   "execution_count": null,
   "id": "ae593a23",
   "metadata": {},
   "outputs": [],
   "source": [
    "hist = egg_production.hist(figsize=(20, 20), rwidth=0.95)\n",
    "\n",
    "# Apply formatting to all axes\n",
    "for a in hist.flatten():\n",
    "    a.tick_params(axis='x', rotation=5)\n",
    "    a.ticklabel_format(style='plain', axis='x')  # Prevent scientific notation\n",
    "    a.xaxis.set_major_formatter(ticker.FuncFormatter(lambda x, _: f'{x:,.0f}'))\n",
    "    a.yaxis.set_major_formatter(ticker.FuncFormatter(lambda y, _: f'{y:,.0f}'))\n",
    "\n",
    "plt.tight_layout()\n",
    "plt.show()"
   ]
  },
  {
   "cell_type": "markdown",
   "id": "fca1a958",
   "metadata": {},
   "source": [
    "### 11. Sort Data by Value to Verify Distribution."
   ]
  },
  {
   "cell_type": "code",
   "execution_count": null,
   "id": "a1e2838d",
   "metadata": {},
   "outputs": [],
   "source": [
    "egg_production[['Value', 'State_ANSI', 'Year']].sort_values(by='Value', ascending=False)"
   ]
  },
  {
   "cell_type": "code",
   "execution_count": null,
   "id": "dfe31fee",
   "metadata": {},
   "outputs": [],
   "source": [
    "egg_production.boxplot('Value')"
   ]
  },
  {
   "cell_type": "markdown",
   "id": "2d459f39",
   "metadata": {},
   "source": [
    "### 12. Use PRAGMA to Check Column Data Type in SQLite query "
   ]
  },
  {
   "cell_type": "code",
   "execution_count": null,
   "id": "d5af6cb7",
   "metadata": {},
   "outputs": [],
   "source": [
    "%%sql\n",
    "\n",
    "PRAGMA table_info(egg_production);"
   ]
  },
  {
   "cell_type": "markdown",
   "id": "06fac94b",
   "metadata": {},
   "source": [
    "### 13. Confirm Null Values in the Value Column"
   ]
  },
  {
   "cell_type": "code",
   "execution_count": null,
   "id": "4f8e0fd0",
   "metadata": {},
   "outputs": [],
   "source": [
    "%%sql\n",
    "\n",
    "Select Period, Year, State_ANSI, Value\n",
    "From egg_production\n",
    "Where Value is null"
   ]
  },
  {
   "cell_type": "markdown",
   "id": "cfe50fde",
   "metadata": {},
   "source": [
    "## Honey Production"
   ]
  },
  {
   "cell_type": "markdown",
   "id": "0b8b05a4",
   "metadata": {},
   "source": [
    "### 1. Read the honey_production CSV file and write it to the SQL database"
   ]
  },
  {
   "cell_type": "code",
   "execution_count": null,
   "id": "11a40d3f",
   "metadata": {},
   "outputs": [],
   "source": [
    "honey_production=pd.read_csv('honey_production.csv')"
   ]
  },
  {
   "cell_type": "code",
   "execution_count": null,
   "id": "d5dbeb37",
   "metadata": {},
   "outputs": [],
   "source": [
    "honey_production.to_sql('honey_production',\n",
    "                         cnn,\n",
    "                        if_exists= 'replace')"
   ]
  },
  {
   "cell_type": "markdown",
   "id": "f969014b",
   "metadata": {},
   "source": [
    "### 2. Verify SQL magic is Functioning and Load Data as a DataFrame"
   ]
  },
  {
   "cell_type": "code",
   "execution_count": null,
   "id": "5a813c93",
   "metadata": {},
   "outputs": [],
   "source": [
    "%%sql \n",
    "\n",
    "Select * \n",
    "From honey_production\n",
    "limit 5"
   ]
  },
  {
   "cell_type": "code",
   "execution_count": null,
   "id": "04e5961e",
   "metadata": {},
   "outputs": [],
   "source": [
    "result3 = %sql Select * From honey_production\n",
    "honey_production = result3.DataFrame()\n"
   ]
  },
  {
   "cell_type": "code",
   "execution_count": null,
   "id": "4ae29ebb",
   "metadata": {},
   "outputs": [],
   "source": [
    "honey_production.head()"
   ]
  },
  {
   "cell_type": "markdown",
   "id": "6fe7721a",
   "metadata": {},
   "source": [
    "### 3. Check Data Type and Number of Non-Null rows. "
   ]
  },
  {
   "cell_type": "code",
   "execution_count": null,
   "id": "12286f4f",
   "metadata": {},
   "outputs": [],
   "source": [
    "honey_production.info()"
   ]
  },
  {
   "cell_type": "markdown",
   "id": "30b471b6",
   "metadata": {},
   "source": [
    "### 4. Check for Unique Values in each column, and Identify Duplicate Rows"
   ]
  },
  {
   "cell_type": "code",
   "execution_count": null,
   "id": "33a50ca3",
   "metadata": {},
   "outputs": [],
   "source": [
    "honey_production.nunique()"
   ]
  },
  {
   "cell_type": "code",
   "execution_count": null,
   "id": "a4b808b1",
   "metadata": {},
   "outputs": [],
   "source": [
    "honey_production[honey_production.duplicated()]"
   ]
  },
  {
   "cell_type": "markdown",
   "id": "1441714d",
   "metadata": {},
   "source": [
    "### 5. Confirm Null Counts"
   ]
  },
  {
   "cell_type": "code",
   "execution_count": null,
   "id": "bb18e2a3",
   "metadata": {},
   "outputs": [],
   "source": [
    "honey_production.isna().sum()"
   ]
  },
  {
   "cell_type": "markdown",
   "id": "1f374807",
   "metadata": {},
   "source": [
    "### 6. Generate a Statistical Summary of the Data."
   ]
  },
  {
   "cell_type": "code",
   "execution_count": null,
   "id": "29221bed",
   "metadata": {},
   "outputs": [],
   "source": [
    "honey_production.describe().T"
   ]
  },
  {
   "cell_type": "markdown",
   "id": "ba66f585",
   "metadata": {},
   "source": [
    "### 7. Convert the Value Column to Numeric, Remove commas, and Handle Errors."
   ]
  },
  {
   "cell_type": "code",
   "execution_count": null,
   "id": "ed2a7d26",
   "metadata": {},
   "outputs": [],
   "source": [
    "honey_production['Value']= pd.to_numeric(honey_production['Value'].str.replace(',',''), errors = 'coerce')"
   ]
  },
  {
   "cell_type": "code",
   "execution_count": null,
   "id": "9009f6b7",
   "metadata": {},
   "outputs": [],
   "source": [
    "honey_production.head()"
   ]
  },
  {
   "cell_type": "code",
   "execution_count": null,
   "id": "a07c5184",
   "metadata": {},
   "outputs": [],
   "source": [
    "honey_production.describe().T"
   ]
  },
  {
   "cell_type": "code",
   "execution_count": null,
   "id": "9bfe1f60",
   "metadata": {},
   "outputs": [],
   "source": [
    "honey_production.to_sql('honey_production', cnn, index=False, if_exists='replace')"
   ]
  },
  {
   "cell_type": "markdown",
   "id": "bad39768",
   "metadata": {},
   "source": [
    "### 8. Use the SQL Queries to Verify Max and Average Values."
   ]
  },
  {
   "cell_type": "code",
   "execution_count": null,
   "id": "9eb5004d",
   "metadata": {},
   "outputs": [],
   "source": [
    "%%sql\n",
    "\n",
    "Select Max(Value)\n",
    "From honey_production"
   ]
  },
  {
   "cell_type": "code",
   "execution_count": null,
   "id": "e2bcc4ab",
   "metadata": {},
   "outputs": [],
   "source": [
    "%%sql\n",
    "\n",
    "Select AVG(Value)\n",
    "From honey_production"
   ]
  },
  {
   "cell_type": "markdown",
   "id": "777f9b4a",
   "metadata": {},
   "source": [
    "### 9. Create a Histogram and Box Plot to Identify Outliers. "
   ]
  },
  {
   "cell_type": "code",
   "execution_count": null,
   "id": "1c8c6636",
   "metadata": {},
   "outputs": [],
   "source": [
    "histo = honey_production.hist(figsize=(20, 20), rwidth=0.95)\n",
    "\n",
    "# Apply formatting to all axes\n",
    "for a in histo.flatten():\n",
    "    a.tick_params(axis='x', rotation=5)\n",
    "    a.ticklabel_format(style='plain', axis='x')  # Prevent scientific notation\n",
    "    a.xaxis.set_major_formatter(ticker.FuncFormatter(lambda x, _: f'{x:,.0f}'))\n",
    "    a.yaxis.set_major_formatter(ticker.FuncFormatter(lambda y, _: f'{y:,.0f}'))\n",
    "\n",
    "plt.tight_layout()\n",
    "plt.show()"
   ]
  },
  {
   "cell_type": "markdown",
   "id": "631c361f",
   "metadata": {},
   "source": [
    "### 10.  Sort Data by Value to Verify Distribution."
   ]
  },
  {
   "cell_type": "code",
   "execution_count": null,
   "id": "53f71af5",
   "metadata": {},
   "outputs": [],
   "source": [
    "honey_production[['Value', 'State_ANSI', 'Year']].sort_values(by='Value', ascending=False)"
   ]
  },
  {
   "cell_type": "code",
   "execution_count": null,
   "id": "eb21429a",
   "metadata": {},
   "outputs": [],
   "source": [
    "honey_production.boxplot('Value')"
   ]
  },
  {
   "cell_type": "markdown",
   "id": "e7689a1f",
   "metadata": {},
   "source": [
    "### 11. Use PRAGMA to Check Column Data Type in SQLite query "
   ]
  },
  {
   "cell_type": "code",
   "execution_count": null,
   "id": "96c9f29f",
   "metadata": {},
   "outputs": [],
   "source": [
    "%%sql\n",
    "\n",
    "PRAGMA table_info(honey_production);"
   ]
  },
  {
   "cell_type": "markdown",
   "id": "daa2e8ca",
   "metadata": {},
   "source": [
    "### 12. Confirm Null Values in the Value Column"
   ]
  },
  {
   "cell_type": "code",
   "execution_count": null,
   "id": "210e51aa",
   "metadata": {},
   "outputs": [],
   "source": [
    "%%sql\n",
    "\n",
    "Select \n",
    "    Year, State_ANSI, Value\n",
    "From honey_production\n",
    "Where Value is null"
   ]
  },
  {
   "cell_type": "markdown",
   "id": "62094f00",
   "metadata": {},
   "source": [
    "## Milk Production"
   ]
  },
  {
   "cell_type": "markdown",
   "id": "1782edc4",
   "metadata": {},
   "source": [
    "### 1. Read the milk_production CSV file and Write it to the SQL database"
   ]
  },
  {
   "cell_type": "code",
   "execution_count": null,
   "id": "1ca8d8b0",
   "metadata": {},
   "outputs": [],
   "source": [
    "milk_production=pd.read_csv('milk_production.csv')"
   ]
  },
  {
   "cell_type": "code",
   "execution_count": null,
   "id": "f496e767",
   "metadata": {},
   "outputs": [],
   "source": [
    "milk_production.to_sql('milk_production',\n",
    "                         cnn,\n",
    "                        if_exists= 'replace')"
   ]
  },
  {
   "cell_type": "markdown",
   "id": "88437e69",
   "metadata": {},
   "source": [
    "### 2. Verify SQL magic is Functioning and Load Data as a DataFrame"
   ]
  },
  {
   "cell_type": "code",
   "execution_count": null,
   "id": "9738b514",
   "metadata": {},
   "outputs": [],
   "source": [
    "%%sql \n",
    "\n",
    "Select * \n",
    "\n",
    "From milk_production\n",
    "limit 5"
   ]
  },
  {
   "cell_type": "code",
   "execution_count": null,
   "id": "8fc90d8a",
   "metadata": {},
   "outputs": [],
   "source": [
    "result4 = %sql Select * From milk_production\n",
    "milk_production = result4.DataFrame()"
   ]
  },
  {
   "cell_type": "code",
   "execution_count": null,
   "id": "c1c6b4bc",
   "metadata": {},
   "outputs": [],
   "source": [
    "milk_production.head()"
   ]
  },
  {
   "cell_type": "markdown",
   "id": "3635fb30",
   "metadata": {},
   "source": [
    "### 3. Check Data Type and Number of Non-Null rows. "
   ]
  },
  {
   "cell_type": "code",
   "execution_count": null,
   "id": "5eebc9eb",
   "metadata": {},
   "outputs": [],
   "source": [
    "milk_production.info()"
   ]
  },
  {
   "cell_type": "markdown",
   "id": "bb15cc06",
   "metadata": {},
   "source": [
    "### 4. Check for Unique Values in each column, and Identify Duplicate Rows"
   ]
  },
  {
   "cell_type": "code",
   "execution_count": null,
   "id": "9ffba3d7",
   "metadata": {},
   "outputs": [],
   "source": [
    "milk_production.nunique()"
   ]
  },
  {
   "cell_type": "code",
   "execution_count": null,
   "id": "b91b91ee",
   "metadata": {},
   "outputs": [],
   "source": [
    "milk_production[milk_production.duplicated()]"
   ]
  },
  {
   "cell_type": "markdown",
   "id": "299eee63",
   "metadata": {},
   "source": [
    "### 5. Confirm Null Counts"
   ]
  },
  {
   "cell_type": "code",
   "execution_count": null,
   "id": "d22c69f2",
   "metadata": {},
   "outputs": [],
   "source": [
    "milk_production.isna().sum()"
   ]
  },
  {
   "cell_type": "markdown",
   "id": "0712405b",
   "metadata": {},
   "source": [
    "### 6. Generate a Statistical Summary of the Data."
   ]
  },
  {
   "cell_type": "code",
   "execution_count": null,
   "id": "ebd4ca6a",
   "metadata": {},
   "outputs": [],
   "source": [
    "milk_production.describe().T"
   ]
  },
  {
   "cell_type": "markdown",
   "id": "54558f59",
   "metadata": {},
   "source": [
    "### 7. Convert the Value Column to Numeric, Remove commas, and Handle Errors."
   ]
  },
  {
   "cell_type": "code",
   "execution_count": null,
   "id": "c9449466",
   "metadata": {},
   "outputs": [],
   "source": [
    "milk_production['Value']= pd.to_numeric(milk_production['Value'].str.replace(',',''), errors = 'coerce')"
   ]
  },
  {
   "cell_type": "code",
   "execution_count": null,
   "id": "4b97047a",
   "metadata": {},
   "outputs": [],
   "source": [
    "milk_production.head()"
   ]
  },
  {
   "cell_type": "code",
   "execution_count": null,
   "id": "7c332ee1",
   "metadata": {},
   "outputs": [],
   "source": [
    "milk_production.describe().T"
   ]
  },
  {
   "cell_type": "code",
   "execution_count": null,
   "id": "6e5e2b1b",
   "metadata": {},
   "outputs": [],
   "source": [
    "milk_production.to_sql('milk_production', cnn, index=False, if_exists='replace')"
   ]
  },
  {
   "cell_type": "markdown",
   "id": "0f0ddec1",
   "metadata": {},
   "source": [
    "### 8. Use the SQL Queries to Verify Max and Average Values."
   ]
  },
  {
   "cell_type": "code",
   "execution_count": null,
   "id": "47c6b824",
   "metadata": {},
   "outputs": [],
   "source": [
    "%%sql\n",
    "\n",
    "Select Max(Value)\n",
    "From milk_production"
   ]
  },
  {
   "cell_type": "code",
   "execution_count": null,
   "id": "3dac7a3b",
   "metadata": {},
   "outputs": [],
   "source": [
    "%%sql\n",
    "\n",
    "Select AVG(Value)\n",
    "From milk_production"
   ]
  },
  {
   "cell_type": "markdown",
   "id": "681cbe7e",
   "metadata": {},
   "source": [
    "### 9. Create a Histogram and Box Plot to Identify Outliers. "
   ]
  },
  {
   "cell_type": "code",
   "execution_count": null,
   "id": "1678f02d",
   "metadata": {},
   "outputs": [],
   "source": [
    "histog = milk_production.hist(figsize=(20, 20), rwidth=0.95)\n",
    "\n",
    "# Apply formatting to all axes\n",
    "for a in histog.flatten():\n",
    "    a.tick_params(axis='x', rotation=5)\n",
    "    a.ticklabel_format(style='plain', axis='x')  # Prevent scientific notation\n",
    "    a.xaxis.set_major_formatter(ticker.FuncFormatter(lambda x, _: f'{x:,.0f}'))\n",
    "    a.yaxis.set_major_formatter(ticker.FuncFormatter(lambda y, _: f'{y:,.0f}'))\n",
    "\n",
    "plt.tight_layout()\n",
    "plt.show()"
   ]
  },
  {
   "cell_type": "markdown",
   "id": "0dcdcad7",
   "metadata": {},
   "source": [
    "### 10. Sort Data by Value to Verify Distribution."
   ]
  },
  {
   "cell_type": "code",
   "execution_count": null,
   "id": "5a79ea9c",
   "metadata": {},
   "outputs": [],
   "source": [
    "milk_production[['Value', 'State_ANSI', 'Year']].sort_values(by='Value', ascending=False)"
   ]
  },
  {
   "cell_type": "code",
   "execution_count": null,
   "id": "21e6f9cb",
   "metadata": {},
   "outputs": [],
   "source": [
    "milk_production.boxplot('Value')"
   ]
  },
  {
   "cell_type": "markdown",
   "id": "1ee8861d",
   "metadata": {},
   "source": [
    "### 11. Use PRAGMA to Check Column Data Type in SQLite query "
   ]
  },
  {
   "cell_type": "code",
   "execution_count": null,
   "id": "9fee3dbc",
   "metadata": {},
   "outputs": [],
   "source": [
    "%%sql\n",
    "\n",
    "PRAGMA table_info(milk_production);"
   ]
  },
  {
   "cell_type": "markdown",
   "id": "c2cc228f",
   "metadata": {},
   "source": [
    "### 12. Confirm Null Values in the Value Column"
   ]
  },
  {
   "cell_type": "code",
   "execution_count": null,
   "id": "cefa69e6",
   "metadata": {},
   "outputs": [],
   "source": [
    "%%sql\n",
    "\n",
    "Select \n",
    "    Year, State_ANSI, Value\n",
    "From milk_production\n",
    "Where Value is null"
   ]
  },
  {
   "cell_type": "markdown",
   "id": "8ab58752",
   "metadata": {},
   "source": [
    "## State Lookup"
   ]
  },
  {
   "cell_type": "markdown",
   "id": "50fbe774",
   "metadata": {},
   "source": [
    "### 1. Read the state_lookup CSV file and write it to the SQL database"
   ]
  },
  {
   "cell_type": "code",
   "execution_count": null,
   "id": "b684f27b",
   "metadata": {},
   "outputs": [],
   "source": [
    "state_lookup=pd.read_csv('state_lookup.csv')"
   ]
  },
  {
   "cell_type": "code",
   "execution_count": null,
   "id": "e5e1862a",
   "metadata": {},
   "outputs": [],
   "source": [
    "state_lookup.to_sql('state_lookup',\n",
    "                         cnn,\n",
    "                        if_exists= 'replace')"
   ]
  },
  {
   "cell_type": "markdown",
   "id": "4e1dee3e",
   "metadata": {},
   "source": [
    "### 2. Verify SQL magic is Functioning and Load Data as a DataFrame"
   ]
  },
  {
   "cell_type": "code",
   "execution_count": null,
   "id": "323636a2",
   "metadata": {},
   "outputs": [],
   "source": [
    "%%sql \n",
    "\n",
    "Select * \n",
    "\n",
    "From state_lookup\n",
    "limit 5"
   ]
  },
  {
   "cell_type": "markdown",
   "id": "780b9ef0",
   "metadata": {},
   "source": [
    "### 3. Check for Unique Values in each column, and Identify Duplicate Rows"
   ]
  },
  {
   "cell_type": "code",
   "execution_count": null,
   "id": "314503e2",
   "metadata": {},
   "outputs": [],
   "source": [
    "state_lookup.nunique()"
   ]
  },
  {
   "cell_type": "markdown",
   "id": "31b7148c",
   "metadata": {},
   "source": [
    "### 4. Use PRAGMA to Check Column Data Type in SQLite query "
   ]
  },
  {
   "cell_type": "code",
   "execution_count": null,
   "id": "531e3bfe",
   "metadata": {},
   "outputs": [],
   "source": [
    "%%sql\n",
    "\n",
    "PRAGMA table_info(state_lookup);"
   ]
  },
  {
   "cell_type": "markdown",
   "id": "01f10a1d",
   "metadata": {},
   "source": [
    "## Yogurt Production"
   ]
  },
  {
   "cell_type": "markdown",
   "id": "29113d79",
   "metadata": {},
   "source": [
    "### 1. Read the cheese_production CSV file and write it to the SQL database"
   ]
  },
  {
   "cell_type": "code",
   "execution_count": null,
   "id": "36d7b182",
   "metadata": {},
   "outputs": [],
   "source": [
    "yogurt_production=pd.read_csv('yogurt_production.csv')"
   ]
  },
  {
   "cell_type": "code",
   "execution_count": null,
   "id": "d6cf9389",
   "metadata": {},
   "outputs": [],
   "source": [
    "yogurt_production.to_sql('yogurt_production',\n",
    "                         cnn,\n",
    "                        if_exists= 'replace')"
   ]
  },
  {
   "cell_type": "markdown",
   "id": "b6906754",
   "metadata": {},
   "source": [
    "### 2. Verify SQL magic is Functioning and Load Data as a DataFrame"
   ]
  },
  {
   "cell_type": "code",
   "execution_count": null,
   "id": "1833aa4f",
   "metadata": {},
   "outputs": [],
   "source": [
    "%%sql \n",
    "\n",
    "Select * \n",
    "\n",
    "From yogurt_production\n",
    "limit 5"
   ]
  },
  {
   "cell_type": "code",
   "execution_count": null,
   "id": "0fa01448",
   "metadata": {},
   "outputs": [],
   "source": [
    "result5 = %sql Select * From yogurt_production\n",
    "yogurt_production = result5.DataFrame()"
   ]
  },
  {
   "cell_type": "code",
   "execution_count": null,
   "id": "e7480b92",
   "metadata": {},
   "outputs": [],
   "source": [
    "yogurt_production.head()"
   ]
  },
  {
   "cell_type": "markdown",
   "id": "512232a0",
   "metadata": {},
   "source": [
    "### 3. Check Data Type and Number of Non-Null rows. "
   ]
  },
  {
   "cell_type": "code",
   "execution_count": null,
   "id": "be760bda",
   "metadata": {},
   "outputs": [],
   "source": [
    "yogurt_production.info()"
   ]
  },
  {
   "cell_type": "markdown",
   "id": "7006fe72",
   "metadata": {},
   "source": [
    "### 4. Check for Unique Values in each column, and Identify Duplicate Rows"
   ]
  },
  {
   "cell_type": "code",
   "execution_count": null,
   "id": "6b7ed657",
   "metadata": {},
   "outputs": [],
   "source": [
    "yogurt_production.nunique()"
   ]
  },
  {
   "cell_type": "code",
   "execution_count": null,
   "id": "31c566f2",
   "metadata": {},
   "outputs": [],
   "source": [
    "yogurt_production[yogurt_production.duplicated()]"
   ]
  },
  {
   "cell_type": "markdown",
   "id": "56142992",
   "metadata": {},
   "source": [
    "### 5. Confirm Null Counts"
   ]
  },
  {
   "cell_type": "code",
   "execution_count": null,
   "id": "454810f8",
   "metadata": {},
   "outputs": [],
   "source": [
    "yogurt_production.isna().sum()"
   ]
  },
  {
   "cell_type": "markdown",
   "id": "7cae3ce1",
   "metadata": {},
   "source": [
    "### 6. Generate a Statistical Summary of the Data."
   ]
  },
  {
   "cell_type": "code",
   "execution_count": null,
   "id": "91b4d40c",
   "metadata": {},
   "outputs": [],
   "source": [
    "yogurt_production.describe().T"
   ]
  },
  {
   "cell_type": "markdown",
   "id": "872350c5",
   "metadata": {},
   "source": [
    "### 7. Convert the Value Column to Numeric, Remove commas, and Handle Errors."
   ]
  },
  {
   "cell_type": "code",
   "execution_count": null,
   "id": "4c75be30",
   "metadata": {},
   "outputs": [],
   "source": [
    "yogurt_production['Value']= pd.to_numeric(yogurt_production['Value'].str.replace(',',''), errors = 'coerce')"
   ]
  },
  {
   "cell_type": "code",
   "execution_count": null,
   "id": "2c11c315",
   "metadata": {},
   "outputs": [],
   "source": [
    "yogurt_production.head()"
   ]
  },
  {
   "cell_type": "code",
   "execution_count": null,
   "id": "9c506781",
   "metadata": {},
   "outputs": [],
   "source": [
    "yogurt_production.describe().T"
   ]
  },
  {
   "cell_type": "code",
   "execution_count": null,
   "id": "949ad514",
   "metadata": {},
   "outputs": [],
   "source": [
    "yogurt_production.to_sql('yogurt_production', cnn, index=False, if_exists='replace')"
   ]
  },
  {
   "cell_type": "markdown",
   "id": "091902ce",
   "metadata": {},
   "source": [
    "### 8. Use the SQL Queries to Verify Max and Average Values."
   ]
  },
  {
   "cell_type": "code",
   "execution_count": null,
   "id": "c81bbbd4",
   "metadata": {},
   "outputs": [],
   "source": [
    "%%sql\n",
    "\n",
    "Select AVG(Value)\n",
    "From yogurt_production"
   ]
  },
  {
   "cell_type": "code",
   "execution_count": null,
   "id": "f211f5dc",
   "metadata": {},
   "outputs": [],
   "source": [
    "%%sql\n",
    "\n",
    "Select Max(Value)\n",
    "From yogurt_production"
   ]
  },
  {
   "cell_type": "markdown",
   "id": "b120c721",
   "metadata": {},
   "source": [
    "### 9. Create a Histogram and Box Plot to Identify Outliers. "
   ]
  },
  {
   "cell_type": "code",
   "execution_count": null,
   "id": "a08219d1",
   "metadata": {},
   "outputs": [],
   "source": [
    "histogr = yogurt_production.hist(figsize=(20, 20), rwidth=0.95)\n",
    "\n",
    "# Apply formatting to all axes\n",
    "for a in histogr.flatten():\n",
    "    a.tick_params(axis='x', rotation=5)\n",
    "    a.ticklabel_format(style='plain', axis='x')  # Prevent scientific notation\n",
    "    a.xaxis.set_major_formatter(ticker.FuncFormatter(lambda x, _: f'{x:,.0f}'))\n",
    "    a.yaxis.set_major_formatter(ticker.FuncFormatter(lambda y, _: f'{y:,.0f}'))\n",
    "\n",
    "plt.tight_layout()\n",
    "plt.show()"
   ]
  },
  {
   "cell_type": "markdown",
   "id": "4d76edb0",
   "metadata": {},
   "source": [
    "### 10. Sort Data by Value to Verify Distribution."
   ]
  },
  {
   "cell_type": "code",
   "execution_count": null,
   "id": "bed0923e",
   "metadata": {},
   "outputs": [],
   "source": [
    "yogurt_production[['Value', 'State_ANSI', 'Year']].sort_values(by='Value', ascending=False)"
   ]
  },
  {
   "cell_type": "code",
   "execution_count": null,
   "id": "733ed6bc",
   "metadata": {},
   "outputs": [],
   "source": [
    "yogurt_production.boxplot('Value')"
   ]
  },
  {
   "cell_type": "markdown",
   "id": "7fd1a9a4",
   "metadata": {},
   "source": [
    "### 11. Use PRAGMA to Check Column Data Type in SQLite query "
   ]
  },
  {
   "cell_type": "code",
   "execution_count": null,
   "id": "beefbda8",
   "metadata": {
    "scrolled": true
   },
   "outputs": [],
   "source": [
    "%%sql\n",
    "\n",
    "PRAGMA table_info(yogurt_production);"
   ]
  },
  {
   "cell_type": "markdown",
   "id": "0f4143d2",
   "metadata": {},
   "source": [
    "### 12. Confirm Null Values in the Value Column"
   ]
  },
  {
   "cell_type": "code",
   "execution_count": null,
   "id": "26e627b4",
   "metadata": {},
   "outputs": [],
   "source": [
    "%%sql\n",
    "\n",
    "Select \n",
    "    Year, State_ANSI, Value\n",
    "From yogurt_production\n",
    "Where Value is null"
   ]
  },
  {
   "cell_type": "markdown",
   "id": "3512cf98",
   "metadata": {},
   "source": [
    "## Scenario:"
   ]
  },
  {
   "cell_type": "markdown",
   "id": "488dcdb1",
   "metadata": {},
   "source": [
    "### 1. What is the State_ANSI code for Florida?"
   ]
  },
  {
   "cell_type": "code",
   "execution_count": null,
   "id": "c0caeebc",
   "metadata": {},
   "outputs": [],
   "source": [
    "%%sql \n",
    "\n",
    "Select State, State_ANSI \n",
    "    From \n",
    "        state_lookup\n",
    "    Where\n",
    "        State = 'FLORIDA'"
   ]
  },
  {
   "cell_type": "markdown",
   "id": "03d3a2de",
   "metadata": {},
   "source": [
    "### 2. What is the total cheese production for 2023?"
   ]
  },
  {
   "cell_type": "code",
   "execution_count": null,
   "id": "7b339c48",
   "metadata": {},
   "outputs": [],
   "source": [
    "%%sql\n",
    "\n",
    "Select Year, Sum(Value2) AS Total_Cheese_Production\n",
    "    From \n",
    "        cheese_production\n",
    "    where \n",
    "        Year = 2023"
   ]
  },
  {
   "cell_type": "code",
   "execution_count": null,
   "id": "4e54c806",
   "metadata": {},
   "outputs": [],
   "source": [
    "# Step 1: Filter to 2023\n",
    "cheese_2023 = cheese_production[cheese_production[\"Year\"] == 2023]\n",
    "\n",
    "# Step 2: Sum the 'Value' column\n",
    "total_value_2023 = cheese_2023[\"Value\"].sum()\n",
    "\n",
    "# Step 3: Create a new DataFrame with the total\n",
    "sum_df = pd.DataFrame({\"Year\": [2023], \"Value\": [total_value_2023]})\n",
    "\n",
    "# Step 4: Plot it\n",
    "g = sns.catplot(data=sum_df, x=\"Year\", y=\"Value\", kind=\"bar\", height=4, aspect=0.5, palette=[\"#742121\"])\n",
    "\n",
    "# Step 5: Add data label above the bar\n",
    "for ax in g.axes.flat:\n",
    "    for bar in ax.patches:\n",
    "        height = bar.get_height()\n",
    "        ax.annotate(f'{height:,.0f}', \n",
    "                    (bar.get_x() + bar.get_width() / 2., height),\n",
    "                    ha='center', va='bottom', fontsize=10, fontweight='bold')\n",
    "\n",
    "    # Disable scientific notation on y-axis\n",
    "    ax.yaxis.set_major_formatter(ticker.FuncFormatter(lambda x, _: f'{x:,.0f}'))\n",
    "\n",
    "# Add a title\n",
    "plt.title(\"Total Cheese Production 2023\")\n",
    "\n",
    "# Show the plot\n",
    "plt.show()"
   ]
  },
  {
   "cell_type": "markdown",
   "id": "4e33b0d1",
   "metadata": {},
   "source": [
    "### 3. How much cheese did New Jersey produce in April 2023?"
   ]
  },
  {
   "cell_type": "code",
   "execution_count": null,
   "id": "22829db1",
   "metadata": {},
   "outputs": [],
   "source": [
    "%%sql\n",
    "\n",
    "Select cp.Period, cp.Year, sl.State, sl.State_ANSI, cp.Value2 AS cheese_production \n",
    "    From \n",
    "        cheese_production cp\n",
    "      Join\n",
    "        state_lookup sl on \n",
    "        sl.State_ANSI = cp.State_ANSI\n",
    "    Where \n",
    "        cp.Period = 'APR' AND \n",
    "        cp.Year = 2023 AND \n",
    "        sl.State = 'NEW JERSEY' AND \n",
    "        sl.State_ANSI = 34"
   ]
  },
  {
   "cell_type": "code",
   "execution_count": null,
   "id": "111cb179",
   "metadata": {
    "scrolled": false
   },
   "outputs": [],
   "source": [
    "# Step 1: Filter to State_ANSI = 34, and April 2023\n",
    "njcheese = cheese_production[(cheese_production[\"State_ANSI\"] == 34) & (cheese_production[\"Year\"] == 2023)]\n",
    "\n",
    "# Step 4: Plot it\n",
    "l = sns.catplot(data=njcheese, x=\"Period\", y=\"Value\", kind=\"bar\", height=4, aspect=2.5, \n",
    "                palette=[\"#fdc543\", \"#742121\", \"#108372\", \"#108372\"])\n",
    "\n",
    "# Step 5: Add data labels and format y-axis\n",
    "for ax in l.axes.flat:\n",
    "    for bar in ax.patches:\n",
    "        height = bar.get_height()\n",
    "        ax.annotate(f'{height:,.0f}', \n",
    "                    (bar.get_x() + bar.get_width() / 2., height),\n",
    "                    ha='center', va='bottom', fontsize=10, fontweight='bold')\n",
    "    \n",
    "    # Disable scientific notation and add commas to y-axis\n",
    "    ax.yaxis.set_major_formatter(ticker.FuncFormatter(lambda x, _: f'{x:,.0f}'))\n",
    "\n",
    "# Add a title\n",
    "plt.subplots_adjust(top=0.85)\n",
    "l.fig.suptitle(\"New Jersey Cheese Production 2023\", fontsize=18)\n",
    "\n",
    "# Show the plot\n",
    "plt.show()"
   ]
  },
  {
   "cell_type": "markdown",
   "id": "6b88e733",
   "metadata": {},
   "source": [
    "### 4. How many states have cheese production greater than 100 million in April 2023?"
   ]
  },
  {
   "cell_type": "code",
   "execution_count": null,
   "id": "297d38f5",
   "metadata": {},
   "outputs": [],
   "source": [
    "%%sql\n",
    "\n",
    "Select cp.Period, cp.Year, sl.State, cp.State_ANSI, cp.Value2 AS Total_Cheese_Production\n",
    "    From \n",
    "        cheese_production cp\n",
    "    Left Join \n",
    "        state_lookup sl on\n",
    "            sl.State_ANSI = cp.State_ANSI\n",
    "        Where \n",
    "            cp.Value2 > 100000000 AND \n",
    "            cp.Period = 'APR' AND\n",
    "            Year = 2023"
   ]
  },
  {
   "cell_type": "code",
   "execution_count": null,
   "id": "a72ca8d3",
   "metadata": {},
   "outputs": [],
   "source": [
    "%%sql\n",
    "\n",
    "Select cp.Period, cp.Year, sl.State, cp.State_ANSI, cp.Value2 AS Total_Cheese_Production\n",
    "    From \n",
    "        cheese_production cp\n",
    "    Inner Join \n",
    "        state_lookup sl on\n",
    "            sl.State_ANSI = cp.State_ANSI\n",
    "        Where \n",
    "            cp.Value2 > 100000000 AND \n",
    "            cp.Period = 'APR' AND\n",
    "            Year = 2023"
   ]
  },
  {
   "cell_type": "code",
   "execution_count": null,
   "id": "f2115adc",
   "metadata": {},
   "outputs": [],
   "source": [
    "# Step 1: Filter to Value = 34,  Year = 2023, and Period = APR\n",
    "greatestcheese = cheese_production[(cheese_production[\"Value\"] >= 100000000) & \n",
    "                                   (cheese_production[\"Year\"] == 2023) & \n",
    "                                   (cheese_production[\"Period\"] == 'APR')]\n",
    "\n",
    "#Plot here\n",
    "greatestcheese = pd.merge(greatestcheese, state_lookup, left_on='State_ANSI', right_on='State_ANSI', how='left')\n",
    "greatestcheese.loc[greatestcheese[\"State\"].isna(), \"State\"] = \"State Value Unknown\"\n",
    "\n",
    "# Step 4: Plot it\n",
    "m = sns.catplot(data=greatestcheese, x=\"State\", y=\"Value\", kind=\"bar\", height=4, aspect=1.75, \n",
    "                palette=[\"#742121\",\"#108372\",\"#38556F\"])\n",
    "\n",
    "# Step 5: Add data label above the bar\n",
    "for ax in m.axes.flat:\n",
    "    for bar in ax.patches:\n",
    "        height = bar.get_height()\n",
    "        ax.annotate(f'{height:,.0f}', \n",
    "                    (bar.get_x() + bar.get_width() / 2., height),\n",
    "                    ha='center', va='bottom', fontsize=10, fontweight='bold')\n",
    "\n",
    "    # Disable scientific notation on y-axis\n",
    "    ax.yaxis.set_major_formatter(ticker.FuncFormatter(lambda x, _: f'{x:,.0f}'))\n",
    "\n",
    "# Add a title\n",
    "plt.title(\"States With 2023 Cheese Production Greater Than 100M\", fontsize=18)\n",
    "\n",
    "# Show the plot\n",
    "plt.show()"
   ]
  },
  {
   "cell_type": "markdown",
   "id": "ef528ae6",
   "metadata": {},
   "source": [
    "### 5. How much cheese did ALL states provide in 2023 by month?"
   ]
  },
  {
   "cell_type": "code",
   "execution_count": null,
   "id": "efe613a0",
   "metadata": {},
   "outputs": [],
   "source": [
    "%%sql\n",
    "\n",
    "Select  Year, Period, Sum(Value2) AS Total_Cheese_Production\n",
    "    From \n",
    "        cheese_production\n",
    "    Where \n",
    "        Year = 2023\n",
    "    Group By \n",
    "        Period\n",
    "    Order By\n",
    "        Sum(Value2) DESC"
   ]
  },
  {
   "cell_type": "code",
   "execution_count": null,
   "id": "19b4b97e",
   "metadata": {},
   "outputs": [],
   "source": [
    "# Step 1: Filter to 2023\n",
    "\n",
    "allcheese = cheese_production[cheese_production[\"Year\"] == 2023]\n",
    "\n",
    "# Group the data\n",
    "allbcheese = allcheese.groupby(['Period','Year'])[['Value']].agg({'Value': 'sum'}).reset_index()\n",
    "\n",
    "# Create the catplot\n",
    "g = sns.catplot(data=allbcheese, x='Period', y='Value',  kind='bar', height=5, aspect=2, \n",
    "                palette=[\"#584937\", \"#742121\", \n",
    "                         \"#584937\", \"#fdc543\"])\n",
    "\n",
    "plt.xticks(rotation=45)\n",
    "plt.title(\"Cheese Consumption by Period of 2023\", fontsize=25)\n",
    "\n",
    "# Add values on top of the bars\n",
    "for bar in g.ax.patches:\n",
    "    height = bar.get_height()\n",
    "    g.ax.annotate(f'{height:,.0f}',\n",
    "                  xy=(bar.get_x() + bar.get_width() / 2, height),\n",
    "                  xytext=(0, 3),  # 3 points vertical offset\n",
    "                  textcoords=\"offset points\",\n",
    "                  ha='center', va='bottom', fontsize=9, fontweight='bold')\n",
    "\n",
    "# Format y-axis labels\n",
    "g.ax.yaxis.set_major_formatter(ticker.FuncFormatter(lambda x, _: f'{x:,.0f}'))\n",
    "\n",
    " \n",
    "plt.tight_layout()\n",
    "plt.show()"
   ]
  },
  {
   "cell_type": "markdown",
   "id": "922815e1",
   "metadata": {},
   "source": [
    "### 6. Find the total cheese production for each month in 2022."
   ]
  },
  {
   "cell_type": "code",
   "execution_count": null,
   "id": "422764b8",
   "metadata": {},
   "outputs": [],
   "source": [
    "%%sql \n",
    "\n",
    "    Select Year, Period, Sum(Value2) AS Total_Cheese_Production\n",
    "    From \n",
    "        cheese_production\n",
    "    Where \n",
    "        Year = 2022\n",
    "    Group By \n",
    "        Period\n",
    "    Order By \n",
    "        Sum(Value2) Desc"
   ]
  },
  {
   "cell_type": "code",
   "execution_count": null,
   "id": "cb2187e7",
   "metadata": {
    "scrolled": true
   },
   "outputs": [],
   "source": [
    "# Step 1: Filter to 2022 \n",
    "cheese_202 = cheese_production[cheese_production[\"Year\"] == 2022]\n",
    "\n",
    "# Group the data\n",
    "cheese_2022 = cheese_202.groupby(['Period', 'Year'])[['Value']].agg({'Value': 'sum'}).reset_index()\n",
    "\n",
    "# Create the catplot and capture the object\n",
    "g = sns.catplot(data=cheese_2022, x='Period', y='Value', kind='bar', height=7.5, aspect=5.0, \n",
    "                palette=[\"#fdc543\", \"#fdc543\", \"#fdc543\", \"#fdc543\", \"#fdc543\", \"#fdc543\", \"#fdc543\", \n",
    "                         \"#fdc543\", \"#fdc543\", \"#fdc543\", \"#fdc543\", \"#fdc543\", \"#38556F\"])\n",
    "\n",
    "# Rotate x labels\n",
    "g.ax.set_xticklabels(g.ax.get_xticklabels(), rotation=45)\n",
    "\n",
    "# Set title\n",
    "g.ax.set_title(\"2022 Cheese Consumption by Period\", fontsize=45)\n",
    "\n",
    "# Set x and y axis labels with increased font size\n",
    "g.ax.set_xlabel(\"Period\", fontsize=30)\n",
    "g.ax.set_ylabel(\"Value\", fontsize=40)\n",
    "\n",
    "# Increase font size of x and y-axis tick labels\n",
    "for label in g.ax.get_yticklabels():\n",
    "    label.set_fontsize(26)\n",
    "g.ax.tick_params(axis='x', labelrotation=20, labelsize=31)\n",
    "g.ax.tick_params(axis='y', labelsize=27)\n",
    "\n",
    "# Format y-axis\n",
    "g.ax.yaxis.set_major_formatter(ticker.FuncFormatter(lambda x, _: f'{int(x):,}'))\n",
    "\n",
    "# Add values on top of bars\n",
    "for bar in g.ax.patches:\n",
    "    height = bar.get_height()\n",
    "    g.ax.annotate(f'{height:,.0f}',\n",
    "                  xy=(bar.get_x() + bar.get_width() / 2, height),\n",
    "                  xytext=(0, 3),\n",
    "                  textcoords=\"offset points\",\n",
    "                  ha='center', va='bottom', fontsize=23, fontweight='bold')\n",
    "\n",
    "\n",
    "# Tidy layout and show plot\n",
    "plt.tight_layout()\n",
    "plt.show()"
   ]
  },
  {
   "cell_type": "code",
   "execution_count": null,
   "id": "ded933ee",
   "metadata": {
    "scrolled": false
   },
   "outputs": [],
   "source": [
    "%%sql\n",
    "    Select Year, Sum(Value2) AS Total_Cheese_Production \n",
    "    From cheese_production\n",
    "    Where Year = 2022"
   ]
  },
  {
   "cell_type": "code",
   "execution_count": null,
   "id": "97765273",
   "metadata": {},
   "outputs": [],
   "source": [
    "# Please note that there is an additional bar for 2022 labeled Year, but is not the total for the Year of 2022. \n",
    "# This could attribute to the missing data for the months in 2023, or missing data from 2022. "
   ]
  },
  {
   "cell_type": "markdown",
   "id": "d1d34752",
   "metadata": {},
   "source": [
    "### 7. What is the total yogurt production for states in the year 2022 which also have cheese production data from 2023?"
   ]
  },
  {
   "cell_type": "code",
   "execution_count": null,
   "id": "2b72b4c1",
   "metadata": {},
   "outputs": [],
   "source": [
    "%%sql\n",
    "\n",
    "\n",
    "SELECT yp.Year, yp.State_ANSI, (yp.Value) AS Yogurt_Production\n",
    "FROM \n",
    "    yogurt_production yp\n",
    "WHERE \n",
    "    yp.Year = 2022 and \n",
    "            yp.State_ANSI in \n",
    "                (SELECT DISTINCT cp.State_ANSI \n",
    "                 FROM cheese_production cp\n",
    "                 WHERE cp.Year = 2023) \n",
    "    "
   ]
  },
  {
   "cell_type": "code",
   "execution_count": null,
   "id": "09fbb4c9",
   "metadata": {},
   "outputs": [],
   "source": [
    "%%sql\n",
    "\n",
    "\n",
    "SELECT yp.Year, Sum(yp.Value) AS Total_Yogurt_Production \n",
    "FROM \n",
    "    yogurt_production yp\n",
    "WHERE \n",
    "    yp.Year = 2022 and \n",
    "            yp.State_ANSI in \n",
    "                (SELECT DISTINCT cp.State_ANSI \n",
    "                 FROM cheese_production cp\n",
    "                 WHERE cp.Year = 2023) "
   ]
  },
  {
   "cell_type": "code",
   "execution_count": null,
   "id": "9ada1036",
   "metadata": {},
   "outputs": [],
   "source": [
    "# Filter 2023 cheese production and get unique State_ANSI values\n",
    "cheese_states_2023 = cheese_production[cheese_production['Year'] == 2023]['State_ANSI'].unique()\n",
    "\n",
    "# Filter 2022 yogurt production for only those states found in 2023 cheese production\n",
    "yogurt_2022_filtered = yogurt_production[\n",
    "    (yogurt_production['Year'] == 2022) &\n",
    "    (yogurt_production['State_ANSI'].isin(cheese_states_2023))\n",
    "]\n",
    "\n",
    "# Merge with state lookup\n",
    "yogurt_2022_merged = pd.merge(yogurt_2022_filtered, state_lookup, on='State_ANSI', how='left')\n",
    "\n",
    "# Define a function to show absolute values in pie chart\n",
    "def absolute_value(val):\n",
    "    total = yogurt_2022_merged['Value'].sum()\n",
    "    absolute = int(round(val / 100 * total))\n",
    "    return f'{absolute:,}'\n",
    "\n",
    "# Plot pie chart\n",
    "plt.pie(\n",
    "    yogurt_2022_merged['Value'], \n",
    "    labels=yogurt_2022_merged['State'], \n",
    "    autopct=absolute_value, \n",
    "    explode=[0.1] + [0]*(len(yogurt_2022_merged)-1),  # explode only first slice\n",
    "    shadow=True, \n",
    "    startangle=140,\n",
    "colors=([\"#767750\", #Maroon\n",
    "        \"#742121\"])\n",
    ")\n",
    "plt.title('2022 Yogurt Production', fontsize=22)\n",
    "plt.axis('equal')  # Equal aspect ratio ensures that pie is drawn as a circle.\n",
    "plt.show()"
   ]
  },
  {
   "cell_type": "markdown",
   "id": "2c4058e4",
   "metadata": {},
   "source": [
    "### 8. What States produced milk in 2023?"
   ]
  },
  {
   "cell_type": "code",
   "execution_count": null,
   "id": "a15b0b60",
   "metadata": {},
   "outputs": [],
   "source": [
    "%%sql\n",
    "\n",
    "\n",
    "Select mp.Year, sl.State, mp.State_ANSI, Sum(Value) AS Milk_Production_By_State\n",
    "    From \n",
    "        milk_production mp\n",
    "    Inner Join \n",
    "        state_lookup sl on\n",
    "            mp.State_ANSI = sl.State_ANSI \n",
    "    Where mp.Year = 2023\n",
    "    Group By\n",
    "        mp.State_ANSI \n",
    "    Order By \n",
    "        mp.Value DESC"
   ]
  },
  {
   "cell_type": "code",
   "execution_count": null,
   "id": "0945057c",
   "metadata": {
    "scrolled": false
   },
   "outputs": [],
   "source": [
    "# Filter and prepare data\n",
    "milk_202 = milk_production[milk_production['Year'] == 2023]\n",
    "milk_202 = pd.merge(milk_202, state_lookup, on='State_ANSI', how='left')\n",
    "milk_2023 = milk_202.groupby(['State', 'Year'])['Value'].sum(min_count=1).reset_index()\n",
    "\n",
    "# Sort states by milk consumption in descending order\n",
    "milk_2023 = milk_2023.sort_values('Value', ascending=False)\n",
    "\n",
    "# Create the horizontal bar plot\n",
    "g = sns.catplot(\n",
    "    data=milk_2023,\n",
    "    y='State',  # now on y-axis\n",
    "    x='Value',  # now on x-axis\n",
    "    kind='bar', orient='h',\n",
    "    height=12,  # adjust for better spacing\n",
    "    aspect=1.2,\n",
    "    palette=[\"#fdc543\" , #Yellow  \n",
    "            \"#fdc543\", #Yellow \n",
    "             \"#742121\" , #Maroon\n",
    "             \"#742121\", #Maroon\n",
    "             \"#742121\", #Maroon\n",
    "             \"#406E3C\", #Green  \n",
    "             \"#406E3C\" , #Green  \n",
    "             \"#406E3C\", #Green  \n",
    "             \"#6F3193\", #purple\n",
    "             \"#6F3193\", #purple\n",
    "             \"#6F3193\", #purple\n",
    "             \"#6F3193\", #purple\n",
    "             \"#6F3193\" , #purple\n",
    "             \"#6F3193\", #purple\n",
    "             \"#6F3193\", #purple\n",
    "             \"#6F3193\", #purple\n",
    "             \"#6F3193\", #purple\n",
    "             \"#3F438D\", #Blue\n",
    "             \"#3F438D\" , #Blue\n",
    "             \"#767750\", #Olive\n",
    "             \"#767750\", #Olive\n",
    "             \"#767750\", #Olive\n",
    "             \"#767750\" , #Olive\n",
    "             \"#767750\", #Olive\n",
    "            ]\n",
    ")\n",
    "\n",
    "# Set title\n",
    "g.ax.set_title(\"2023 Milk Consumption by State\", fontsize=25)\n",
    "\n",
    "# Format x-axis with commas\n",
    "g.ax.xaxis.set_major_formatter(ticker.FuncFormatter(lambda x, _: f'{int(x):,}'))\n",
    "\n",
    "# Add values to the right of bars\n",
    "for bar in g.ax.patches:\n",
    "    width = bar.get_width()\n",
    "    if not pd.isna(width):\n",
    "        g.ax.annotate(f'{width:,.0f}',\n",
    "                      xy=(width, bar.get_y() + bar.get_height() / 2),\n",
    "                      xytext=(5, 0),\n",
    "                      textcoords='offset points',\n",
    "                      ha='left', va='center', fontsize=12, fontweight='bold')\n",
    "        \n",
    "plt.tight_layout()\n",
    "plt.show()"
   ]
  },
  {
   "cell_type": "markdown",
   "id": "1b7a2093",
   "metadata": {},
   "source": [
    "### 9. Did Delaware produce any cheese in April 2023?"
   ]
  },
  {
   "cell_type": "code",
   "execution_count": null,
   "id": "7ff30a37",
   "metadata": {},
   "outputs": [],
   "source": [
    "%%sql\n",
    "\n",
    "    Select cp.Year, cp.Period, cp.State_ANSI, sl.State, cp.Value2 AS Total_Cheese_Production\n",
    "        From\n",
    "            cheese_production cp\n",
    "        Left Join\n",
    "            state_lookup sl on\n",
    "            cp.State_ANSI = sl.State_ANSI\n",
    "       Where \n",
    "            cp.Period = 'APR' AND\n",
    "            cp.Year = 2023\n",
    "        Order By\n",
    "            sl.State Desc"
   ]
  },
  {
   "cell_type": "code",
   "execution_count": null,
   "id": "94174e3e",
   "metadata": {},
   "outputs": [],
   "source": [
    "# Step 1: Filter to 2023\n",
    "cheese_apr = cheese_production[cheese_production['Year'] == 2023]\n",
    "\n",
    "# Merge in state names if not already done\n",
    "cheese_apr = pd.merge(cheese_apr, state_lookup, on='State_ANSI', how='left')\n",
    "\n",
    "# Group by State and Year\n",
    "cheese_apr2023 = cheese_apr.groupby(['State', 'Year'], dropna=False)['Value'].sum(min_count=1).reset_index()\n",
    "\n",
    "# Sort states by milk consumption in descending order\n",
    "cheese_apr2023 = cheese_apr2023.sort_values('Value', ascending=False)\n",
    "\n",
    "# Plot\n",
    "g = sns.catplot(data=cheese_apr2023, x='State', y='Value', kind='bar', height=8, aspect=1.5, \n",
    "                palette=[\"#fdc543\" , #Yellow \n",
    "                         \"#fdc543\" , #Yellow\n",
    "                         \"#742121\", #Maroon\n",
    "                         \"#742121\", #Maroon\n",
    "                         \"#406E3C\" , #Green \n",
    "                         \"#406E3C\" , #Green \n",
    "                         \"#6F3193\", #purple\n",
    "                         \"#6F3193\", #purple\n",
    "                         \"#6F3193\", #purple\n",
    "                         \"#3F438D\", #Blue\n",
    "                         \"#3F438D\", #Blue\n",
    "                         \"#767750\", #Olive\n",
    "                         \"#767750\", #Olive\n",
    "                        ])\n",
    "\n",
    "# Rotate x-axis labels\n",
    "g.ax.set_xticklabels(g.ax.get_xticklabels(), rotation=45)\n",
    "\n",
    "# Title and y-axis formatting\n",
    "g.ax.set_title(\"2023 Cheese Consumption by State\", fontsize=25)\n",
    "g.ax.yaxis.set_major_formatter(ticker.FuncFormatter(lambda x, _: f'{x:,.0f}'))\n",
    "\n",
    "# Add value labels\n",
    "for bar in g.ax.patches:\n",
    "    height = bar.get_height()\n",
    "    g.ax.annotate(f'{height:,.0f}',\n",
    "                  xy=(bar.get_x() + bar.get_width() / 2, height),\n",
    "                  xytext=(0, 3),\n",
    "                  textcoords='offset points',\n",
    "                  ha='center', va='bottom', fontsize=8.95, fontweight='bold')\n",
    "\n",
    "# Remove legend if it exists\n",
    "if g._legend:\n",
    "    g._legend.remove()\n",
    "\n",
    "plt.tight_layout()\n",
    "plt.show()"
   ]
  },
  {
   "cell_type": "markdown",
   "id": "2d034845",
   "metadata": {},
   "source": [
    "### 10. Your dairy division is planning on giving awards to States with the greatest influence on dairy sales for the COVID years of 2021 and 2022. In order to receive the award, States must place in the top 5 on 2 out of the 3 dairy influencers. How many States will receive an award?"
   ]
  },
  {
   "cell_type": "markdown",
   "id": "7a61f079",
   "metadata": {},
   "source": [
    "### <u> Yogurt Production 2021 and 2022</u>"
   ]
  },
  {
   "cell_type": "code",
   "execution_count": null,
   "id": "b897b9bd",
   "metadata": {},
   "outputs": [],
   "source": [
    "%%sql\n",
    "\n",
    "SELECT \n",
    "    yp.Year,\n",
    "    sl.State,\n",
    "    yp.State_ANSI,\n",
    "    yp.Value AS Total_Yogurt_Production\n",
    "From \n",
    "    yogurt_production yp\n",
    "Left Join \n",
    "    state_lookup sl on\n",
    "    yp.State_ANSI = sl.State_ANSI\n",
    "Where \n",
    "    Year in (2021, 2022)\n",
    "Group By yp.Value\n",
    "Order By yp.Year, yp.Value DESC"
   ]
  },
  {
   "cell_type": "code",
   "execution_count": null,
   "id": "4aed34d7",
   "metadata": {},
   "outputs": [],
   "source": [
    "# Filter for 2021 and 2022 data\n",
    "yog = yogurt_production[yogurt_production['Year'].isin([2021, 2022])]\n",
    "\n",
    "# Group and rank yogurt production by state and year\n",
    "yogu = (\n",
    "    yog.groupby(['Year', 'State_ANSI'], dropna=False)[['Value']]\n",
    "    .sum(min_count=1)\n",
    "    .reset_index()\n",
    ")\n",
    "\n",
    "yogu['dense_rank'] = yogu.groupby('Year', dropna=False)['Value'] \\\n",
    "                         .rank(method='dense', ascending=False, na_option='keep')\n",
    "\n",
    "# Merge with state lookup and sort\n",
    "yogut = pd.merge(yogu, state_lookup, on='State_ANSI', how='left')\n",
    "sorted_yogu = yogut.sort_values(by='dense_rank', ascending=True, na_position='last')\n",
    "\n",
    "# Plotting (horizontal bar chart)\n",
    "rt = sns.catplot(\n",
    "    data=sorted_yogu, kind=\"bar\", y='State', x='Value', hue=\"Year\",\n",
    "    palette=[\"#fdc543\", \"#0b856f\"], alpha=.6, height=10, aspect=1.2\n",
    ")\n",
    "rt.despine(left=True)\n",
    "rt.set_axis_labels(\"Yogurt Production Value\", \"State\")\n",
    "rt.legend.set_title(\"Year\")\n",
    "rt.ax.xaxis.set_major_formatter(StrMethodFormatter('{x:,.0f}'))\n",
    "rt.fig.suptitle(\"Yogurt Production by State in 2021 and 2022\", fontsize=17, fontweight='bold')\n",
    "\n",
    "# Annotate bars with values\n",
    "for bar in rt.ax.patches:\n",
    "    width = bar.get_width()\n",
    "    rt.ax.annotate(f'{width:,.0f}',\n",
    "                   xy=(width, bar.get_y() + bar.get_height() / 2),\n",
    "                   xytext=(3, 0),\n",
    "                   textcoords=\"offset points\",\n",
    "                   ha='left', va='center', fontsize=9, fontweight='bold')\n",
    "\n",
    "# Adjust legend position\n",
    "rt._legend.set_bbox_to_anchor((1, 0.45))\n",
    "\n",
    "plt.tight_layout()\n",
    "plt.show()"
   ]
  },
  {
   "cell_type": "markdown",
   "id": "66e27354",
   "metadata": {},
   "source": [
    "### <u>Milk Production 2021 and 2022</u>"
   ]
  },
  {
   "cell_type": "code",
   "execution_count": null,
   "id": "07112786",
   "metadata": {},
   "outputs": [],
   "source": [
    "%%sql\n",
    "\n",
    "Select \n",
    "        mp.Year,\n",
    "        sl.State,\n",
    "        sum(Value) AS Total_Milk_Production,\n",
    "        row_number() OVER (Partition By Year Order By sum(Value) DESC) rank\n",
    "    From\n",
    "        milk_production mp\n",
    "    Left Join \n",
    "        state_lookup sl on\n",
    "        mp.State_ANSI = sl.State_ANSI\n",
    "    where mp.Year in (2021, 2022)\n",
    "    Group By \n",
    "        mp.Year,\n",
    "        mp.State_ANSI\n",
    "    Order By\n",
    "        rank\n",
    "    limit 10"
   ]
  },
  {
   "cell_type": "code",
   "execution_count": null,
   "id": "aebe878d",
   "metadata": {},
   "outputs": [],
   "source": [
    "# Step 1–4: Filter, group, rank, and merge\n",
    "mi = (\n",
    "    milk_production[milk_production['Year'].isin([2021, 2022])]\n",
    "    .groupby(['Year', 'State_ANSI'], dropna=False)[['Value']]\n",
    "    .sum(min_count=1)\n",
    "    .reset_index()\n",
    ")\n",
    "mi['dense_rank'] = mi.groupby('Year', dropna=False)['Value'].rank(method='dense', ascending=False, na_option='keep')\n",
    "mi = pd.merge(mi, state_lookup, on='State_ANSI', how='left')\n",
    "\n",
    "# Step 5: Filter top 5 per year and prepare for plotting\n",
    "mil_df = (\n",
    "    mi[mi['dense_rank'] <= 5]\n",
    "    .sort_values(by=['dense_rank', 'Year'], ascending=[True, True])\n",
    ")\n",
    "\n",
    "# Plot (horizontal bars)\n",
    "sns.set(style=\"whitegrid\")\n",
    "g = sns.catplot(\n",
    "    data=mil_df, y=\"State\", x=\"Value\", hue=\"Year\", kind=\"bar\", height=6, aspect=2,\n",
    "    palette=[\"#0b856f\", \"#93845c\"]\n",
    ")\n",
    "\n",
    "g.set_axis_labels(\"Milk Production Value\", \"State\")\n",
    "g.fig.suptitle(\"Milk Production by State in 2021 and 2022\", fontsize=20, fontweight='bold')\n",
    "g._legend.set_bbox_to_anchor((0.97, 0.5))\n",
    "g.ax.xaxis.set_major_formatter(StrMethodFormatter('{x:,.0f}'))\n",
    "g.ax.set_yticklabels(g.ax.get_yticklabels(), rotation=0)\n",
    "\n",
    "# Annotate values on bars (horizontal)\n",
    "for bar in g.ax.patches:\n",
    "    width = bar.get_width()\n",
    "    if not pd.isna(width):\n",
    "        g.ax.annotate(f'{width:,.0f}',\n",
    "                      xy=(width, bar.get_y() + bar.get_height() / 2),\n",
    "                      xytext=(4, 0),\n",
    "                      textcoords=\"offset points\",\n",
    "                      ha='left', va='center',\n",
    "                      fontsize=10, fontweight='bold')\n",
    "\n",
    "plt.tight_layout()\n",
    "plt.show()"
   ]
  },
  {
   "cell_type": "markdown",
   "id": "6434ffbd",
   "metadata": {},
   "source": [
    "### <u> Cheese Production 2021 and 2022</u>"
   ]
  },
  {
   "cell_type": "code",
   "execution_count": null,
   "id": "bb93dc42",
   "metadata": {},
   "outputs": [],
   "source": [
    "%%sql\n",
    "\n",
    "Select \n",
    "        cp.Year,\n",
    "        sl.State,\n",
    "        sum(Value2) AS Total_Cheese_Production,\n",
    "        row_number() OVER (Partition By Year Order By sum(Value2) DESC) rank\n",
    "    From\n",
    "        cheese_production cp\n",
    "    Left Join \n",
    "        state_lookup sl on\n",
    "        cp.State_ANSI = sl.State_ANSI\n",
    "    where cp.Year in (2021, 2022)\n",
    "    Group By \n",
    "        cp.Year,\n",
    "        cp.State_ANSI\n",
    "    Order By\n",
    "        rank\n",
    "    limit 12"
   ]
  },
  {
   "cell_type": "code",
   "execution_count": null,
   "id": "0cf4951a",
   "metadata": {},
   "outputs": [],
   "source": [
    "# Filter, group, rank, and join with lookup in one pipeline\n",
    "top5_billmill = (\n",
    "    cheese_production[cheese_production['Year'].isin([2021, 2022])]\n",
    "    .groupby(['Year', 'State_ANSI'], dropna=False)[['Value']]\n",
    "    .sum(min_count=1)\n",
    "    .reset_index()\n",
    "    .assign(dense_rank=lambda df: df.groupby('Year')['Value'].rank(method='dense', ascending=False, na_option='keep'))\n",
    "    .sort_values(by='dense_rank', ascending=True, na_position='last')\n",
    "    .merge(state_lookup, on='State_ANSI', how='left')\n",
    "    .query('dense_rank <= 6')\n",
    "    .sort_values(by=['Year', 'dense_rank'])\n",
    ")\n",
    "\n",
    "top5_billmill['State'] = top5_billmill['State'].fillna(\"Unknown\")\n",
    "\n",
    "# Plotting\n",
    "sns.set(style=\"whitegrid\")\n",
    "g = sns.catplot(\n",
    "    data=top5_billmill, y=\"State\", x=\"Value\", hue=\"Year\", kind=\"bar\", height=6, aspect=2,\n",
    "    palette=[\"#8DC0E6\", \"#fdd472\"]\n",
    ")\n",
    "g.set_axis_labels(\"Cheese Production Value\", \"State\")\n",
    "g.fig.suptitle(\"Cheese Production by State in 2021 and 2022\", fontsize=20, fontweight='bold')\n",
    "g._legend.set_bbox_to_anchor((0.97, 0.5))\n",
    "g.ax.xaxis.set_major_formatter(StrMethodFormatter('{x:,.0f}'))\n",
    "\n",
    "# Annotate bars\n",
    "for bar in g.ax.patches:\n",
    "    width = bar.get_width()\n",
    "    if not pd.isna(width):\n",
    "        g.ax.annotate(f'{width:,.0f}',\n",
    "                      xy=(width, bar.get_y() + bar.get_height() / 2),\n",
    "                      xytext=(4, 0),\n",
    "                      textcoords=\"offset points\",\n",
    "                      ha='left', va='center',\n",
    "                      fontsize=10.25, fontweight='bold')\n",
    "\n",
    "plt.tight_layout()\n",
    "plt.show()"
   ]
  }
 ],
 "metadata": {
  "kernelspec": {
   "display_name": "Python 3 (ipykernel)",
   "language": "python",
   "name": "python3"
  },
  "language_info": {
   "codemirror_mode": {
    "name": "ipython",
    "version": 3
   },
   "file_extension": ".py",
   "mimetype": "text/x-python",
   "name": "python",
   "nbconvert_exporter": "python",
   "pygments_lexer": "ipython3",
   "version": "3.11.0"
  }
 },
 "nbformat": 4,
 "nbformat_minor": 5
}
